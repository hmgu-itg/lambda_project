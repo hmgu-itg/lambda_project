{
 "cells": [
  {
   "cell_type": "code",
   "execution_count": 39,
   "id": "edbc8814",
   "metadata": {},
   "outputs": [],
   "source": [
    "#loading necessary packages\n",
    "options(scipen=999)\n",
    "suppressPackageStartupMessages(library(data.table))\n",
    "suppressPackageStartupMessages(library(dplyr))\n",
    "suppressPackageStartupMessages(library(ggplot2))\n",
    "suppressPackageStartupMessages(library(grid))\n",
    "suppressPackageStartupMessages(library(ggpubr))\n",
    "suppressPackageStartupMessages(library(purrr))\n",
    "suppressPackageStartupMessages(library(VennDiagram))\n",
    "suppressPackageStartupMessages(library(RColorBrewer))\n",
    "suppressPackageStartupMessages(library(rtracklayer))\n",
    "suppressPackageStartupMessages(library(rtracklayer))\n",
    "suppressPackageStartupMessages(library(GenomicRanges))\n",
    "suppressPackageStartupMessages(library(liftOver))"
   ]
  },
  {
   "cell_type": "markdown",
   "id": "8e375cbb",
   "metadata": {},
   "source": [
    "## Calculating correlation between chi-square and LD-scores of ancestry specific meta-analysis"
   ]
  },
  {
   "cell_type": "markdown",
   "id": "cc111ef2",
   "metadata": {},
   "source": [
    "#### The LD-scores for EAS, AFR, AMR and SAS were sourced from https://bmcgenomics.biomedcentral.com/articles/10.1186/s12864-024-10293-3"
   ]
  },
  {
   "cell_type": "markdown",
   "id": "979167d9",
   "metadata": {},
   "source": [
    "#### We then transformed the genomic coordinates from hg38 to hg19"
   ]
  },
  {
   "cell_type": "code",
   "execution_count": 16,
   "id": "65cef14a",
   "metadata": {},
   "outputs": [
    {
     "name": "stderr",
     "output_type": "stream",
     "text": [
      "Warning message in inner_join(mapped_df, combined_df, by = \"id\"):\n",
      "“\u001b[1m\u001b[22mDetected an unexpected many-to-many relationship between `x` and `y`.\n",
      "\u001b[36mℹ\u001b[39m Row 24 of `x` matches multiple rows in `y`.\n",
      "\u001b[36mℹ\u001b[39m Row 24 of `y` matches multiple rows in `x`.\n",
      "\u001b[36mℹ\u001b[39m If a many-to-many relationship is expected, set `relationship =\n",
      "  \"many-to-many\"` to silence this warning.”\n",
      "Warning message in inner_join(mapped_df, combined_df, by = \"id\"):\n",
      "“\u001b[1m\u001b[22mDetected an unexpected many-to-many relationship between `x` and `y`.\n",
      "\u001b[36mℹ\u001b[39m Row 47 of `x` matches multiple rows in `y`.\n",
      "\u001b[36mℹ\u001b[39m Row 47 of `y` matches multiple rows in `x`.\n",
      "\u001b[36mℹ\u001b[39m If a many-to-many relationship is expected, set `relationship =\n",
      "  \"many-to-many\"` to silence this warning.”\n",
      "Warning message in inner_join(mapped_df, combined_df, by = \"id\"):\n",
      "“\u001b[1m\u001b[22mDetected an unexpected many-to-many relationship between `x` and `y`.\n",
      "\u001b[36mℹ\u001b[39m Row 39 of `x` matches multiple rows in `y`.\n",
      "\u001b[36mℹ\u001b[39m Row 39 of `y` matches multiple rows in `x`.\n",
      "\u001b[36mℹ\u001b[39m If a many-to-many relationship is expected, set `relationship =\n",
      "  \"many-to-many\"` to silence this warning.”\n",
      "Warning message in inner_join(mapped_df, combined_df, by = \"id\"):\n",
      "“\u001b[1m\u001b[22mDetected an unexpected many-to-many relationship between `x` and `y`.\n",
      "\u001b[36mℹ\u001b[39m Row 40 of `x` matches multiple rows in `y`.\n",
      "\u001b[36mℹ\u001b[39m Row 40 of `y` matches multiple rows in `x`.\n",
      "\u001b[36mℹ\u001b[39m If a many-to-many relationship is expected, set `relationship =\n",
      "  \"many-to-many\"` to silence this warning.”\n"
     ]
    }
   ],
   "source": [
    "# Define ancestries\n",
    "ancestries <- c(\"EAS\", \"SAS\", \"AFR\", \"AMR\")\n",
    "\n",
    "# Define path to chain file for liftover\n",
    "#path <- system.file(package = \"liftOver\", \"extdata\", \"hg38ToHg19.over.chain\")\n",
    "ch <- import.chain(\"/lustre/groups/itg/teams/zeggini/users/archit.singh/lambda/polygenicity_estimate/liftover/hg38ToHg19.over.chain\")\n",
    "\n",
    "# Loop through each ancestry\n",
    "for (ancestry in ancestries) {\n",
    "  # Define path for the current ancestry\n",
    "  ancestry_path <- file.path(\n",
    "    \"/lustre/groups/itg/teams/zeggini/users/archit.singh/lambda/polygenicity_estimate/LD_scores/1000G_5_ancestries_LDSCORE_panels\",\n",
    "    ancestry\n",
    "  )\n",
    "  \n",
    "  # Get a list of .gz files for the current ancestry\n",
    "  file_list <- list.files(path = ancestry_path, pattern = \"*.l2.ldscore.gz\", full.names = TRUE)\n",
    "  \n",
    "  # Read and combine all files\n",
    "  combined_df <- rbindlist(lapply(file_list, fread))\n",
    "  combined_df$id <- paste0(combined_df$CHR, \":\", combined_df$BP)\n",
    "  \n",
    "  # Convert to GRanges object\n",
    "  gr_snps <- GRanges(\n",
    "    seqnames = combined_df$CHR,\n",
    "    ranges = IRanges(start = combined_df$BP, end = combined_df$BP)\n",
    "  )\n",
    "  seqlevelsStyle(gr_snps) <- \"UCSC\"\n",
    "  \n",
    "  # Perform liftover\n",
    "  lifted_gr <- liftOver(gr_snps, ch)\n",
    "  \n",
    "  # Identify unmapped SNPs\n",
    "  unmapped <- which(elementNROWS(lifted_gr) == 0)\n",
    "  \n",
    "  # Keep only mapped SNPs\n",
    "  mapped_indices <- setdiff(seq_along(gr_snps), unmapped)\n",
    "  mapped_gr <- unlist(lifted_gr[mapped_indices])\n",
    "  \n",
    "  # Create a DataFrame for mapped positions\n",
    "  mapped_df <- data.frame(\n",
    "    chr_old = seqnames(gr_snps[mapped_indices]),\n",
    "    pos_old = start(gr_snps[mapped_indices]),\n",
    "    chr_new = seqnames(mapped_gr),\n",
    "    pos_new = start(mapped_gr)\n",
    "  )\n",
    "  mapped_df$chr_old <- gsub(\"^chr\", \"\", mapped_df$chr_old)\n",
    "  mapped_df$id <- paste0(mapped_df$chr_old, \":\", mapped_df$pos_old)\n",
    "  \n",
    "  # Join mapped positions with the combined ancestry data\n",
    "  tmp <- inner_join(mapped_df, combined_df, by = \"id\")\n",
    "  # Remove duplicates based on 'id'\n",
    "  tmp <- tmp[!duplicated(tmp$id), ]\n",
    "  tmp$chr_new <- gsub(\"^chr\", \"\", tmp$chr_new)\n",
    "  tmp$id <- paste0(tmp$chr_new, \":\", tmp$pos_new)\n",
    "  # Assign the final dataframe to a variable named after the ancestry\n",
    "  assign(paste0(ancestry, \"_LD_scores\"), tmp)\n",
    "}\n",
    "\n",
    "# The final result for each ancestry is now stored in separate dataframes, e.g., EAS_LD_scores, etc"
   ]
  },
  {
   "cell_type": "code",
   "execution_count": 17,
   "id": "d9c11dc5",
   "metadata": {},
   "outputs": [
    {
     "data": {
      "text/html": [
       "<style>\n",
       ".list-inline {list-style: none; margin:0; padding: 0}\n",
       ".list-inline>li {display: inline-block}\n",
       ".list-inline>li:not(:last-child)::after {content: \"\\00b7\"; padding: 0 .5ex}\n",
       "</style>\n",
       "<ol class=list-inline><li>8374870</li><li>9</li></ol>\n"
      ],
      "text/latex": [
       "\\begin{enumerate*}\n",
       "\\item 8374870\n",
       "\\item 9\n",
       "\\end{enumerate*}\n"
      ],
      "text/markdown": [
       "1. 8374870\n",
       "2. 9\n",
       "\n",
       "\n"
      ],
      "text/plain": [
       "[1] 8374870       9"
      ]
     },
     "metadata": {},
     "output_type": "display_data"
    },
    {
     "data": {
      "text/html": [
       "<style>\n",
       ".list-inline {list-style: none; margin:0; padding: 0}\n",
       ".list-inline>li {display: inline-block}\n",
       ".list-inline>li:not(:last-child)::after {content: \"\\00b7\"; padding: 0 .5ex}\n",
       "</style>\n",
       "<ol class=list-inline><li>9908880</li><li>9</li></ol>\n"
      ],
      "text/latex": [
       "\\begin{enumerate*}\n",
       "\\item 9908880\n",
       "\\item 9\n",
       "\\end{enumerate*}\n"
      ],
      "text/markdown": [
       "1. 9908880\n",
       "2. 9\n",
       "\n",
       "\n"
      ],
      "text/plain": [
       "[1] 9908880       9"
      ]
     },
     "metadata": {},
     "output_type": "display_data"
    },
    {
     "data": {
      "text/html": [
       "<style>\n",
       ".list-inline {list-style: none; margin:0; padding: 0}\n",
       ".list-inline>li {display: inline-block}\n",
       ".list-inline>li:not(:last-child)::after {content: \"\\00b7\"; padding: 0 .5ex}\n",
       "</style>\n",
       "<ol class=list-inline><li>10795710</li><li>9</li></ol>\n"
      ],
      "text/latex": [
       "\\begin{enumerate*}\n",
       "\\item 10795710\n",
       "\\item 9\n",
       "\\end{enumerate*}\n"
      ],
      "text/markdown": [
       "1. 10795710\n",
       "2. 9\n",
       "\n",
       "\n"
      ],
      "text/plain": [
       "[1] 10795710        9"
      ]
     },
     "metadata": {},
     "output_type": "display_data"
    },
    {
     "data": {
      "text/html": [
       "<style>\n",
       ".list-inline {list-style: none; margin:0; padding: 0}\n",
       ".list-inline>li {display: inline-block}\n",
       ".list-inline>li:not(:last-child)::after {content: \"\\00b7\"; padding: 0 .5ex}\n",
       "</style>\n",
       "<ol class=list-inline><li>16051596</li><li>9</li></ol>\n"
      ],
      "text/latex": [
       "\\begin{enumerate*}\n",
       "\\item 16051596\n",
       "\\item 9\n",
       "\\end{enumerate*}\n"
      ],
      "text/markdown": [
       "1. 16051596\n",
       "2. 9\n",
       "\n",
       "\n"
      ],
      "text/plain": [
       "[1] 16051596        9"
      ]
     },
     "metadata": {},
     "output_type": "display_data"
    }
   ],
   "source": [
    "#Liftover performed from hg38 to hg19 and LD-scores for all ancestries\n",
    "dim(EAS_LD_scores)\n",
    "dim(SAS_LD_scores)\n",
    "dim(AMR_LD_scores)\n",
    "dim(AFR_LD_scores)"
   ]
  },
  {
   "cell_type": "code",
   "execution_count": 18,
   "id": "3d51e0e8",
   "metadata": {},
   "outputs": [],
   "source": [
    "#reading the .gz LD-scores files for European ancestry\n",
    "# Get a list of .gz files\n",
    "file_list <- list.files(path = \"/home/itg/archit.singh/ldsc/LD-scores_1KG_European/eur_w_ld_chr/eur_w_ld_chr\", pattern = \"*.gz\", full.names = TRUE)\n",
    "\n",
    "# Read and combine all files\n",
    "EUR_LD_scores <- rbindlist(lapply(file_list, fread))\n",
    "colnames(EUR_LD_scores)[colnames(EUR_LD_scores) == \"SNP\"] <- \"rsID\"\n",
    "EUR_LD_scores$id <- paste0(EUR_LD_scores$CHR, \":\", EUR_LD_scores$BP)"
   ]
  },
  {
   "cell_type": "markdown",
   "id": "6f3c81be",
   "metadata": {},
   "source": [
    "#### Processing EUR datasets"
   ]
  },
  {
   "cell_type": "code",
   "execution_count": 19,
   "id": "bd863e42",
   "metadata": {},
   "outputs": [
    {
     "name": "stderr",
     "output_type": "stream",
     "text": [
      "Warning message in inner_join(diamante18_EUR, EUR_LD_scores, by = \"id\"):\n",
      "“\u001b[1m\u001b[22mDetected an unexpected many-to-many relationship between `x` and `y`.\n",
      "\u001b[36mℹ\u001b[39m Row 8759743 of `x` matches multiple rows in `y`.\n",
      "\u001b[36mℹ\u001b[39m Row 4541 of `y` matches multiple rows in `x`.\n",
      "\u001b[36mℹ\u001b[39m If a many-to-many relationship is expected, set `relationship =\n",
      "  \"many-to-many\"` to silence this warning.”\n"
     ]
    },
    {
     "data": {
      "text/html": [
       "<table class=\"dataframe\">\n",
       "<caption>A data.table: 6 × 18</caption>\n",
       "<thead>\n",
       "\t<tr><th scope=col>id</th><th scope=col>Chr</th><th scope=col>Pos</th><th scope=col>EA</th><th scope=col>NEA</th><th scope=col>EAF</th><th scope=col>Beta</th><th scope=col>SE</th><th scope=col>Pvalue</th><th scope=col>Neff</th><th scope=col>single_gc_p_values</th><th scope=col>chi_square</th><th scope=col>CHR</th><th scope=col>rsID</th><th scope=col>BP</th><th scope=col>CM</th><th scope=col>MAF</th><th scope=col>L2</th></tr>\n",
       "\t<tr><th scope=col>&lt;chr&gt;</th><th scope=col>&lt;int&gt;</th><th scope=col>&lt;int&gt;</th><th scope=col>&lt;chr&gt;</th><th scope=col>&lt;chr&gt;</th><th scope=col>&lt;dbl&gt;</th><th scope=col>&lt;dbl&gt;</th><th scope=col>&lt;dbl&gt;</th><th scope=col>&lt;chr&gt;</th><th scope=col>&lt;int&gt;</th><th scope=col>&lt;dbl&gt;</th><th scope=col>&lt;dbl&gt;</th><th scope=col>&lt;int&gt;</th><th scope=col>&lt;chr&gt;</th><th scope=col>&lt;int&gt;</th><th scope=col>&lt;dbl&gt;</th><th scope=col>&lt;dbl&gt;</th><th scope=col>&lt;dbl&gt;</th></tr>\n",
       "</thead>\n",
       "<tbody>\n",
       "\t<tr><td>1:100000827</td><td>1</td><td>100000827</td><td>T</td><td>C</td><td>0.30</td><td>-0.0230</td><td>0.0069</td><td>7.5e-04</td><td>231420</td><td>0.0006926919</td><td>11.508754</td><td>1</td><td>rs6678176 </td><td>100000827</td><td>129.4422</td><td>0.31398417</td><td>25.039329</td></tr>\n",
       "\t<tr><td>1:100005477</td><td>1</td><td>100005477</td><td>A</td><td>G</td><td>0.14</td><td>-0.0240</td><td>0.0092</td><td>8.5e-03</td><td>231420</td><td>0.0080829474</td><td> 7.015004</td><td>1</td><td>rs12069019</td><td>100005477</td><td>129.4422</td><td>0.16490765</td><td>25.387891</td></tr>\n",
       "\t<tr><td>1:100006117</td><td>1</td><td>100006117</td><td>A</td><td>G</td><td>0.42</td><td> 0.0078</td><td>0.0065</td><td>2.3e-01</td><td>231420</td><td>0.2269949557</td><td> 1.459593</td><td>1</td><td>rs6686057 </td><td>100006117</td><td>129.4422</td><td>0.41952507</td><td>17.395921</td></tr>\n",
       "\t<tr><td>1:100008607</td><td>1</td><td>100008607</td><td>A</td><td>C</td><td>0.70</td><td> 0.0230</td><td>0.0069</td><td>8.8e-04</td><td>231420</td><td>0.0008143405</td><td>11.208260</td><td>1</td><td>rs11166268</td><td>100008607</td><td>129.4422</td><td>0.31530343</td><td>25.108397</td></tr>\n",
       "\t<tr><td>1:100017701</td><td>1</td><td>100017701</td><td>A</td><td>G</td><td>0.70</td><td> 0.0230</td><td>0.0069</td><td>9.3e-04</td><td>231420</td><td>0.0008611880</td><td>11.104494</td><td>1</td><td>rs6656134 </td><td>100017701</td><td>129.4424</td><td>0.31530343</td><td>25.108397</td></tr>\n",
       "\t<tr><td>1:100018587</td><td>1</td><td>100018587</td><td>A</td><td>C</td><td>0.11</td><td>-0.0190</td><td>0.0100</td><td>6.3e-02</td><td>231420</td><td>0.0613122083</td><td> 3.501529</td><td>1</td><td>rs11807493</td><td>100018587</td><td>129.4424</td><td>0.08575198</td><td> 9.432644</td></tr>\n",
       "</tbody>\n",
       "</table>\n"
      ],
      "text/latex": [
       "A data.table: 6 × 18\n",
       "\\begin{tabular}{llllllllllllllllll}\n",
       " id & Chr & Pos & EA & NEA & EAF & Beta & SE & Pvalue & Neff & single\\_gc\\_p\\_values & chi\\_square & CHR & rsID & BP & CM & MAF & L2\\\\\n",
       " <chr> & <int> & <int> & <chr> & <chr> & <dbl> & <dbl> & <dbl> & <chr> & <int> & <dbl> & <dbl> & <int> & <chr> & <int> & <dbl> & <dbl> & <dbl>\\\\\n",
       "\\hline\n",
       "\t 1:100000827 & 1 & 100000827 & T & C & 0.30 & -0.0230 & 0.0069 & 7.5e-04 & 231420 & 0.0006926919 & 11.508754 & 1 & rs6678176  & 100000827 & 129.4422 & 0.31398417 & 25.039329\\\\\n",
       "\t 1:100005477 & 1 & 100005477 & A & G & 0.14 & -0.0240 & 0.0092 & 8.5e-03 & 231420 & 0.0080829474 &  7.015004 & 1 & rs12069019 & 100005477 & 129.4422 & 0.16490765 & 25.387891\\\\\n",
       "\t 1:100006117 & 1 & 100006117 & A & G & 0.42 &  0.0078 & 0.0065 & 2.3e-01 & 231420 & 0.2269949557 &  1.459593 & 1 & rs6686057  & 100006117 & 129.4422 & 0.41952507 & 17.395921\\\\\n",
       "\t 1:100008607 & 1 & 100008607 & A & C & 0.70 &  0.0230 & 0.0069 & 8.8e-04 & 231420 & 0.0008143405 & 11.208260 & 1 & rs11166268 & 100008607 & 129.4422 & 0.31530343 & 25.108397\\\\\n",
       "\t 1:100017701 & 1 & 100017701 & A & G & 0.70 &  0.0230 & 0.0069 & 9.3e-04 & 231420 & 0.0008611880 & 11.104494 & 1 & rs6656134  & 100017701 & 129.4424 & 0.31530343 & 25.108397\\\\\n",
       "\t 1:100018587 & 1 & 100018587 & A & C & 0.11 & -0.0190 & 0.0100 & 6.3e-02 & 231420 & 0.0613122083 &  3.501529 & 1 & rs11807493 & 100018587 & 129.4424 & 0.08575198 &  9.432644\\\\\n",
       "\\end{tabular}\n"
      ],
      "text/markdown": [
       "\n",
       "A data.table: 6 × 18\n",
       "\n",
       "| id &lt;chr&gt; | Chr &lt;int&gt; | Pos &lt;int&gt; | EA &lt;chr&gt; | NEA &lt;chr&gt; | EAF &lt;dbl&gt; | Beta &lt;dbl&gt; | SE &lt;dbl&gt; | Pvalue &lt;chr&gt; | Neff &lt;int&gt; | single_gc_p_values &lt;dbl&gt; | chi_square &lt;dbl&gt; | CHR &lt;int&gt; | rsID &lt;chr&gt; | BP &lt;int&gt; | CM &lt;dbl&gt; | MAF &lt;dbl&gt; | L2 &lt;dbl&gt; |\n",
       "|---|---|---|---|---|---|---|---|---|---|---|---|---|---|---|---|---|---|\n",
       "| 1:100000827 | 1 | 100000827 | T | C | 0.30 | -0.0230 | 0.0069 | 7.5e-04 | 231420 | 0.0006926919 | 11.508754 | 1 | rs6678176  | 100000827 | 129.4422 | 0.31398417 | 25.039329 |\n",
       "| 1:100005477 | 1 | 100005477 | A | G | 0.14 | -0.0240 | 0.0092 | 8.5e-03 | 231420 | 0.0080829474 |  7.015004 | 1 | rs12069019 | 100005477 | 129.4422 | 0.16490765 | 25.387891 |\n",
       "| 1:100006117 | 1 | 100006117 | A | G | 0.42 |  0.0078 | 0.0065 | 2.3e-01 | 231420 | 0.2269949557 |  1.459593 | 1 | rs6686057  | 100006117 | 129.4422 | 0.41952507 | 17.395921 |\n",
       "| 1:100008607 | 1 | 100008607 | A | C | 0.70 |  0.0230 | 0.0069 | 8.8e-04 | 231420 | 0.0008143405 | 11.208260 | 1 | rs11166268 | 100008607 | 129.4422 | 0.31530343 | 25.108397 |\n",
       "| 1:100017701 | 1 | 100017701 | A | G | 0.70 |  0.0230 | 0.0069 | 9.3e-04 | 231420 | 0.0008611880 | 11.104494 | 1 | rs6656134  | 100017701 | 129.4424 | 0.31530343 | 25.108397 |\n",
       "| 1:100018587 | 1 | 100018587 | A | C | 0.11 | -0.0190 | 0.0100 | 6.3e-02 | 231420 | 0.0613122083 |  3.501529 | 1 | rs11807493 | 100018587 | 129.4424 | 0.08575198 |  9.432644 |\n",
       "\n"
      ],
      "text/plain": [
       "  id          Chr Pos       EA NEA EAF  Beta    SE     Pvalue  Neff  \n",
       "1 1:100000827 1   100000827 T  C   0.30 -0.0230 0.0069 7.5e-04 231420\n",
       "2 1:100005477 1   100005477 A  G   0.14 -0.0240 0.0092 8.5e-03 231420\n",
       "3 1:100006117 1   100006117 A  G   0.42  0.0078 0.0065 2.3e-01 231420\n",
       "4 1:100008607 1   100008607 A  C   0.70  0.0230 0.0069 8.8e-04 231420\n",
       "5 1:100017701 1   100017701 A  G   0.70  0.0230 0.0069 9.3e-04 231420\n",
       "6 1:100018587 1   100018587 A  C   0.11 -0.0190 0.0100 6.3e-02 231420\n",
       "  single_gc_p_values chi_square CHR rsID       BP        CM       MAF       \n",
       "1 0.0006926919       11.508754  1   rs6678176  100000827 129.4422 0.31398417\n",
       "2 0.0080829474        7.015004  1   rs12069019 100005477 129.4422 0.16490765\n",
       "3 0.2269949557        1.459593  1   rs6686057  100006117 129.4422 0.41952507\n",
       "4 0.0008143405       11.208260  1   rs11166268 100008607 129.4422 0.31530343\n",
       "5 0.0008611880       11.104494  1   rs6656134  100017701 129.4424 0.31530343\n",
       "6 0.0613122083        3.501529  1   rs11807493 100018587 129.4424 0.08575198\n",
       "  L2       \n",
       "1 25.039329\n",
       "2 25.387891\n",
       "3 17.395921\n",
       "4 25.108397\n",
       "5 25.108397\n",
       "6  9.432644"
      ]
     },
     "metadata": {},
     "output_type": "display_data"
    }
   ],
   "source": [
    "#DIAMANTE-18\n",
    "diamante18_EUR <- fread(\"/lustre/groups/itg/teams/zeggini/users/archit.singh/lambda/summary_statistics/T2D/Mahajan.NatGenet2018b.T2D.European.undajusted.BMI/Mahajan.NatGenet2018b.T2D.European.txt\", header = TRUE)\n",
    "#calculating chi-square values for uncorrected p-values\n",
    "chisq <- qchisq(as.numeric(diamante18_EUR$Pvalue),1,lower.tail=FALSE)\n",
    "lambda2 <- c(1.013)\n",
    "newchisq <- chisq*lambda2\n",
    "newpvalues <- pchisq(newchisq, df=1,lower.tail=FALSE)\n",
    "diamante18_EUR$single_gc_p_values <- newpvalues\n",
    "diamante18_EUR$chi_square <- qchisq(as.numeric(diamante18_EUR$single_gc_p_values),1,lower.tail=FALSE)\n",
    "#diamante18_EUR$chi_square <- qchisq(as.numeric(diamante18_EUR$Pvalue),1,lower.tail=FALSE)\n",
    "colnames(diamante18_EUR)[colnames(diamante18_EUR) == \"SNP\"] <- \"id\"\n",
    "diamante18_EUR_with_ld_scores <- inner_join(diamante18_EUR, EUR_LD_scores, by = \"id\")\n",
    "# Remove duplicates based on 'id'\n",
    "diamante18_EUR_with_ld_scores <- diamante18_EUR_with_ld_scores[!duplicated(diamante18_EUR_with_ld_scores$id), ]\n",
    "diamante18_EUR_with_ld_scores <- diamante18_EUR_with_ld_scores[is.finite(diamante18_EUR_with_ld_scores$chi_square), ]\n",
    "head(diamante18_EUR_with_ld_scores)"
   ]
  },
  {
   "cell_type": "code",
   "execution_count": 20,
   "id": "1f0324d1",
   "metadata": {},
   "outputs": [
    {
     "data": {
      "text/html": [
       "<table class=\"dataframe\">\n",
       "<caption>A data.table: 6 × 18</caption>\n",
       "<thead>\n",
       "\t<tr><th scope=col>chromosome(b37)</th><th scope=col>position(b37)</th><th scope=col>id</th><th scope=col>rsID.x</th><th scope=col>effect_allele</th><th scope=col>other_allele</th><th scope=col>effect_allele_frequency</th><th scope=col>Fixed-effects_beta</th><th scope=col>Fixed-effects_SE</th><th scope=col>Fixed-effects_p-value</th><th scope=col>single_gc_p_values</th><th scope=col>chi_square</th><th scope=col>CHR</th><th scope=col>rsID.y</th><th scope=col>BP</th><th scope=col>CM</th><th scope=col>MAF</th><th scope=col>L2</th></tr>\n",
       "\t<tr><th scope=col>&lt;int&gt;</th><th scope=col>&lt;int&gt;</th><th scope=col>&lt;chr&gt;</th><th scope=col>&lt;chr&gt;</th><th scope=col>&lt;chr&gt;</th><th scope=col>&lt;chr&gt;</th><th scope=col>&lt;dbl&gt;</th><th scope=col>&lt;dbl&gt;</th><th scope=col>&lt;dbl&gt;</th><th scope=col>&lt;chr&gt;</th><th scope=col>&lt;dbl&gt;</th><th scope=col>&lt;dbl&gt;</th><th scope=col>&lt;int&gt;</th><th scope=col>&lt;chr&gt;</th><th scope=col>&lt;int&gt;</th><th scope=col>&lt;dbl&gt;</th><th scope=col>&lt;dbl&gt;</th><th scope=col>&lt;dbl&gt;</th></tr>\n",
       "</thead>\n",
       "<tbody>\n",
       "\t<tr><td>1</td><td>721290</td><td>1:721290</td><td>rs12565286</td><td>c</td><td>g</td><td>0.0359</td><td>-0.0176</td><td>0.0262</td><td>0.5013</td><td>0.4814430</td><td>0.4955928</td><td>1</td><td>rs12565286</td><td>721290</td><td>0.4102920</td><td>0.04353562</td><td>1.244134</td></tr>\n",
       "\t<tr><td>1</td><td>752566</td><td>1:752566</td><td>rs3094315 </td><td>a</td><td>g</td><td>0.8342</td><td> 0.0048</td><td>0.0098</td><td>0.6258</td><td>0.6096889</td><td>0.2606282</td><td>1</td><td>rs3094315 </td><td>752566</td><td>0.4887759</td><td>0.16358839</td><td>6.408547</td></tr>\n",
       "\t<tr><td>1</td><td>752721</td><td>1:752721</td><td>rs3131972 </td><td>a</td><td>g</td><td>0.1688</td><td>-0.0045</td><td>0.0097</td><td>0.644 </td><td>0.6285373</td><td>0.2340495</td><td>1</td><td>rs3131972 </td><td>752721</td><td>0.4888678</td><td>0.16754617</td><td>6.282501</td></tr>\n",
       "\t<tr><td>1</td><td>754182</td><td>1:754182</td><td>rs3131969 </td><td>a</td><td>g</td><td>0.1428</td><td>-0.0078</td><td>0.0101</td><td>0.4377</td><td>0.4165155</td><td>0.6601260</td><td>1</td><td>rs3131969 </td><td>754182</td><td>0.4897337</td><td>0.13324538</td><td>6.251752</td></tr>\n",
       "\t<tr><td>1</td><td>760912</td><td>1:760912</td><td>rs1048488 </td><td>t</td><td>c</td><td>0.8341</td><td> 0.0069</td><td>0.0099</td><td>0.4879</td><td>0.4677252</td><td>0.5273449</td><td>1</td><td>rs1048488 </td><td>760912</td><td>0.4925073</td><td>0.20316623</td><td>6.482785</td></tr>\n",
       "\t<tr><td>1</td><td>761147</td><td>1:761147</td><td>rs3115850 </td><td>t</td><td>c</td><td>0.1658</td><td>-0.0066</td><td>0.0098</td><td>0.5025</td><td>0.4826724</td><td>0.4928192</td><td>1</td><td>rs3115850 </td><td>761147</td><td>0.4926046</td><td>0.19920844</td><td>6.556042</td></tr>\n",
       "</tbody>\n",
       "</table>\n"
      ],
      "text/latex": [
       "A data.table: 6 × 18\n",
       "\\begin{tabular}{llllllllllllllllll}\n",
       " chromosome(b37) & position(b37) & id & rsID.x & effect\\_allele & other\\_allele & effect\\_allele\\_frequency & Fixed-effects\\_beta & Fixed-effects\\_SE & Fixed-effects\\_p-value & single\\_gc\\_p\\_values & chi\\_square & CHR & rsID.y & BP & CM & MAF & L2\\\\\n",
       " <int> & <int> & <chr> & <chr> & <chr> & <chr> & <dbl> & <dbl> & <dbl> & <chr> & <dbl> & <dbl> & <int> & <chr> & <int> & <dbl> & <dbl> & <dbl>\\\\\n",
       "\\hline\n",
       "\t 1 & 721290 & 1:721290 & rs12565286 & c & g & 0.0359 & -0.0176 & 0.0262 & 0.5013 & 0.4814430 & 0.4955928 & 1 & rs12565286 & 721290 & 0.4102920 & 0.04353562 & 1.244134\\\\\n",
       "\t 1 & 752566 & 1:752566 & rs3094315  & a & g & 0.8342 &  0.0048 & 0.0098 & 0.6258 & 0.6096889 & 0.2606282 & 1 & rs3094315  & 752566 & 0.4887759 & 0.16358839 & 6.408547\\\\\n",
       "\t 1 & 752721 & 1:752721 & rs3131972  & a & g & 0.1688 & -0.0045 & 0.0097 & 0.644  & 0.6285373 & 0.2340495 & 1 & rs3131972  & 752721 & 0.4888678 & 0.16754617 & 6.282501\\\\\n",
       "\t 1 & 754182 & 1:754182 & rs3131969  & a & g & 0.1428 & -0.0078 & 0.0101 & 0.4377 & 0.4165155 & 0.6601260 & 1 & rs3131969  & 754182 & 0.4897337 & 0.13324538 & 6.251752\\\\\n",
       "\t 1 & 760912 & 1:760912 & rs1048488  & t & c & 0.8341 &  0.0069 & 0.0099 & 0.4879 & 0.4677252 & 0.5273449 & 1 & rs1048488  & 760912 & 0.4925073 & 0.20316623 & 6.482785\\\\\n",
       "\t 1 & 761147 & 1:761147 & rs3115850  & t & c & 0.1658 & -0.0066 & 0.0098 & 0.5025 & 0.4826724 & 0.4928192 & 1 & rs3115850  & 761147 & 0.4926046 & 0.19920844 & 6.556042\\\\\n",
       "\\end{tabular}\n"
      ],
      "text/markdown": [
       "\n",
       "A data.table: 6 × 18\n",
       "\n",
       "| chromosome(b37) &lt;int&gt; | position(b37) &lt;int&gt; | id &lt;chr&gt; | rsID.x &lt;chr&gt; | effect_allele &lt;chr&gt; | other_allele &lt;chr&gt; | effect_allele_frequency &lt;dbl&gt; | Fixed-effects_beta &lt;dbl&gt; | Fixed-effects_SE &lt;dbl&gt; | Fixed-effects_p-value &lt;chr&gt; | single_gc_p_values &lt;dbl&gt; | chi_square &lt;dbl&gt; | CHR &lt;int&gt; | rsID.y &lt;chr&gt; | BP &lt;int&gt; | CM &lt;dbl&gt; | MAF &lt;dbl&gt; | L2 &lt;dbl&gt; |\n",
       "|---|---|---|---|---|---|---|---|---|---|---|---|---|---|---|---|---|---|\n",
       "| 1 | 721290 | 1:721290 | rs12565286 | c | g | 0.0359 | -0.0176 | 0.0262 | 0.5013 | 0.4814430 | 0.4955928 | 1 | rs12565286 | 721290 | 0.4102920 | 0.04353562 | 1.244134 |\n",
       "| 1 | 752566 | 1:752566 | rs3094315  | a | g | 0.8342 |  0.0048 | 0.0098 | 0.6258 | 0.6096889 | 0.2606282 | 1 | rs3094315  | 752566 | 0.4887759 | 0.16358839 | 6.408547 |\n",
       "| 1 | 752721 | 1:752721 | rs3131972  | a | g | 0.1688 | -0.0045 | 0.0097 | 0.644  | 0.6285373 | 0.2340495 | 1 | rs3131972  | 752721 | 0.4888678 | 0.16754617 | 6.282501 |\n",
       "| 1 | 754182 | 1:754182 | rs3131969  | a | g | 0.1428 | -0.0078 | 0.0101 | 0.4377 | 0.4165155 | 0.6601260 | 1 | rs3131969  | 754182 | 0.4897337 | 0.13324538 | 6.251752 |\n",
       "| 1 | 760912 | 1:760912 | rs1048488  | t | c | 0.8341 |  0.0069 | 0.0099 | 0.4879 | 0.4677252 | 0.5273449 | 1 | rs1048488  | 760912 | 0.4925073 | 0.20316623 | 6.482785 |\n",
       "| 1 | 761147 | 1:761147 | rs3115850  | t | c | 0.1658 | -0.0066 | 0.0098 | 0.5025 | 0.4826724 | 0.4928192 | 1 | rs3115850  | 761147 | 0.4926046 | 0.19920844 | 6.556042 |\n",
       "\n"
      ],
      "text/plain": [
       "  chromosome(b37) position(b37) id       rsID.x     effect_allele other_allele\n",
       "1 1               721290        1:721290 rs12565286 c             g           \n",
       "2 1               752566        1:752566 rs3094315  a             g           \n",
       "3 1               752721        1:752721 rs3131972  a             g           \n",
       "4 1               754182        1:754182 rs3131969  a             g           \n",
       "5 1               760912        1:760912 rs1048488  t             c           \n",
       "6 1               761147        1:761147 rs3115850  t             c           \n",
       "  effect_allele_frequency Fixed-effects_beta Fixed-effects_SE\n",
       "1 0.0359                  -0.0176            0.0262          \n",
       "2 0.8342                   0.0048            0.0098          \n",
       "3 0.1688                  -0.0045            0.0097          \n",
       "4 0.1428                  -0.0078            0.0101          \n",
       "5 0.8341                   0.0069            0.0099          \n",
       "6 0.1658                  -0.0066            0.0098          \n",
       "  Fixed-effects_p-value single_gc_p_values chi_square CHR rsID.y     BP    \n",
       "1 0.5013                0.4814430          0.4955928  1   rs12565286 721290\n",
       "2 0.6258                0.6096889          0.2606282  1   rs3094315  752566\n",
       "3 0.644                 0.6285373          0.2340495  1   rs3131972  752721\n",
       "4 0.4377                0.4165155          0.6601260  1   rs3131969  754182\n",
       "5 0.4879                0.4677252          0.5273449  1   rs1048488  760912\n",
       "6 0.5025                0.4826724          0.4928192  1   rs3115850  761147\n",
       "  CM        MAF        L2      \n",
       "1 0.4102920 0.04353562 1.244134\n",
       "2 0.4887759 0.16358839 6.408547\n",
       "3 0.4888678 0.16754617 6.282501\n",
       "4 0.4897337 0.13324538 6.251752\n",
       "5 0.4925073 0.20316623 6.482785\n",
       "6 0.4926046 0.19920844 6.556042"
      ]
     },
     "metadata": {},
     "output_type": "display_data"
    }
   ],
   "source": [
    "#DIAMANTE-22\n",
    "diamante22_EUR <- fread(\"/lustre/groups/itg/teams/zeggini/users/archit.singh/lambda/summary_statistics/T2D/Mahajan.NatGen2022.DIAMANTE-EUR.sumstat/DIAMANTE-EUR.sumstat.txt\", header = TRUE)\n",
    "chisq <- qchisq(as.numeric(diamante22_EUR$`Fixed-effects_p-value`),1,lower.tail=FALSE)\n",
    "lambda2 <- c(1.096) \n",
    "newchisq <- chisq*lambda2\n",
    "newpvalues <- pchisq(newchisq, df=1,lower.tail=FALSE)\n",
    "diamante22_EUR$single_gc_p_values <- newpvalues\n",
    "diamante22_EUR$chi_square <- qchisq(as.numeric(diamante22_EUR$single_gc_p_values),1,lower.tail=FALSE)\n",
    "#diamante22_EUR$chi_square <- qchisq(as.numeric(diamante22_EUR$`Fixed-effects_p-value`),1,lower.tail=FALSE)\n",
    "diamante22_EUR$chrposID <- gsub(\"^chr\", \"\", diamante22_EUR$chrposID)\n",
    "colnames(diamante22_EUR)[colnames(diamante22_EUR) == \"chrposID\"] <- \"id\"\n",
    "diamante22_EUR_with_ld_scores <- inner_join(diamante22_EUR, EUR_LD_scores, by = \"id\")\n",
    "# Remove duplicates based on 'id'\n",
    "diamante22_EUR_with_ld_scores <- diamante22_EUR_with_ld_scores[!duplicated(diamante22_EUR_with_ld_scores$id), ]\n",
    "diamante22_EUR_with_ld_scores <- diamante22_EUR_with_ld_scores[is.finite(diamante22_EUR_with_ld_scores$chi_square), ]\n",
    "head(diamante22_EUR_with_ld_scores)"
   ]
  },
  {
   "cell_type": "code",
   "execution_count": 21,
   "id": "1d4d30e1",
   "metadata": {},
   "outputs": [
    {
     "data": {
      "text/html": [
       "<table class=\"dataframe\">\n",
       "<caption>A data.table: 6 × 22</caption>\n",
       "<thead>\n",
       "\t<tr><th scope=col>id</th><th scope=col>Allele1</th><th scope=col>Allele2</th><th scope=col>Freq1</th><th scope=col>FreqSE</th><th scope=col>MinFreq</th><th scope=col>MaxFreq</th><th scope=col>Effect</th><th scope=col>StdErr</th><th scope=col>P-value</th><th scope=col>⋯</th><th scope=col>HetChiSq</th><th scope=col>HetDf</th><th scope=col>HetPVal</th><th scope=col>chi_square</th><th scope=col>CHR</th><th scope=col>rsID</th><th scope=col>BP</th><th scope=col>CM</th><th scope=col>MAF</th><th scope=col>L2</th></tr>\n",
       "\t<tr><th scope=col>&lt;chr&gt;</th><th scope=col>&lt;chr&gt;</th><th scope=col>&lt;chr&gt;</th><th scope=col>&lt;dbl&gt;</th><th scope=col>&lt;dbl&gt;</th><th scope=col>&lt;dbl&gt;</th><th scope=col>&lt;dbl&gt;</th><th scope=col>&lt;dbl&gt;</th><th scope=col>&lt;dbl&gt;</th><th scope=col>&lt;chr&gt;</th><th scope=col>⋯</th><th scope=col>&lt;dbl&gt;</th><th scope=col>&lt;int&gt;</th><th scope=col>&lt;dbl&gt;</th><th scope=col>&lt;dbl&gt;</th><th scope=col>&lt;int&gt;</th><th scope=col>&lt;chr&gt;</th><th scope=col>&lt;int&gt;</th><th scope=col>&lt;dbl&gt;</th><th scope=col>&lt;dbl&gt;</th><th scope=col>&lt;dbl&gt;</th></tr>\n",
       "</thead>\n",
       "<tbody>\n",
       "\t<tr><td>18:814730   </td><td>c</td><td>g</td><td>0.8867</td><td>0.0088</td><td>0.8699</td><td>0.9187</td><td>-0.0043</td><td>0.0059</td><td>0.4592 </td><td>⋯</td><td>28.836</td><td>35</td><td>0.75930</td><td>0.54784394</td><td>18</td><td>rs9967286</td><td>   814730</td><td>  2.234824</td><td>0.09366755</td><td> 9.062212</td></tr>\n",
       "\t<tr><td>22:32853590 </td><td>a</td><td>g</td><td>0.2646</td><td>0.0101</td><td>0.2342</td><td>0.3038</td><td> 0.0043</td><td>0.0045</td><td>0.3366 </td><td>⋯</td><td>29.083</td><td>34</td><td>0.70740</td><td>0.92333818</td><td>22</td><td>rs5754099</td><td> 32853590</td><td> 36.467313</td><td>0.27704485</td><td>11.894881</td></tr>\n",
       "\t<tr><td>8:15547450  </td><td>t</td><td>c</td><td>0.5241</td><td>0.0181</td><td>0.4954</td><td>0.5803</td><td> 0.0079</td><td>0.0037</td><td>0.03339</td><td>⋯</td><td>56.309</td><td>35</td><td>0.01266</td><td>4.52566995</td><td> 8</td><td>rs1362865</td><td> 15547450</td><td> 38.077787</td><td>0.46833773</td><td>43.810955</td></tr>\n",
       "\t<tr><td>2:2707835   </td><td>a</td><td>g</td><td>0.6202</td><td>0.0141</td><td>0.5817</td><td>0.6672</td><td>-0.0057</td><td>0.0038</td><td>0.1347 </td><td>⋯</td><td>30.579</td><td>35</td><td>0.68150</td><td>2.23748399</td><td> 2</td><td>rs896222 </td><td>  2707835</td><td>  4.232398</td><td>0.40897098</td><td> 5.534595</td></tr>\n",
       "\t<tr><td>10:105248507</td><td>t</td><td>c</td><td>0.1054</td><td>0.0089</td><td>0.0840</td><td>0.1447</td><td>-0.0095</td><td>0.0061</td><td>0.1185 </td><td>⋯</td><td>34.318</td><td>35</td><td>0.50090</td><td>2.43703530</td><td>10</td><td>rs2986038</td><td>105248507</td><td>130.758970</td><td>0.11609499</td><td> 7.799071</td></tr>\n",
       "\t<tr><td>16:4171701  </td><td>a</td><td>g</td><td>0.1559</td><td>0.0094</td><td>0.1206</td><td>0.1841</td><td> 0.0012</td><td>0.0051</td><td>0.8128 </td><td>⋯</td><td>28.240</td><td>35</td><td>0.78400</td><td>0.05608154</td><td>16</td><td>rs7206142</td><td>  4171701</td><td>  7.505549</td><td>0.17546174</td><td>10.882460</td></tr>\n",
       "</tbody>\n",
       "</table>\n"
      ],
      "text/latex": [
       "A data.table: 6 × 22\n",
       "\\begin{tabular}{lllllllllllllllllllll}\n",
       " id & Allele1 & Allele2 & Freq1 & FreqSE & MinFreq & MaxFreq & Effect & StdErr & P-value & ⋯ & HetChiSq & HetDf & HetPVal & chi\\_square & CHR & rsID & BP & CM & MAF & L2\\\\\n",
       " <chr> & <chr> & <chr> & <dbl> & <dbl> & <dbl> & <dbl> & <dbl> & <dbl> & <chr> & ⋯ & <dbl> & <int> & <dbl> & <dbl> & <int> & <chr> & <int> & <dbl> & <dbl> & <dbl>\\\\\n",
       "\\hline\n",
       "\t 18:814730    & c & g & 0.8867 & 0.0088 & 0.8699 & 0.9187 & -0.0043 & 0.0059 & 0.4592  & ⋯ & 28.836 & 35 & 0.75930 & 0.54784394 & 18 & rs9967286 &    814730 &   2.234824 & 0.09366755 &  9.062212\\\\\n",
       "\t 22:32853590  & a & g & 0.2646 & 0.0101 & 0.2342 & 0.3038 &  0.0043 & 0.0045 & 0.3366  & ⋯ & 29.083 & 34 & 0.70740 & 0.92333818 & 22 & rs5754099 &  32853590 &  36.467313 & 0.27704485 & 11.894881\\\\\n",
       "\t 8:15547450   & t & c & 0.5241 & 0.0181 & 0.4954 & 0.5803 &  0.0079 & 0.0037 & 0.03339 & ⋯ & 56.309 & 35 & 0.01266 & 4.52566995 &  8 & rs1362865 &  15547450 &  38.077787 & 0.46833773 & 43.810955\\\\\n",
       "\t 2:2707835    & a & g & 0.6202 & 0.0141 & 0.5817 & 0.6672 & -0.0057 & 0.0038 & 0.1347  & ⋯ & 30.579 & 35 & 0.68150 & 2.23748399 &  2 & rs896222  &   2707835 &   4.232398 & 0.40897098 &  5.534595\\\\\n",
       "\t 10:105248507 & t & c & 0.1054 & 0.0089 & 0.0840 & 0.1447 & -0.0095 & 0.0061 & 0.1185  & ⋯ & 34.318 & 35 & 0.50090 & 2.43703530 & 10 & rs2986038 & 105248507 & 130.758970 & 0.11609499 &  7.799071\\\\\n",
       "\t 16:4171701   & a & g & 0.1559 & 0.0094 & 0.1206 & 0.1841 &  0.0012 & 0.0051 & 0.8128  & ⋯ & 28.240 & 35 & 0.78400 & 0.05608154 & 16 & rs7206142 &   4171701 &   7.505549 & 0.17546174 & 10.882460\\\\\n",
       "\\end{tabular}\n"
      ],
      "text/markdown": [
       "\n",
       "A data.table: 6 × 22\n",
       "\n",
       "| id &lt;chr&gt; | Allele1 &lt;chr&gt; | Allele2 &lt;chr&gt; | Freq1 &lt;dbl&gt; | FreqSE &lt;dbl&gt; | MinFreq &lt;dbl&gt; | MaxFreq &lt;dbl&gt; | Effect &lt;dbl&gt; | StdErr &lt;dbl&gt; | P-value &lt;chr&gt; | ⋯ ⋯ | HetChiSq &lt;dbl&gt; | HetDf &lt;int&gt; | HetPVal &lt;dbl&gt; | chi_square &lt;dbl&gt; | CHR &lt;int&gt; | rsID &lt;chr&gt; | BP &lt;int&gt; | CM &lt;dbl&gt; | MAF &lt;dbl&gt; | L2 &lt;dbl&gt; |\n",
       "|---|---|---|---|---|---|---|---|---|---|---|---|---|---|---|---|---|---|---|---|---|\n",
       "| 18:814730    | c | g | 0.8867 | 0.0088 | 0.8699 | 0.9187 | -0.0043 | 0.0059 | 0.4592  | ⋯ | 28.836 | 35 | 0.75930 | 0.54784394 | 18 | rs9967286 |    814730 |   2.234824 | 0.09366755 |  9.062212 |\n",
       "| 22:32853590  | a | g | 0.2646 | 0.0101 | 0.2342 | 0.3038 |  0.0043 | 0.0045 | 0.3366  | ⋯ | 29.083 | 34 | 0.70740 | 0.92333818 | 22 | rs5754099 |  32853590 |  36.467313 | 0.27704485 | 11.894881 |\n",
       "| 8:15547450   | t | c | 0.5241 | 0.0181 | 0.4954 | 0.5803 |  0.0079 | 0.0037 | 0.03339 | ⋯ | 56.309 | 35 | 0.01266 | 4.52566995 |  8 | rs1362865 |  15547450 |  38.077787 | 0.46833773 | 43.810955 |\n",
       "| 2:2707835    | a | g | 0.6202 | 0.0141 | 0.5817 | 0.6672 | -0.0057 | 0.0038 | 0.1347  | ⋯ | 30.579 | 35 | 0.68150 | 2.23748399 |  2 | rs896222  |   2707835 |   4.232398 | 0.40897098 |  5.534595 |\n",
       "| 10:105248507 | t | c | 0.1054 | 0.0089 | 0.0840 | 0.1447 | -0.0095 | 0.0061 | 0.1185  | ⋯ | 34.318 | 35 | 0.50090 | 2.43703530 | 10 | rs2986038 | 105248507 | 130.758970 | 0.11609499 |  7.799071 |\n",
       "| 16:4171701   | a | g | 0.1559 | 0.0094 | 0.1206 | 0.1841 |  0.0012 | 0.0051 | 0.8128  | ⋯ | 28.240 | 35 | 0.78400 | 0.05608154 | 16 | rs7206142 |   4171701 |   7.505549 | 0.17546174 | 10.882460 |\n",
       "\n"
      ],
      "text/plain": [
       "  id           Allele1 Allele2 Freq1  FreqSE MinFreq MaxFreq Effect  StdErr\n",
       "1 18:814730    c       g       0.8867 0.0088 0.8699  0.9187  -0.0043 0.0059\n",
       "2 22:32853590  a       g       0.2646 0.0101 0.2342  0.3038   0.0043 0.0045\n",
       "3 8:15547450   t       c       0.5241 0.0181 0.4954  0.5803   0.0079 0.0037\n",
       "4 2:2707835    a       g       0.6202 0.0141 0.5817  0.6672  -0.0057 0.0038\n",
       "5 10:105248507 t       c       0.1054 0.0089 0.0840  0.1447  -0.0095 0.0061\n",
       "6 16:4171701   a       g       0.1559 0.0094 0.1206  0.1841   0.0012 0.0051\n",
       "  P-value ⋯ HetChiSq HetDf HetPVal chi_square CHR rsID      BP       \n",
       "1 0.4592  ⋯ 28.836   35    0.75930 0.54784394 18  rs9967286    814730\n",
       "2 0.3366  ⋯ 29.083   34    0.70740 0.92333818 22  rs5754099  32853590\n",
       "3 0.03339 ⋯ 56.309   35    0.01266 4.52566995  8  rs1362865  15547450\n",
       "4 0.1347  ⋯ 30.579   35    0.68150 2.23748399  2  rs896222    2707835\n",
       "5 0.1185  ⋯ 34.318   35    0.50090 2.43703530 10  rs2986038 105248507\n",
       "6 0.8128  ⋯ 28.240   35    0.78400 0.05608154 16  rs7206142   4171701\n",
       "  CM         MAF        L2       \n",
       "1   2.234824 0.09366755  9.062212\n",
       "2  36.467313 0.27704485 11.894881\n",
       "3  38.077787 0.46833773 43.810955\n",
       "4   4.232398 0.40897098  5.534595\n",
       "5 130.758970 0.11609499  7.799071\n",
       "6   7.505549 0.17546174 10.882460"
      ]
     },
     "metadata": {},
     "output_type": "display_data"
    }
   ],
   "source": [
    "#T2DGGI\n",
    "t2dggi_EUR <- fread(\"/lustre/groups/itg/teams/zeggini/users/archit.singh/lambda/summary_statistics/T2D/T2DGGI/T2D_GGI_EUR_MetalFixed_2023.txt\", header = TRUE)\n",
    "t2dggi_EUR$MarkerName <- gsub(\"^chr\", \"\", t2dggi_EUR$MarkerName)\n",
    "colnames(t2dggi_EUR)[colnames(t2dggi_EUR) == \"MarkerName\"] <- \"id\"\n",
    "t2dggi_EUR$chi_square <- qchisq(as.numeric(t2dggi_EUR$`P-value`),1,lower.tail=FALSE)\n",
    "t2dggi_EUR_with_ld_scores <- inner_join(t2dggi_EUR, EUR_LD_scores, by = \"id\")\n",
    "# Remove duplicates based on 'id'\n",
    "t2dggi_EUR_with_ld_scores <- t2dggi_EUR_with_ld_scores[!duplicated(t2dggi_EUR_with_ld_scores$id), ]\n",
    "t2dggi_EUR_with_ld_scores <- t2dggi_EUR_with_ld_scores[is.finite(t2dggi_EUR_with_ld_scores$chi_square), ]\n",
    "head(t2dggi_EUR_with_ld_scores)"
   ]
  },
  {
   "cell_type": "code",
   "execution_count": 22,
   "id": "f69635bc",
   "metadata": {},
   "outputs": [],
   "source": [
    "# Select only two columns\n",
    "subset_df_1 <- diamante18_EUR_with_ld_scores[, c(\"id\", \"L2\")]\n",
    "subset_df_2 <- diamante22_EUR_with_ld_scores[, c(\"rsID.x\", \"L2\")]\n",
    "subset_df_2 <- subset_df_2 %>% rename_with(~ \"rsID\", starts_with(\"rsID\"))\n",
    "# Write to a file\n",
    "write.table(subset_df_1, file = \"/lustre/groups/itg/teams/zeggini/users/archit.singh/lambda/independent_signals_analysis/DIAMANTE-18/diamante18_EUR_LD_scores_2.txt\", row.names = FALSE, col.names = TRUE, quote = FALSE, sep = \"\\t\")\n",
    "write.table(subset_df_2, file = \"/lustre/groups/itg/teams/zeggini/users/archit.singh/lambda/independent_signals_analysis/DIAMANTE-22/diamante22_EUR_LD_scores_2.txt\", row.names = FALSE, col.names = TRUE, quote = FALSE, sep = \"\\t\")"
   ]
  },
  {
   "cell_type": "markdown",
   "id": "3782b49b",
   "metadata": {},
   "source": [
    "#### Processing EAS datasets"
   ]
  },
  {
   "cell_type": "code",
   "execution_count": 23,
   "id": "8925c325",
   "metadata": {},
   "outputs": [
    {
     "name": "stderr",
     "output_type": "stream",
     "text": [
      "Warning message in qchisq(as.numeric(diamante22_EAS$`Fixed-effects_p-value`), 1, :\n",
      "“NAs introduced by coercion”\n"
     ]
    },
    {
     "data": {
      "text/html": [
       "<table class=\"dataframe\">\n",
       "<caption>A data.table: 6 × 20</caption>\n",
       "<thead>\n",
       "\t<tr><th scope=col>chromosome(b37)</th><th scope=col>position(b37)</th><th scope=col>id</th><th scope=col>rsID</th><th scope=col>effect_allele</th><th scope=col>other_allele</th><th scope=col>effect_allele_frequency</th><th scope=col>Fixed-effects_beta</th><th scope=col>Fixed-effects_SE</th><th scope=col>Fixed-effects_p-value</th><th scope=col>single_gc_p_values</th><th scope=col>chi_square</th><th scope=col>chr_old</th><th scope=col>pos_old</th><th scope=col>chr_new</th><th scope=col>pos_new</th><th scope=col>CHR</th><th scope=col>SNP</th><th scope=col>BP</th><th scope=col>L2</th></tr>\n",
       "\t<tr><th scope=col>&lt;int&gt;</th><th scope=col>&lt;int&gt;</th><th scope=col>&lt;chr&gt;</th><th scope=col>&lt;chr&gt;</th><th scope=col>&lt;chr&gt;</th><th scope=col>&lt;chr&gt;</th><th scope=col>&lt;dbl&gt;</th><th scope=col>&lt;dbl&gt;</th><th scope=col>&lt;dbl&gt;</th><th scope=col>&lt;chr&gt;</th><th scope=col>&lt;dbl&gt;</th><th scope=col>&lt;dbl&gt;</th><th scope=col>&lt;chr&gt;</th><th scope=col>&lt;int&gt;</th><th scope=col>&lt;chr&gt;</th><th scope=col>&lt;int&gt;</th><th scope=col>&lt;int&gt;</th><th scope=col>&lt;chr&gt;</th><th scope=col>&lt;int&gt;</th><th scope=col>&lt;dbl&gt;</th></tr>\n",
       "</thead>\n",
       "<tbody>\n",
       "\t<tr><td>1</td><td>693731</td><td>1:693731</td><td>rs12238997 </td><td>a</td><td>g</td><td>0.8990</td><td>-0.0282</td><td>0.0334</td><td>0.3987</td><td>0.3737065</td><td>0.79130263</td><td>1</td><td>758351</td><td>1</td><td>693731</td><td>1</td><td>rs12238997 </td><td>758351</td><td>41.704</td></tr>\n",
       "\t<tr><td>1</td><td>706368</td><td>1:706368</td><td>rs55727773 </td><td>a</td><td>g</td><td>0.7068</td><td>-0.0095</td><td>0.0250</td><td>0.7037</td><td>0.6885058</td><td>0.16070769</td><td>1</td><td>770988</td><td>1</td><td>706368</td><td>1</td><td>rs12029736 </td><td>770988</td><td>24.735</td></tr>\n",
       "\t<tr><td>1</td><td>721290</td><td>1:721290</td><td>rs12565286 </td><td>c</td><td>g</td><td>0.0372</td><td> 0.0049</td><td>0.0383</td><td>0.8981</td><td>0.8926258</td><td>0.01822023</td><td>1</td><td>785910</td><td>1</td><td>721290</td><td>1</td><td>rs12565286 </td><td>785910</td><td>84.780</td></tr>\n",
       "\t<tr><td>1</td><td>729679</td><td>1:729679</td><td>rs4951859  </td><td>c</td><td>g</td><td>0.2981</td><td> 0.0042</td><td>0.0227</td><td>0.853 </td><td>0.8451541</td><td>0.03814411</td><td>1</td><td>794299</td><td>1</td><td>729679</td><td>1</td><td>rs4951859  </td><td>794299</td><td>52.185</td></tr>\n",
       "\t<tr><td>1</td><td>731718</td><td>1:731718</td><td>rs142557973</td><td>t</td><td>c</td><td>0.8859</td><td>-0.0229</td><td>0.0323</td><td>0.4777</td><td>0.4542338</td><td>0.56006562</td><td>1</td><td>796338</td><td>1</td><td>731718</td><td>1</td><td>rs58276399 </td><td>796338</td><td>52.617</td></tr>\n",
       "\t<tr><td>1</td><td>734349</td><td>1:734349</td><td>rs141242758</td><td>t</td><td>c</td><td>0.8806</td><td> 0.0118</td><td>0.0247</td><td>0.6324</td><td>0.6141197</td><td>0.25421927</td><td>1</td><td>798969</td><td>1</td><td>734349</td><td>1</td><td>rs141242758</td><td>798969</td><td>51.422</td></tr>\n",
       "</tbody>\n",
       "</table>\n"
      ],
      "text/latex": [
       "A data.table: 6 × 20\n",
       "\\begin{tabular}{llllllllllllllllllll}\n",
       " chromosome(b37) & position(b37) & id & rsID & effect\\_allele & other\\_allele & effect\\_allele\\_frequency & Fixed-effects\\_beta & Fixed-effects\\_SE & Fixed-effects\\_p-value & single\\_gc\\_p\\_values & chi\\_square & chr\\_old & pos\\_old & chr\\_new & pos\\_new & CHR & SNP & BP & L2\\\\\n",
       " <int> & <int> & <chr> & <chr> & <chr> & <chr> & <dbl> & <dbl> & <dbl> & <chr> & <dbl> & <dbl> & <chr> & <int> & <chr> & <int> & <int> & <chr> & <int> & <dbl>\\\\\n",
       "\\hline\n",
       "\t 1 & 693731 & 1:693731 & rs12238997  & a & g & 0.8990 & -0.0282 & 0.0334 & 0.3987 & 0.3737065 & 0.79130263 & 1 & 758351 & 1 & 693731 & 1 & rs12238997  & 758351 & 41.704\\\\\n",
       "\t 1 & 706368 & 1:706368 & rs55727773  & a & g & 0.7068 & -0.0095 & 0.0250 & 0.7037 & 0.6885058 & 0.16070769 & 1 & 770988 & 1 & 706368 & 1 & rs12029736  & 770988 & 24.735\\\\\n",
       "\t 1 & 721290 & 1:721290 & rs12565286  & c & g & 0.0372 &  0.0049 & 0.0383 & 0.8981 & 0.8926258 & 0.01822023 & 1 & 785910 & 1 & 721290 & 1 & rs12565286  & 785910 & 84.780\\\\\n",
       "\t 1 & 729679 & 1:729679 & rs4951859   & c & g & 0.2981 &  0.0042 & 0.0227 & 0.853  & 0.8451541 & 0.03814411 & 1 & 794299 & 1 & 729679 & 1 & rs4951859   & 794299 & 52.185\\\\\n",
       "\t 1 & 731718 & 1:731718 & rs142557973 & t & c & 0.8859 & -0.0229 & 0.0323 & 0.4777 & 0.4542338 & 0.56006562 & 1 & 796338 & 1 & 731718 & 1 & rs58276399  & 796338 & 52.617\\\\\n",
       "\t 1 & 734349 & 1:734349 & rs141242758 & t & c & 0.8806 &  0.0118 & 0.0247 & 0.6324 & 0.6141197 & 0.25421927 & 1 & 798969 & 1 & 734349 & 1 & rs141242758 & 798969 & 51.422\\\\\n",
       "\\end{tabular}\n"
      ],
      "text/markdown": [
       "\n",
       "A data.table: 6 × 20\n",
       "\n",
       "| chromosome(b37) &lt;int&gt; | position(b37) &lt;int&gt; | id &lt;chr&gt; | rsID &lt;chr&gt; | effect_allele &lt;chr&gt; | other_allele &lt;chr&gt; | effect_allele_frequency &lt;dbl&gt; | Fixed-effects_beta &lt;dbl&gt; | Fixed-effects_SE &lt;dbl&gt; | Fixed-effects_p-value &lt;chr&gt; | single_gc_p_values &lt;dbl&gt; | chi_square &lt;dbl&gt; | chr_old &lt;chr&gt; | pos_old &lt;int&gt; | chr_new &lt;chr&gt; | pos_new &lt;int&gt; | CHR &lt;int&gt; | SNP &lt;chr&gt; | BP &lt;int&gt; | L2 &lt;dbl&gt; |\n",
       "|---|---|---|---|---|---|---|---|---|---|---|---|---|---|---|---|---|---|---|---|\n",
       "| 1 | 693731 | 1:693731 | rs12238997  | a | g | 0.8990 | -0.0282 | 0.0334 | 0.3987 | 0.3737065 | 0.79130263 | 1 | 758351 | 1 | 693731 | 1 | rs12238997  | 758351 | 41.704 |\n",
       "| 1 | 706368 | 1:706368 | rs55727773  | a | g | 0.7068 | -0.0095 | 0.0250 | 0.7037 | 0.6885058 | 0.16070769 | 1 | 770988 | 1 | 706368 | 1 | rs12029736  | 770988 | 24.735 |\n",
       "| 1 | 721290 | 1:721290 | rs12565286  | c | g | 0.0372 |  0.0049 | 0.0383 | 0.8981 | 0.8926258 | 0.01822023 | 1 | 785910 | 1 | 721290 | 1 | rs12565286  | 785910 | 84.780 |\n",
       "| 1 | 729679 | 1:729679 | rs4951859   | c | g | 0.2981 |  0.0042 | 0.0227 | 0.853  | 0.8451541 | 0.03814411 | 1 | 794299 | 1 | 729679 | 1 | rs4951859   | 794299 | 52.185 |\n",
       "| 1 | 731718 | 1:731718 | rs142557973 | t | c | 0.8859 | -0.0229 | 0.0323 | 0.4777 | 0.4542338 | 0.56006562 | 1 | 796338 | 1 | 731718 | 1 | rs58276399  | 796338 | 52.617 |\n",
       "| 1 | 734349 | 1:734349 | rs141242758 | t | c | 0.8806 |  0.0118 | 0.0247 | 0.6324 | 0.6141197 | 0.25421927 | 1 | 798969 | 1 | 734349 | 1 | rs141242758 | 798969 | 51.422 |\n",
       "\n"
      ],
      "text/plain": [
       "  chromosome(b37) position(b37) id       rsID        effect_allele other_allele\n",
       "1 1               693731        1:693731 rs12238997  a             g           \n",
       "2 1               706368        1:706368 rs55727773  a             g           \n",
       "3 1               721290        1:721290 rs12565286  c             g           \n",
       "4 1               729679        1:729679 rs4951859   c             g           \n",
       "5 1               731718        1:731718 rs142557973 t             c           \n",
       "6 1               734349        1:734349 rs141242758 t             c           \n",
       "  effect_allele_frequency Fixed-effects_beta Fixed-effects_SE\n",
       "1 0.8990                  -0.0282            0.0334          \n",
       "2 0.7068                  -0.0095            0.0250          \n",
       "3 0.0372                   0.0049            0.0383          \n",
       "4 0.2981                   0.0042            0.0227          \n",
       "5 0.8859                  -0.0229            0.0323          \n",
       "6 0.8806                   0.0118            0.0247          \n",
       "  Fixed-effects_p-value single_gc_p_values chi_square chr_old pos_old chr_new\n",
       "1 0.3987                0.3737065          0.79130263 1       758351  1      \n",
       "2 0.7037                0.6885058          0.16070769 1       770988  1      \n",
       "3 0.8981                0.8926258          0.01822023 1       785910  1      \n",
       "4 0.853                 0.8451541          0.03814411 1       794299  1      \n",
       "5 0.4777                0.4542338          0.56006562 1       796338  1      \n",
       "6 0.6324                0.6141197          0.25421927 1       798969  1      \n",
       "  pos_new CHR SNP         BP     L2    \n",
       "1 693731  1   rs12238997  758351 41.704\n",
       "2 706368  1   rs12029736  770988 24.735\n",
       "3 721290  1   rs12565286  785910 84.780\n",
       "4 729679  1   rs4951859   794299 52.185\n",
       "5 731718  1   rs58276399  796338 52.617\n",
       "6 734349  1   rs141242758 798969 51.422"
      ]
     },
     "metadata": {},
     "output_type": "display_data"
    }
   ],
   "source": [
    "diamante22_EAS <- fread(\"/lustre/groups/itg/teams/zeggini/users/archit.singh/lambda/summary_statistics/T2D/DIAMANTE.sumstats/DIAMANTE-EAS.sumstat.txt\", header = TRUE)\n",
    "chisq <- qchisq(as.numeric(diamante22_EAS$`Fixed-effects_p-value`),1,lower.tail=FALSE)\n",
    "lambda2 <- c(1.111) \n",
    "newchisq <- chisq*lambda2\n",
    "newpvalues <- pchisq(newchisq, df=1,lower.tail=FALSE)\n",
    "diamante22_EAS$single_gc_p_values <- newpvalues\n",
    "diamante22_EAS$chi_square <- qchisq(as.numeric(diamante22_EAS$single_gc_p_values),1,lower.tail=FALSE)\n",
    "#diamante22_EAS$chi_square <- qchisq(as.numeric(diamante22_EAS$`Fixed-effects_p-value`),1,lower.tail=FALSE)\n",
    "diamante22_EAS$chrposID <- gsub(\"^chr\", \"\", diamante22_EAS$chrposID)\n",
    "colnames(diamante22_EAS)[colnames(diamante22_EAS) == \"chrposID\"] <- \"id\"\n",
    "diamante22_EAS_with_ld_scores <- inner_join(diamante22_EAS, EAS_LD_scores, by = \"id\")\n",
    "# Remove duplicates based on 'id'\n",
    "diamante22_EAS_with_ld_scores <- diamante22_EAS_with_ld_scores[!duplicated(diamante22_EAS_with_ld_scores$id), ]\n",
    "diamante22_EAS_with_ld_scores <- diamante22_EAS_with_ld_scores[is.finite(diamante22_EAS_with_ld_scores$chi_square), ]\n",
    "head(diamante22_EAS_with_ld_scores)"
   ]
  },
  {
   "cell_type": "code",
   "execution_count": 24,
   "id": "337323dd",
   "metadata": {},
   "outputs": [
    {
     "data": {
      "text/html": [
       "<table class=\"dataframe\">\n",
       "<caption>A data.table: 6 × 24</caption>\n",
       "<thead>\n",
       "\t<tr><th scope=col>id</th><th scope=col>Allele1</th><th scope=col>Allele2</th><th scope=col>Freq1</th><th scope=col>FreqSE</th><th scope=col>MinFreq</th><th scope=col>MaxFreq</th><th scope=col>Effect</th><th scope=col>StdErr</th><th scope=col>P-value</th><th scope=col>⋯</th><th scope=col>HetPVal</th><th scope=col>chi_square</th><th scope=col>chr_old</th><th scope=col>pos_old</th><th scope=col>chr_new</th><th scope=col>pos_new</th><th scope=col>CHR</th><th scope=col>SNP</th><th scope=col>BP</th><th scope=col>L2</th></tr>\n",
       "\t<tr><th scope=col>&lt;chr&gt;</th><th scope=col>&lt;chr&gt;</th><th scope=col>&lt;chr&gt;</th><th scope=col>&lt;dbl&gt;</th><th scope=col>&lt;dbl&gt;</th><th scope=col>&lt;dbl&gt;</th><th scope=col>&lt;dbl&gt;</th><th scope=col>&lt;dbl&gt;</th><th scope=col>&lt;dbl&gt;</th><th scope=col>&lt;dbl&gt;</th><th scope=col>⋯</th><th scope=col>&lt;dbl&gt;</th><th scope=col>&lt;dbl&gt;</th><th scope=col>&lt;chr&gt;</th><th scope=col>&lt;int&gt;</th><th scope=col>&lt;chr&gt;</th><th scope=col>&lt;int&gt;</th><th scope=col>&lt;int&gt;</th><th scope=col>&lt;chr&gt;</th><th scope=col>&lt;int&gt;</th><th scope=col>&lt;dbl&gt;</th></tr>\n",
       "</thead>\n",
       "<tbody>\n",
       "\t<tr><td>8:135908647 </td><td>a</td><td>g</td><td>0.1906</td><td>0.0231</td><td>0.0954</td><td>0.2249</td><td> 0.0014</td><td>0.0081</td><td>0.86020</td><td>⋯</td><td>0.4430</td><td>0.0310181059</td><td>8 </td><td>134896404</td><td>8 </td><td>135908647</td><td> 8</td><td>rs11992603 </td><td>134896404</td><td> 47.424</td></tr>\n",
       "\t<tr><td>12:3871714  </td><td>a</td><td>c</td><td>0.9879</td><td>0.0033</td><td>0.9789</td><td>0.9960</td><td>-0.0006</td><td>0.0347</td><td>0.98640</td><td>⋯</td><td>0.7144</td><td>0.0002905626</td><td>12</td><td>  3762548</td><td>12</td><td>  3871714</td><td>12</td><td>rs192908256</td><td>  3762548</td><td>  4.024</td></tr>\n",
       "\t<tr><td>7:8327736   </td><td>a</td><td>t</td><td>0.9318</td><td>0.0135</td><td>0.8924</td><td>0.9803</td><td>-0.0099</td><td>0.0240</td><td>0.68140</td><td>⋯</td><td>0.5148</td><td>0.1685541387</td><td>7 </td><td>  8288106</td><td>7 </td><td>  8327736</td><td> 7</td><td>rs117087366</td><td>  8288106</td><td>  5.143</td></tr>\n",
       "\t<tr><td>18:814730   </td><td>c</td><td>g</td><td>0.9567</td><td>0.0086</td><td>0.9346</td><td>0.9766</td><td>-0.0012</td><td>0.0167</td><td>0.94450</td><td>⋯</td><td>0.4849</td><td>0.0048462653</td><td>18</td><td>   814729</td><td>18</td><td>   814730</td><td>18</td><td>rs9967286  </td><td>   814729</td><td> 19.564</td></tr>\n",
       "\t<tr><td>2:166277422 </td><td>a</td><td>g</td><td>0.0632</td><td>0.0088</td><td>0.0135</td><td>0.0736</td><td> 0.0240</td><td>0.0133</td><td>0.07085</td><td>⋯</td><td>0.9765</td><td>3.2632171003</td><td>2 </td><td>165420912</td><td>2 </td><td>166277422</td><td> 2</td><td>rs118019019</td><td>165420912</td><td>106.491</td></tr>\n",
       "\t<tr><td>11:119162516</td><td>a</td><td>g</td><td>0.0086</td><td>0.0037</td><td>0.0025</td><td>0.0159</td><td>-0.0989</td><td>0.0388</td><td>0.01089</td><td>⋯</td><td>0.6550</td><td>6.4831797149</td><td>11</td><td>119291806</td><td>11</td><td>119162516</td><td>11</td><td>rs142920889</td><td>119291806</td><td>165.481</td></tr>\n",
       "</tbody>\n",
       "</table>\n"
      ],
      "text/latex": [
       "A data.table: 6 × 24\n",
       "\\begin{tabular}{lllllllllllllllllllll}\n",
       " id & Allele1 & Allele2 & Freq1 & FreqSE & MinFreq & MaxFreq & Effect & StdErr & P-value & ⋯ & HetPVal & chi\\_square & chr\\_old & pos\\_old & chr\\_new & pos\\_new & CHR & SNP & BP & L2\\\\\n",
       " <chr> & <chr> & <chr> & <dbl> & <dbl> & <dbl> & <dbl> & <dbl> & <dbl> & <dbl> & ⋯ & <dbl> & <dbl> & <chr> & <int> & <chr> & <int> & <int> & <chr> & <int> & <dbl>\\\\\n",
       "\\hline\n",
       "\t 8:135908647  & a & g & 0.1906 & 0.0231 & 0.0954 & 0.2249 &  0.0014 & 0.0081 & 0.86020 & ⋯ & 0.4430 & 0.0310181059 & 8  & 134896404 & 8  & 135908647 &  8 & rs11992603  & 134896404 &  47.424\\\\\n",
       "\t 12:3871714   & a & c & 0.9879 & 0.0033 & 0.9789 & 0.9960 & -0.0006 & 0.0347 & 0.98640 & ⋯ & 0.7144 & 0.0002905626 & 12 &   3762548 & 12 &   3871714 & 12 & rs192908256 &   3762548 &   4.024\\\\\n",
       "\t 7:8327736    & a & t & 0.9318 & 0.0135 & 0.8924 & 0.9803 & -0.0099 & 0.0240 & 0.68140 & ⋯ & 0.5148 & 0.1685541387 & 7  &   8288106 & 7  &   8327736 &  7 & rs117087366 &   8288106 &   5.143\\\\\n",
       "\t 18:814730    & c & g & 0.9567 & 0.0086 & 0.9346 & 0.9766 & -0.0012 & 0.0167 & 0.94450 & ⋯ & 0.4849 & 0.0048462653 & 18 &    814729 & 18 &    814730 & 18 & rs9967286   &    814729 &  19.564\\\\\n",
       "\t 2:166277422  & a & g & 0.0632 & 0.0088 & 0.0135 & 0.0736 &  0.0240 & 0.0133 & 0.07085 & ⋯ & 0.9765 & 3.2632171003 & 2  & 165420912 & 2  & 166277422 &  2 & rs118019019 & 165420912 & 106.491\\\\\n",
       "\t 11:119162516 & a & g & 0.0086 & 0.0037 & 0.0025 & 0.0159 & -0.0989 & 0.0388 & 0.01089 & ⋯ & 0.6550 & 6.4831797149 & 11 & 119291806 & 11 & 119162516 & 11 & rs142920889 & 119291806 & 165.481\\\\\n",
       "\\end{tabular}\n"
      ],
      "text/markdown": [
       "\n",
       "A data.table: 6 × 24\n",
       "\n",
       "| id &lt;chr&gt; | Allele1 &lt;chr&gt; | Allele2 &lt;chr&gt; | Freq1 &lt;dbl&gt; | FreqSE &lt;dbl&gt; | MinFreq &lt;dbl&gt; | MaxFreq &lt;dbl&gt; | Effect &lt;dbl&gt; | StdErr &lt;dbl&gt; | P-value &lt;dbl&gt; | ⋯ ⋯ | HetPVal &lt;dbl&gt; | chi_square &lt;dbl&gt; | chr_old &lt;chr&gt; | pos_old &lt;int&gt; | chr_new &lt;chr&gt; | pos_new &lt;int&gt; | CHR &lt;int&gt; | SNP &lt;chr&gt; | BP &lt;int&gt; | L2 &lt;dbl&gt; |\n",
       "|---|---|---|---|---|---|---|---|---|---|---|---|---|---|---|---|---|---|---|---|---|\n",
       "| 8:135908647  | a | g | 0.1906 | 0.0231 | 0.0954 | 0.2249 |  0.0014 | 0.0081 | 0.86020 | ⋯ | 0.4430 | 0.0310181059 | 8  | 134896404 | 8  | 135908647 |  8 | rs11992603  | 134896404 |  47.424 |\n",
       "| 12:3871714   | a | c | 0.9879 | 0.0033 | 0.9789 | 0.9960 | -0.0006 | 0.0347 | 0.98640 | ⋯ | 0.7144 | 0.0002905626 | 12 |   3762548 | 12 |   3871714 | 12 | rs192908256 |   3762548 |   4.024 |\n",
       "| 7:8327736    | a | t | 0.9318 | 0.0135 | 0.8924 | 0.9803 | -0.0099 | 0.0240 | 0.68140 | ⋯ | 0.5148 | 0.1685541387 | 7  |   8288106 | 7  |   8327736 |  7 | rs117087366 |   8288106 |   5.143 |\n",
       "| 18:814730    | c | g | 0.9567 | 0.0086 | 0.9346 | 0.9766 | -0.0012 | 0.0167 | 0.94450 | ⋯ | 0.4849 | 0.0048462653 | 18 |    814729 | 18 |    814730 | 18 | rs9967286   |    814729 |  19.564 |\n",
       "| 2:166277422  | a | g | 0.0632 | 0.0088 | 0.0135 | 0.0736 |  0.0240 | 0.0133 | 0.07085 | ⋯ | 0.9765 | 3.2632171003 | 2  | 165420912 | 2  | 166277422 |  2 | rs118019019 | 165420912 | 106.491 |\n",
       "| 11:119162516 | a | g | 0.0086 | 0.0037 | 0.0025 | 0.0159 | -0.0989 | 0.0388 | 0.01089 | ⋯ | 0.6550 | 6.4831797149 | 11 | 119291806 | 11 | 119162516 | 11 | rs142920889 | 119291806 | 165.481 |\n",
       "\n"
      ],
      "text/plain": [
       "  id           Allele1 Allele2 Freq1  FreqSE MinFreq MaxFreq Effect  StdErr\n",
       "1 8:135908647  a       g       0.1906 0.0231 0.0954  0.2249   0.0014 0.0081\n",
       "2 12:3871714   a       c       0.9879 0.0033 0.9789  0.9960  -0.0006 0.0347\n",
       "3 7:8327736    a       t       0.9318 0.0135 0.8924  0.9803  -0.0099 0.0240\n",
       "4 18:814730    c       g       0.9567 0.0086 0.9346  0.9766  -0.0012 0.0167\n",
       "5 2:166277422  a       g       0.0632 0.0088 0.0135  0.0736   0.0240 0.0133\n",
       "6 11:119162516 a       g       0.0086 0.0037 0.0025  0.0159  -0.0989 0.0388\n",
       "  P-value ⋯ HetPVal chi_square   chr_old pos_old   chr_new pos_new   CHR\n",
       "1 0.86020 ⋯ 0.4430  0.0310181059 8       134896404 8       135908647  8 \n",
       "2 0.98640 ⋯ 0.7144  0.0002905626 12        3762548 12        3871714 12 \n",
       "3 0.68140 ⋯ 0.5148  0.1685541387 7         8288106 7         8327736  7 \n",
       "4 0.94450 ⋯ 0.4849  0.0048462653 18         814729 18         814730 18 \n",
       "5 0.07085 ⋯ 0.9765  3.2632171003 2       165420912 2       166277422  2 \n",
       "6 0.01089 ⋯ 0.6550  6.4831797149 11      119291806 11      119162516 11 \n",
       "  SNP         BP        L2     \n",
       "1 rs11992603  134896404  47.424\n",
       "2 rs192908256   3762548   4.024\n",
       "3 rs117087366   8288106   5.143\n",
       "4 rs9967286      814729  19.564\n",
       "5 rs118019019 165420912 106.491\n",
       "6 rs142920889 119291806 165.481"
      ]
     },
     "metadata": {},
     "output_type": "display_data"
    }
   ],
   "source": [
    "t2dggi_EAS <- fread(\"/lustre/groups/itg/teams/zeggini/users/archit.singh/lambda/summary_statistics/T2D/T2DGGI/EAS_MetalFixed_LDSC-CORR_Results1TBL.txt\", header = TRUE)\n",
    "t2dggi_EAS$MarkerName <- gsub(\"^chr\", \"\", t2dggi_EAS$MarkerName)\n",
    "colnames(t2dggi_EAS)[colnames(t2dggi_EAS) == \"MarkerName\"] <- \"id\"\n",
    "t2dggi_EAS$chi_square <- qchisq(as.numeric(t2dggi_EAS$`P-value`),1,lower.tail=FALSE)\n",
    "t2dggi_EAS_with_ld_scores <- inner_join(t2dggi_EAS, EAS_LD_scores, by = \"id\")\n",
    "# Remove duplicates based on 'id'\n",
    "t2dggi_EAS_with_ld_scores <- t2dggi_EAS_with_ld_scores[!duplicated(t2dggi_EAS_with_ld_scores$id), ]\n",
    "t2dggi_EAS_with_ld_scores <- t2dggi_EAS_with_ld_scores[is.finite(t2dggi_EAS_with_ld_scores$chi_square), ]\n",
    "head(t2dggi_EAS_with_ld_scores)"
   ]
  },
  {
   "cell_type": "markdown",
   "id": "0fed4610",
   "metadata": {},
   "source": [
    "#### Processing SAS datasets"
   ]
  },
  {
   "cell_type": "code",
   "execution_count": 25,
   "id": "9c74e92a",
   "metadata": {},
   "outputs": [
    {
     "data": {
      "text/html": [
       "<table class=\"dataframe\">\n",
       "<caption>A data.table: 6 × 19</caption>\n",
       "<thead>\n",
       "\t<tr><th scope=col>chromosome(b37)</th><th scope=col>position(b37)</th><th scope=col>id</th><th scope=col>rsID</th><th scope=col>effect_allele</th><th scope=col>other_allele</th><th scope=col>effect_allele_frequency</th><th scope=col>Fixed-effects_beta</th><th scope=col>Fixed-effects_SE</th><th scope=col>Fixed-effects_p-value</th><th scope=col>chi_square</th><th scope=col>chr_old</th><th scope=col>pos_old</th><th scope=col>chr_new</th><th scope=col>pos_new</th><th scope=col>CHR</th><th scope=col>SNP</th><th scope=col>BP</th><th scope=col>L2</th></tr>\n",
       "\t<tr><th scope=col>&lt;int&gt;</th><th scope=col>&lt;int&gt;</th><th scope=col>&lt;chr&gt;</th><th scope=col>&lt;chr&gt;</th><th scope=col>&lt;chr&gt;</th><th scope=col>&lt;chr&gt;</th><th scope=col>&lt;dbl&gt;</th><th scope=col>&lt;dbl&gt;</th><th scope=col>&lt;dbl&gt;</th><th scope=col>&lt;dbl&gt;</th><th scope=col>&lt;dbl&gt;</th><th scope=col>&lt;chr&gt;</th><th scope=col>&lt;int&gt;</th><th scope=col>&lt;chr&gt;</th><th scope=col>&lt;int&gt;</th><th scope=col>&lt;int&gt;</th><th scope=col>&lt;chr&gt;</th><th scope=col>&lt;int&gt;</th><th scope=col>&lt;dbl&gt;</th></tr>\n",
       "</thead>\n",
       "<tbody>\n",
       "\t<tr><td>1</td><td>693731</td><td>1:693731</td><td>rs12238997 </td><td>a</td><td>g</td><td>0.8434</td><td>0.0224</td><td>0.0337</td><td>0.5062</td><td>0.44191419</td><td>1</td><td>758351</td><td>1</td><td>693731</td><td>1</td><td>rs12238997 </td><td>758351</td><td>56.373</td></tr>\n",
       "\t<tr><td>1</td><td>706368</td><td>1:706368</td><td>rs55727773 </td><td>a</td><td>g</td><td>0.6733</td><td>0.0410</td><td>0.0291</td><td>0.1589</td><td>1.98466329</td><td>1</td><td>770988</td><td>1</td><td>706368</td><td>1</td><td>rs12029736 </td><td>770988</td><td>23.026</td></tr>\n",
       "\t<tr><td>1</td><td>721290</td><td>1:721290</td><td>rs12565286 </td><td>c</td><td>g</td><td>0.0452</td><td>0.0540</td><td>0.0626</td><td>0.3883</td><td>0.74425892</td><td>1</td><td>785910</td><td>1</td><td>721290</td><td>1</td><td>rs12565286 </td><td>785910</td><td>81.395</td></tr>\n",
       "\t<tr><td>1</td><td>729679</td><td>1:729679</td><td>rs4951859  </td><td>c</td><td>g</td><td>0.2323</td><td>0.0090</td><td>0.0286</td><td>0.7530</td><td>0.09902734</td><td>1</td><td>794299</td><td>1</td><td>729679</td><td>1</td><td>rs4951859  </td><td>794299</td><td>70.168</td></tr>\n",
       "\t<tr><td>1</td><td>731718</td><td>1:731718</td><td>rs142557973</td><td>t</td><td>c</td><td>0.8238</td><td>0.0164</td><td>0.0321</td><td>0.6094</td><td>0.26104957</td><td>1</td><td>796338</td><td>1</td><td>731718</td><td>1</td><td>rs58276399 </td><td>796338</td><td>50.508</td></tr>\n",
       "\t<tr><td>1</td><td>734349</td><td>1:734349</td><td>rs141242758</td><td>t</td><td>c</td><td>0.8257</td><td>0.0226</td><td>0.0321</td><td>0.4814</td><td>0.49569010</td><td>1</td><td>798969</td><td>1</td><td>734349</td><td>1</td><td>rs141242758</td><td>798969</td><td>50.696</td></tr>\n",
       "</tbody>\n",
       "</table>\n"
      ],
      "text/latex": [
       "A data.table: 6 × 19\n",
       "\\begin{tabular}{lllllllllllllllllll}\n",
       " chromosome(b37) & position(b37) & id & rsID & effect\\_allele & other\\_allele & effect\\_allele\\_frequency & Fixed-effects\\_beta & Fixed-effects\\_SE & Fixed-effects\\_p-value & chi\\_square & chr\\_old & pos\\_old & chr\\_new & pos\\_new & CHR & SNP & BP & L2\\\\\n",
       " <int> & <int> & <chr> & <chr> & <chr> & <chr> & <dbl> & <dbl> & <dbl> & <dbl> & <dbl> & <chr> & <int> & <chr> & <int> & <int> & <chr> & <int> & <dbl>\\\\\n",
       "\\hline\n",
       "\t 1 & 693731 & 1:693731 & rs12238997  & a & g & 0.8434 & 0.0224 & 0.0337 & 0.5062 & 0.44191419 & 1 & 758351 & 1 & 693731 & 1 & rs12238997  & 758351 & 56.373\\\\\n",
       "\t 1 & 706368 & 1:706368 & rs55727773  & a & g & 0.6733 & 0.0410 & 0.0291 & 0.1589 & 1.98466329 & 1 & 770988 & 1 & 706368 & 1 & rs12029736  & 770988 & 23.026\\\\\n",
       "\t 1 & 721290 & 1:721290 & rs12565286  & c & g & 0.0452 & 0.0540 & 0.0626 & 0.3883 & 0.74425892 & 1 & 785910 & 1 & 721290 & 1 & rs12565286  & 785910 & 81.395\\\\\n",
       "\t 1 & 729679 & 1:729679 & rs4951859   & c & g & 0.2323 & 0.0090 & 0.0286 & 0.7530 & 0.09902734 & 1 & 794299 & 1 & 729679 & 1 & rs4951859   & 794299 & 70.168\\\\\n",
       "\t 1 & 731718 & 1:731718 & rs142557973 & t & c & 0.8238 & 0.0164 & 0.0321 & 0.6094 & 0.26104957 & 1 & 796338 & 1 & 731718 & 1 & rs58276399  & 796338 & 50.508\\\\\n",
       "\t 1 & 734349 & 1:734349 & rs141242758 & t & c & 0.8257 & 0.0226 & 0.0321 & 0.4814 & 0.49569010 & 1 & 798969 & 1 & 734349 & 1 & rs141242758 & 798969 & 50.696\\\\\n",
       "\\end{tabular}\n"
      ],
      "text/markdown": [
       "\n",
       "A data.table: 6 × 19\n",
       "\n",
       "| chromosome(b37) &lt;int&gt; | position(b37) &lt;int&gt; | id &lt;chr&gt; | rsID &lt;chr&gt; | effect_allele &lt;chr&gt; | other_allele &lt;chr&gt; | effect_allele_frequency &lt;dbl&gt; | Fixed-effects_beta &lt;dbl&gt; | Fixed-effects_SE &lt;dbl&gt; | Fixed-effects_p-value &lt;dbl&gt; | chi_square &lt;dbl&gt; | chr_old &lt;chr&gt; | pos_old &lt;int&gt; | chr_new &lt;chr&gt; | pos_new &lt;int&gt; | CHR &lt;int&gt; | SNP &lt;chr&gt; | BP &lt;int&gt; | L2 &lt;dbl&gt; |\n",
       "|---|---|---|---|---|---|---|---|---|---|---|---|---|---|---|---|---|---|---|\n",
       "| 1 | 693731 | 1:693731 | rs12238997  | a | g | 0.8434 | 0.0224 | 0.0337 | 0.5062 | 0.44191419 | 1 | 758351 | 1 | 693731 | 1 | rs12238997  | 758351 | 56.373 |\n",
       "| 1 | 706368 | 1:706368 | rs55727773  | a | g | 0.6733 | 0.0410 | 0.0291 | 0.1589 | 1.98466329 | 1 | 770988 | 1 | 706368 | 1 | rs12029736  | 770988 | 23.026 |\n",
       "| 1 | 721290 | 1:721290 | rs12565286  | c | g | 0.0452 | 0.0540 | 0.0626 | 0.3883 | 0.74425892 | 1 | 785910 | 1 | 721290 | 1 | rs12565286  | 785910 | 81.395 |\n",
       "| 1 | 729679 | 1:729679 | rs4951859   | c | g | 0.2323 | 0.0090 | 0.0286 | 0.7530 | 0.09902734 | 1 | 794299 | 1 | 729679 | 1 | rs4951859   | 794299 | 70.168 |\n",
       "| 1 | 731718 | 1:731718 | rs142557973 | t | c | 0.8238 | 0.0164 | 0.0321 | 0.6094 | 0.26104957 | 1 | 796338 | 1 | 731718 | 1 | rs58276399  | 796338 | 50.508 |\n",
       "| 1 | 734349 | 1:734349 | rs141242758 | t | c | 0.8257 | 0.0226 | 0.0321 | 0.4814 | 0.49569010 | 1 | 798969 | 1 | 734349 | 1 | rs141242758 | 798969 | 50.696 |\n",
       "\n"
      ],
      "text/plain": [
       "  chromosome(b37) position(b37) id       rsID        effect_allele other_allele\n",
       "1 1               693731        1:693731 rs12238997  a             g           \n",
       "2 1               706368        1:706368 rs55727773  a             g           \n",
       "3 1               721290        1:721290 rs12565286  c             g           \n",
       "4 1               729679        1:729679 rs4951859   c             g           \n",
       "5 1               731718        1:731718 rs142557973 t             c           \n",
       "6 1               734349        1:734349 rs141242758 t             c           \n",
       "  effect_allele_frequency Fixed-effects_beta Fixed-effects_SE\n",
       "1 0.8434                  0.0224             0.0337          \n",
       "2 0.6733                  0.0410             0.0291          \n",
       "3 0.0452                  0.0540             0.0626          \n",
       "4 0.2323                  0.0090             0.0286          \n",
       "5 0.8238                  0.0164             0.0321          \n",
       "6 0.8257                  0.0226             0.0321          \n",
       "  Fixed-effects_p-value chi_square chr_old pos_old chr_new pos_new CHR\n",
       "1 0.5062                0.44191419 1       758351  1       693731  1  \n",
       "2 0.1589                1.98466329 1       770988  1       706368  1  \n",
       "3 0.3883                0.74425892 1       785910  1       721290  1  \n",
       "4 0.7530                0.09902734 1       794299  1       729679  1  \n",
       "5 0.6094                0.26104957 1       796338  1       731718  1  \n",
       "6 0.4814                0.49569010 1       798969  1       734349  1  \n",
       "  SNP         BP     L2    \n",
       "1 rs12238997  758351 56.373\n",
       "2 rs12029736  770988 23.026\n",
       "3 rs12565286  785910 81.395\n",
       "4 rs4951859   794299 70.168\n",
       "5 rs58276399  796338 50.508\n",
       "6 rs141242758 798969 50.696"
      ]
     },
     "metadata": {},
     "output_type": "display_data"
    }
   ],
   "source": [
    "diamante22_SAS <- fread(\"/lustre/groups/itg/teams/zeggini/users/archit.singh/lambda/summary_statistics/T2D/DIAMANTE.sumstats/DIAMANTE-SAS.sumstat.txt\", header = TRUE)\n",
    "diamante22_SAS$chi_square <- qchisq(as.numeric(diamante22_SAS$`Fixed-effects_p-value`),1,lower.tail=FALSE)\n",
    "diamante22_SAS$chrposID <- gsub(\"^chr\", \"\", diamante22_SAS$chrposID)\n",
    "colnames(diamante22_SAS)[colnames(diamante22_SAS) == \"chrposID\"] <- \"id\"\n",
    "diamante22_SAS_with_ld_scores <- inner_join(diamante22_SAS, SAS_LD_scores, by = \"id\")\n",
    "# Remove duplicates based on 'id'\n",
    "diamante22_SAS_with_ld_scores <- diamante22_SAS_with_ld_scores[!duplicated(diamante22_SAS_with_ld_scores$id), ]\n",
    "diamante22_SAS_with_ld_scores <- diamante22_SAS_with_ld_scores[is.finite(diamante22_SAS_with_ld_scores$chi_square), ]\n",
    "head(diamante22_SAS_with_ld_scores)"
   ]
  },
  {
   "cell_type": "code",
   "execution_count": 26,
   "id": "f1ebbbd6",
   "metadata": {},
   "outputs": [
    {
     "data": {
      "text/html": [
       "<table class=\"dataframe\">\n",
       "<caption>A data.table: 6 × 24</caption>\n",
       "<thead>\n",
       "\t<tr><th scope=col>id</th><th scope=col>Allele1</th><th scope=col>Allele2</th><th scope=col>Freq1</th><th scope=col>FreqSE</th><th scope=col>MinFreq</th><th scope=col>MaxFreq</th><th scope=col>Effect</th><th scope=col>StdErr</th><th scope=col>P-value</th><th scope=col>⋯</th><th scope=col>HetPVal</th><th scope=col>chi_square</th><th scope=col>chr_old</th><th scope=col>pos_old</th><th scope=col>chr_new</th><th scope=col>pos_new</th><th scope=col>CHR</th><th scope=col>SNP</th><th scope=col>BP</th><th scope=col>L2</th></tr>\n",
       "\t<tr><th scope=col>&lt;chr&gt;</th><th scope=col>&lt;chr&gt;</th><th scope=col>&lt;chr&gt;</th><th scope=col>&lt;dbl&gt;</th><th scope=col>&lt;dbl&gt;</th><th scope=col>&lt;dbl&gt;</th><th scope=col>&lt;dbl&gt;</th><th scope=col>&lt;dbl&gt;</th><th scope=col>&lt;dbl&gt;</th><th scope=col>&lt;dbl&gt;</th><th scope=col>⋯</th><th scope=col>&lt;dbl&gt;</th><th scope=col>&lt;dbl&gt;</th><th scope=col>&lt;chr&gt;</th><th scope=col>&lt;int&gt;</th><th scope=col>&lt;chr&gt;</th><th scope=col>&lt;int&gt;</th><th scope=col>&lt;int&gt;</th><th scope=col>&lt;chr&gt;</th><th scope=col>&lt;int&gt;</th><th scope=col>&lt;dbl&gt;</th></tr>\n",
       "</thead>\n",
       "<tbody>\n",
       "\t<tr><td>4:87237748 </td><td>t</td><td>g</td><td>0.2694</td><td>0.0100</td><td>0.2435</td><td>0.2890</td><td>-0.0269</td><td>0.0163</td><td>0.09771</td><td>⋯</td><td>0.5405</td><td>2.742529305</td><td>4 </td><td> 86316595</td><td>4 </td><td> 87237748</td><td> 4</td><td>rs62307365</td><td> 86316595</td><td>158.197</td></tr>\n",
       "\t<tr><td>2:39831939 </td><td>t</td><td>c</td><td>0.6115</td><td>0.0145</td><td>0.5669</td><td>0.6690</td><td> 0.0189</td><td>0.0151</td><td>0.21280</td><td>⋯</td><td>0.5811</td><td>1.552274344</td><td>2 </td><td> 39604799</td><td>2 </td><td> 39831939</td><td> 2</td><td>rs1005425 </td><td> 39604799</td><td> 75.186</td></tr>\n",
       "\t<tr><td>3:100575928</td><td>t</td><td>c</td><td>0.0296</td><td>0.0052</td><td>0.0123</td><td>0.0401</td><td> 0.0045</td><td>0.0507</td><td>0.92870</td><td>⋯</td><td>0.7381</td><td>0.008006771</td><td>3 </td><td>100857084</td><td>3 </td><td>100575928</td><td> 3</td><td>rs73137219</td><td>100857084</td><td> 22.386</td></tr>\n",
       "\t<tr><td>1:206676331</td><td>a</td><td>g</td><td>0.6427</td><td>0.0152</td><td>0.5922</td><td>0.6690</td><td>-0.0065</td><td>0.0150</td><td>0.66500</td><td>⋯</td><td>0.4385</td><td>0.187506607</td><td>1 </td><td>206502998</td><td>1 </td><td>206676331</td><td> 1</td><td>rs3860295 </td><td>206502998</td><td> 49.928</td></tr>\n",
       "\t<tr><td>8:135908647</td><td>a</td><td>g</td><td>0.1184</td><td>0.0101</td><td>0.0927</td><td>0.1493</td><td> 0.0073</td><td>0.0228</td><td>0.74690</td><td>⋯</td><td>0.4308</td><td>0.104154423</td><td>8 </td><td>134896404</td><td>8 </td><td>135908647</td><td> 8</td><td>rs11992603</td><td>134896404</td><td> 41.443</td></tr>\n",
       "\t<tr><td>11:97895884</td><td>c</td><td>g</td><td>0.1152</td><td>0.0080</td><td>0.0827</td><td>0.1230</td><td> 0.0463</td><td>0.0229</td><td>0.04296</td><td>⋯</td><td>0.5968</td><td>4.096975443</td><td>11</td><td> 98025156</td><td>11</td><td> 97895884</td><td>11</td><td>rs11213687</td><td> 98025156</td><td>229.841</td></tr>\n",
       "</tbody>\n",
       "</table>\n"
      ],
      "text/latex": [
       "A data.table: 6 × 24\n",
       "\\begin{tabular}{lllllllllllllllllllll}\n",
       " id & Allele1 & Allele2 & Freq1 & FreqSE & MinFreq & MaxFreq & Effect & StdErr & P-value & ⋯ & HetPVal & chi\\_square & chr\\_old & pos\\_old & chr\\_new & pos\\_new & CHR & SNP & BP & L2\\\\\n",
       " <chr> & <chr> & <chr> & <dbl> & <dbl> & <dbl> & <dbl> & <dbl> & <dbl> & <dbl> & ⋯ & <dbl> & <dbl> & <chr> & <int> & <chr> & <int> & <int> & <chr> & <int> & <dbl>\\\\\n",
       "\\hline\n",
       "\t 4:87237748  & t & g & 0.2694 & 0.0100 & 0.2435 & 0.2890 & -0.0269 & 0.0163 & 0.09771 & ⋯ & 0.5405 & 2.742529305 & 4  &  86316595 & 4  &  87237748 &  4 & rs62307365 &  86316595 & 158.197\\\\\n",
       "\t 2:39831939  & t & c & 0.6115 & 0.0145 & 0.5669 & 0.6690 &  0.0189 & 0.0151 & 0.21280 & ⋯ & 0.5811 & 1.552274344 & 2  &  39604799 & 2  &  39831939 &  2 & rs1005425  &  39604799 &  75.186\\\\\n",
       "\t 3:100575928 & t & c & 0.0296 & 0.0052 & 0.0123 & 0.0401 &  0.0045 & 0.0507 & 0.92870 & ⋯ & 0.7381 & 0.008006771 & 3  & 100857084 & 3  & 100575928 &  3 & rs73137219 & 100857084 &  22.386\\\\\n",
       "\t 1:206676331 & a & g & 0.6427 & 0.0152 & 0.5922 & 0.6690 & -0.0065 & 0.0150 & 0.66500 & ⋯ & 0.4385 & 0.187506607 & 1  & 206502998 & 1  & 206676331 &  1 & rs3860295  & 206502998 &  49.928\\\\\n",
       "\t 8:135908647 & a & g & 0.1184 & 0.0101 & 0.0927 & 0.1493 &  0.0073 & 0.0228 & 0.74690 & ⋯ & 0.4308 & 0.104154423 & 8  & 134896404 & 8  & 135908647 &  8 & rs11992603 & 134896404 &  41.443\\\\\n",
       "\t 11:97895884 & c & g & 0.1152 & 0.0080 & 0.0827 & 0.1230 &  0.0463 & 0.0229 & 0.04296 & ⋯ & 0.5968 & 4.096975443 & 11 &  98025156 & 11 &  97895884 & 11 & rs11213687 &  98025156 & 229.841\\\\\n",
       "\\end{tabular}\n"
      ],
      "text/markdown": [
       "\n",
       "A data.table: 6 × 24\n",
       "\n",
       "| id &lt;chr&gt; | Allele1 &lt;chr&gt; | Allele2 &lt;chr&gt; | Freq1 &lt;dbl&gt; | FreqSE &lt;dbl&gt; | MinFreq &lt;dbl&gt; | MaxFreq &lt;dbl&gt; | Effect &lt;dbl&gt; | StdErr &lt;dbl&gt; | P-value &lt;dbl&gt; | ⋯ ⋯ | HetPVal &lt;dbl&gt; | chi_square &lt;dbl&gt; | chr_old &lt;chr&gt; | pos_old &lt;int&gt; | chr_new &lt;chr&gt; | pos_new &lt;int&gt; | CHR &lt;int&gt; | SNP &lt;chr&gt; | BP &lt;int&gt; | L2 &lt;dbl&gt; |\n",
       "|---|---|---|---|---|---|---|---|---|---|---|---|---|---|---|---|---|---|---|---|---|\n",
       "| 4:87237748  | t | g | 0.2694 | 0.0100 | 0.2435 | 0.2890 | -0.0269 | 0.0163 | 0.09771 | ⋯ | 0.5405 | 2.742529305 | 4  |  86316595 | 4  |  87237748 |  4 | rs62307365 |  86316595 | 158.197 |\n",
       "| 2:39831939  | t | c | 0.6115 | 0.0145 | 0.5669 | 0.6690 |  0.0189 | 0.0151 | 0.21280 | ⋯ | 0.5811 | 1.552274344 | 2  |  39604799 | 2  |  39831939 |  2 | rs1005425  |  39604799 |  75.186 |\n",
       "| 3:100575928 | t | c | 0.0296 | 0.0052 | 0.0123 | 0.0401 |  0.0045 | 0.0507 | 0.92870 | ⋯ | 0.7381 | 0.008006771 | 3  | 100857084 | 3  | 100575928 |  3 | rs73137219 | 100857084 |  22.386 |\n",
       "| 1:206676331 | a | g | 0.6427 | 0.0152 | 0.5922 | 0.6690 | -0.0065 | 0.0150 | 0.66500 | ⋯ | 0.4385 | 0.187506607 | 1  | 206502998 | 1  | 206676331 |  1 | rs3860295  | 206502998 |  49.928 |\n",
       "| 8:135908647 | a | g | 0.1184 | 0.0101 | 0.0927 | 0.1493 |  0.0073 | 0.0228 | 0.74690 | ⋯ | 0.4308 | 0.104154423 | 8  | 134896404 | 8  | 135908647 |  8 | rs11992603 | 134896404 |  41.443 |\n",
       "| 11:97895884 | c | g | 0.1152 | 0.0080 | 0.0827 | 0.1230 |  0.0463 | 0.0229 | 0.04296 | ⋯ | 0.5968 | 4.096975443 | 11 |  98025156 | 11 |  97895884 | 11 | rs11213687 |  98025156 | 229.841 |\n",
       "\n"
      ],
      "text/plain": [
       "  id          Allele1 Allele2 Freq1  FreqSE MinFreq MaxFreq Effect  StdErr\n",
       "1 4:87237748  t       g       0.2694 0.0100 0.2435  0.2890  -0.0269 0.0163\n",
       "2 2:39831939  t       c       0.6115 0.0145 0.5669  0.6690   0.0189 0.0151\n",
       "3 3:100575928 t       c       0.0296 0.0052 0.0123  0.0401   0.0045 0.0507\n",
       "4 1:206676331 a       g       0.6427 0.0152 0.5922  0.6690  -0.0065 0.0150\n",
       "5 8:135908647 a       g       0.1184 0.0101 0.0927  0.1493   0.0073 0.0228\n",
       "6 11:97895884 c       g       0.1152 0.0080 0.0827  0.1230   0.0463 0.0229\n",
       "  P-value ⋯ HetPVal chi_square  chr_old pos_old   chr_new pos_new   CHR\n",
       "1 0.09771 ⋯ 0.5405  2.742529305 4        86316595 4        87237748  4 \n",
       "2 0.21280 ⋯ 0.5811  1.552274344 2        39604799 2        39831939  2 \n",
       "3 0.92870 ⋯ 0.7381  0.008006771 3       100857084 3       100575928  3 \n",
       "4 0.66500 ⋯ 0.4385  0.187506607 1       206502998 1       206676331  1 \n",
       "5 0.74690 ⋯ 0.4308  0.104154423 8       134896404 8       135908647  8 \n",
       "6 0.04296 ⋯ 0.5968  4.096975443 11       98025156 11       97895884 11 \n",
       "  SNP        BP        L2     \n",
       "1 rs62307365  86316595 158.197\n",
       "2 rs1005425   39604799  75.186\n",
       "3 rs73137219 100857084  22.386\n",
       "4 rs3860295  206502998  49.928\n",
       "5 rs11992603 134896404  41.443\n",
       "6 rs11213687  98025156 229.841"
      ]
     },
     "metadata": {},
     "output_type": "display_data"
    }
   ],
   "source": [
    "t2dggi_SAS <- fread(\"/lustre/groups/itg/teams/zeggini/users/archit.singh/lambda/summary_statistics/T2D/T2DGGI/SAS_MetalFixed_LDSC-CORR_Results1TBL.txt\", header = TRUE)\n",
    "t2dggi_SAS$MarkerName <- gsub(\"^chr\", \"\", t2dggi_SAS$MarkerName)\n",
    "colnames(t2dggi_SAS)[colnames(t2dggi_SAS) == \"MarkerName\"] <- \"id\"\n",
    "t2dggi_SAS$chi_square <- qchisq(as.numeric(t2dggi_SAS$`P-value`),1,lower.tail=FALSE)\n",
    "t2dggi_SAS_with_ld_scores <- inner_join(t2dggi_SAS, SAS_LD_scores, by = \"id\")\n",
    "# Remove duplicates based on 'id'\n",
    "t2dggi_SAS_with_ld_scores <- t2dggi_SAS_with_ld_scores[!duplicated(t2dggi_SAS_with_ld_scores$id), ]\n",
    "t2dggi_SAS_with_ld_scores <- t2dggi_SAS_with_ld_scores[is.finite(t2dggi_SAS_with_ld_scores$chi_square), ]\n",
    "head(t2dggi_SAS_with_ld_scores)"
   ]
  },
  {
   "cell_type": "markdown",
   "id": "6ecf4913",
   "metadata": {},
   "source": [
    "#### Processing AFR dataset"
   ]
  },
  {
   "cell_type": "code",
   "execution_count": 27,
   "id": "c32f9149",
   "metadata": {},
   "outputs": [
    {
     "data": {
      "text/html": [
       "<table class=\"dataframe\">\n",
       "<caption>A data.table: 6 × 24</caption>\n",
       "<thead>\n",
       "\t<tr><th scope=col>id</th><th scope=col>Allele1</th><th scope=col>Allele2</th><th scope=col>Freq1</th><th scope=col>FreqSE</th><th scope=col>MinFreq</th><th scope=col>MaxFreq</th><th scope=col>Effect</th><th scope=col>StdErr</th><th scope=col>P-value</th><th scope=col>⋯</th><th scope=col>HetPVal</th><th scope=col>chi_square</th><th scope=col>chr_old</th><th scope=col>pos_old</th><th scope=col>chr_new</th><th scope=col>pos_new</th><th scope=col>CHR</th><th scope=col>SNP</th><th scope=col>BP</th><th scope=col>L2</th></tr>\n",
       "\t<tr><th scope=col>&lt;chr&gt;</th><th scope=col>&lt;chr&gt;</th><th scope=col>&lt;chr&gt;</th><th scope=col>&lt;dbl&gt;</th><th scope=col>&lt;dbl&gt;</th><th scope=col>&lt;dbl&gt;</th><th scope=col>&lt;dbl&gt;</th><th scope=col>&lt;dbl&gt;</th><th scope=col>&lt;dbl&gt;</th><th scope=col>&lt;dbl&gt;</th><th scope=col>⋯</th><th scope=col>&lt;dbl&gt;</th><th scope=col>&lt;dbl&gt;</th><th scope=col>&lt;chr&gt;</th><th scope=col>&lt;int&gt;</th><th scope=col>&lt;chr&gt;</th><th scope=col>&lt;int&gt;</th><th scope=col>&lt;int&gt;</th><th scope=col>&lt;chr&gt;</th><th scope=col>&lt;int&gt;</th><th scope=col>&lt;dbl&gt;</th></tr>\n",
       "</thead>\n",
       "<tbody>\n",
       "\t<tr><td>15:99906873</td><td>t</td><td>c</td><td>0.0691</td><td>0.0160</td><td>0.0543</td><td>0.1634</td><td> 0.0007</td><td>0.0174</td><td>0.96800</td><td>⋯</td><td>0.1135</td><td>0.001609358</td><td>15</td><td> 99366668</td><td>15</td><td> 99906873</td><td>15</td><td>rs114402882</td><td> 99366668</td><td> 62.929</td></tr>\n",
       "\t<tr><td>8:135908647</td><td>a</td><td>g</td><td>0.2615</td><td>0.0067</td><td>0.2455</td><td>0.2937</td><td> 0.0025</td><td>0.0100</td><td>0.79970</td><td>⋯</td><td>0.2686</td><td>0.064381642</td><td>8 </td><td>134896404</td><td>8 </td><td>135908647</td><td> 8</td><td>rs11992603 </td><td>134896404</td><td> 35.543</td></tr>\n",
       "\t<tr><td>7:3134635  </td><td>a</td><td>g</td><td>0.9798</td><td>0.0017</td><td>0.9735</td><td>0.9869</td><td>-0.0354</td><td>0.0315</td><td>0.26020</td><td>⋯</td><td>0.6497</td><td>1.267692564</td><td>7 </td><td>  3095001</td><td>7 </td><td>  3134635</td><td> 7</td><td>rs17132961 </td><td>  3095001</td><td> 64.493</td></tr>\n",
       "\t<tr><td>5:30588976 </td><td>t</td><td>c</td><td>0.0753</td><td>0.0066</td><td>0.0633</td><td>0.1168</td><td>-0.0090</td><td>0.0165</td><td>0.58440</td><td>⋯</td><td>0.2500</td><td>0.299175134</td><td>5 </td><td> 30588869</td><td>5 </td><td> 30588976</td><td> 5</td><td>rs74472333 </td><td> 30588869</td><td>106.625</td></tr>\n",
       "\t<tr><td>18:814730  </td><td>c</td><td>g</td><td>0.9159</td><td>0.0033</td><td>0.8957</td><td>0.9370</td><td> 0.0329</td><td>0.0160</td><td>0.04012</td><td>⋯</td><td>0.2195</td><td>4.212802552</td><td>18</td><td>   814729</td><td>18</td><td>   814730</td><td>18</td><td>rs9967286  </td><td>   814729</td><td> 22.020</td></tr>\n",
       "\t<tr><td>4:38424653 </td><td>a</td><td>g</td><td>0.0605</td><td>0.0038</td><td>0.0502</td><td>0.0751</td><td>-0.0294</td><td>0.0185</td><td>0.11120</td><td>⋯</td><td>0.4623</td><td>2.537083745</td><td>4 </td><td> 38423032</td><td>4 </td><td> 38424653</td><td> 4</td><td>rs28733102 </td><td> 38423032</td><td> 34.733</td></tr>\n",
       "</tbody>\n",
       "</table>\n"
      ],
      "text/latex": [
       "A data.table: 6 × 24\n",
       "\\begin{tabular}{lllllllllllllllllllll}\n",
       " id & Allele1 & Allele2 & Freq1 & FreqSE & MinFreq & MaxFreq & Effect & StdErr & P-value & ⋯ & HetPVal & chi\\_square & chr\\_old & pos\\_old & chr\\_new & pos\\_new & CHR & SNP & BP & L2\\\\\n",
       " <chr> & <chr> & <chr> & <dbl> & <dbl> & <dbl> & <dbl> & <dbl> & <dbl> & <dbl> & ⋯ & <dbl> & <dbl> & <chr> & <int> & <chr> & <int> & <int> & <chr> & <int> & <dbl>\\\\\n",
       "\\hline\n",
       "\t 15:99906873 & t & c & 0.0691 & 0.0160 & 0.0543 & 0.1634 &  0.0007 & 0.0174 & 0.96800 & ⋯ & 0.1135 & 0.001609358 & 15 &  99366668 & 15 &  99906873 & 15 & rs114402882 &  99366668 &  62.929\\\\\n",
       "\t 8:135908647 & a & g & 0.2615 & 0.0067 & 0.2455 & 0.2937 &  0.0025 & 0.0100 & 0.79970 & ⋯ & 0.2686 & 0.064381642 & 8  & 134896404 & 8  & 135908647 &  8 & rs11992603  & 134896404 &  35.543\\\\\n",
       "\t 7:3134635   & a & g & 0.9798 & 0.0017 & 0.9735 & 0.9869 & -0.0354 & 0.0315 & 0.26020 & ⋯ & 0.6497 & 1.267692564 & 7  &   3095001 & 7  &   3134635 &  7 & rs17132961  &   3095001 &  64.493\\\\\n",
       "\t 5:30588976  & t & c & 0.0753 & 0.0066 & 0.0633 & 0.1168 & -0.0090 & 0.0165 & 0.58440 & ⋯ & 0.2500 & 0.299175134 & 5  &  30588869 & 5  &  30588976 &  5 & rs74472333  &  30588869 & 106.625\\\\\n",
       "\t 18:814730   & c & g & 0.9159 & 0.0033 & 0.8957 & 0.9370 &  0.0329 & 0.0160 & 0.04012 & ⋯ & 0.2195 & 4.212802552 & 18 &    814729 & 18 &    814730 & 18 & rs9967286   &    814729 &  22.020\\\\\n",
       "\t 4:38424653  & a & g & 0.0605 & 0.0038 & 0.0502 & 0.0751 & -0.0294 & 0.0185 & 0.11120 & ⋯ & 0.4623 & 2.537083745 & 4  &  38423032 & 4  &  38424653 &  4 & rs28733102  &  38423032 &  34.733\\\\\n",
       "\\end{tabular}\n"
      ],
      "text/markdown": [
       "\n",
       "A data.table: 6 × 24\n",
       "\n",
       "| id &lt;chr&gt; | Allele1 &lt;chr&gt; | Allele2 &lt;chr&gt; | Freq1 &lt;dbl&gt; | FreqSE &lt;dbl&gt; | MinFreq &lt;dbl&gt; | MaxFreq &lt;dbl&gt; | Effect &lt;dbl&gt; | StdErr &lt;dbl&gt; | P-value &lt;dbl&gt; | ⋯ ⋯ | HetPVal &lt;dbl&gt; | chi_square &lt;dbl&gt; | chr_old &lt;chr&gt; | pos_old &lt;int&gt; | chr_new &lt;chr&gt; | pos_new &lt;int&gt; | CHR &lt;int&gt; | SNP &lt;chr&gt; | BP &lt;int&gt; | L2 &lt;dbl&gt; |\n",
       "|---|---|---|---|---|---|---|---|---|---|---|---|---|---|---|---|---|---|---|---|---|\n",
       "| 15:99906873 | t | c | 0.0691 | 0.0160 | 0.0543 | 0.1634 |  0.0007 | 0.0174 | 0.96800 | ⋯ | 0.1135 | 0.001609358 | 15 |  99366668 | 15 |  99906873 | 15 | rs114402882 |  99366668 |  62.929 |\n",
       "| 8:135908647 | a | g | 0.2615 | 0.0067 | 0.2455 | 0.2937 |  0.0025 | 0.0100 | 0.79970 | ⋯ | 0.2686 | 0.064381642 | 8  | 134896404 | 8  | 135908647 |  8 | rs11992603  | 134896404 |  35.543 |\n",
       "| 7:3134635   | a | g | 0.9798 | 0.0017 | 0.9735 | 0.9869 | -0.0354 | 0.0315 | 0.26020 | ⋯ | 0.6497 | 1.267692564 | 7  |   3095001 | 7  |   3134635 |  7 | rs17132961  |   3095001 |  64.493 |\n",
       "| 5:30588976  | t | c | 0.0753 | 0.0066 | 0.0633 | 0.1168 | -0.0090 | 0.0165 | 0.58440 | ⋯ | 0.2500 | 0.299175134 | 5  |  30588869 | 5  |  30588976 |  5 | rs74472333  |  30588869 | 106.625 |\n",
       "| 18:814730   | c | g | 0.9159 | 0.0033 | 0.8957 | 0.9370 |  0.0329 | 0.0160 | 0.04012 | ⋯ | 0.2195 | 4.212802552 | 18 |    814729 | 18 |    814730 | 18 | rs9967286   |    814729 |  22.020 |\n",
       "| 4:38424653  | a | g | 0.0605 | 0.0038 | 0.0502 | 0.0751 | -0.0294 | 0.0185 | 0.11120 | ⋯ | 0.4623 | 2.537083745 | 4  |  38423032 | 4  |  38424653 |  4 | rs28733102  |  38423032 |  34.733 |\n",
       "\n"
      ],
      "text/plain": [
       "  id          Allele1 Allele2 Freq1  FreqSE MinFreq MaxFreq Effect  StdErr\n",
       "1 15:99906873 t       c       0.0691 0.0160 0.0543  0.1634   0.0007 0.0174\n",
       "2 8:135908647 a       g       0.2615 0.0067 0.2455  0.2937   0.0025 0.0100\n",
       "3 7:3134635   a       g       0.9798 0.0017 0.9735  0.9869  -0.0354 0.0315\n",
       "4 5:30588976  t       c       0.0753 0.0066 0.0633  0.1168  -0.0090 0.0165\n",
       "5 18:814730   c       g       0.9159 0.0033 0.8957  0.9370   0.0329 0.0160\n",
       "6 4:38424653  a       g       0.0605 0.0038 0.0502  0.0751  -0.0294 0.0185\n",
       "  P-value ⋯ HetPVal chi_square  chr_old pos_old   chr_new pos_new   CHR\n",
       "1 0.96800 ⋯ 0.1135  0.001609358 15       99366668 15       99906873 15 \n",
       "2 0.79970 ⋯ 0.2686  0.064381642 8       134896404 8       135908647  8 \n",
       "3 0.26020 ⋯ 0.6497  1.267692564 7         3095001 7         3134635  7 \n",
       "4 0.58440 ⋯ 0.2500  0.299175134 5        30588869 5        30588976  5 \n",
       "5 0.04012 ⋯ 0.2195  4.212802552 18         814729 18         814730 18 \n",
       "6 0.11120 ⋯ 0.4623  2.537083745 4        38423032 4        38424653  4 \n",
       "  SNP         BP        L2     \n",
       "1 rs114402882  99366668  62.929\n",
       "2 rs11992603  134896404  35.543\n",
       "3 rs17132961    3095001  64.493\n",
       "4 rs74472333   30588869 106.625\n",
       "5 rs9967286      814729  22.020\n",
       "6 rs28733102   38423032  34.733"
      ]
     },
     "metadata": {},
     "output_type": "display_data"
    }
   ],
   "source": [
    "t2dggi_AFR <- fread(\"/lustre/groups/itg/teams/zeggini/users/archit.singh/lambda/summary_statistics/T2D/T2DGGI/AFR_MetalFixed_LDSC-CORR_Results1TBL.txt\", header = TRUE)\n",
    "t2dggi_AFR$MarkerName <- gsub(\"^chr\", \"\", t2dggi_AFR$MarkerName)\n",
    "colnames(t2dggi_AFR)[colnames(t2dggi_AFR) == \"MarkerName\"] <- \"id\"\n",
    "t2dggi_AFR$chi_square <- qchisq(as.numeric(t2dggi_AFR$`P-value`),1,lower.tail=FALSE)\n",
    "t2dggi_AFR_with_ld_scores <- inner_join(t2dggi_AFR, AFR_LD_scores, by = \"id\")\n",
    "# Remove duplicates based on 'id'\n",
    "t2dggi_AFR_with_ld_scores <- t2dggi_AFR_with_ld_scores[!duplicated(t2dggi_AFR_with_ld_scores$id), ]\n",
    "t2dggi_AFR_with_ld_scores <- t2dggi_AFR_with_ld_scores[is.finite(t2dggi_AFR_with_ld_scores$chi_square), ]\n",
    "head(t2dggi_AFR_with_ld_scores)"
   ]
  },
  {
   "cell_type": "markdown",
   "id": "6a936dba",
   "metadata": {},
   "source": [
    "#### Processing AMR dataset"
   ]
  },
  {
   "cell_type": "code",
   "execution_count": 28,
   "id": "5ba67df1",
   "metadata": {},
   "outputs": [
    {
     "data": {
      "text/html": [
       "<table class=\"dataframe\">\n",
       "<caption>A data.table: 6 × 24</caption>\n",
       "<thead>\n",
       "\t<tr><th scope=col>id</th><th scope=col>Allele1</th><th scope=col>Allele2</th><th scope=col>Freq1</th><th scope=col>FreqSE</th><th scope=col>MinFreq</th><th scope=col>MaxFreq</th><th scope=col>Effect</th><th scope=col>StdErr</th><th scope=col>P-value</th><th scope=col>⋯</th><th scope=col>HetPVal</th><th scope=col>chi_square</th><th scope=col>chr_old</th><th scope=col>pos_old</th><th scope=col>chr_new</th><th scope=col>pos_new</th><th scope=col>CHR</th><th scope=col>SNP</th><th scope=col>BP</th><th scope=col>L2</th></tr>\n",
       "\t<tr><th scope=col>&lt;chr&gt;</th><th scope=col>&lt;chr&gt;</th><th scope=col>&lt;chr&gt;</th><th scope=col>&lt;dbl&gt;</th><th scope=col>&lt;dbl&gt;</th><th scope=col>&lt;dbl&gt;</th><th scope=col>&lt;dbl&gt;</th><th scope=col>&lt;dbl&gt;</th><th scope=col>&lt;dbl&gt;</th><th scope=col>&lt;dbl&gt;</th><th scope=col>⋯</th><th scope=col>&lt;dbl&gt;</th><th scope=col>&lt;dbl&gt;</th><th scope=col>&lt;chr&gt;</th><th scope=col>&lt;int&gt;</th><th scope=col>&lt;chr&gt;</th><th scope=col>&lt;int&gt;</th><th scope=col>&lt;int&gt;</th><th scope=col>&lt;chr&gt;</th><th scope=col>&lt;int&gt;</th><th scope=col>&lt;dbl&gt;</th></tr>\n",
       "</thead>\n",
       "<tbody>\n",
       "\t<tr><td>11:88249377</td><td>t</td><td>c</td><td>0.9870</td><td>0.0048</td><td>0.9780</td><td>0.9960</td><td> 0.0113</td><td>0.0564</td><td>0.8411</td><td>⋯</td><td>0.3237</td><td>0.04019490</td><td>11</td><td> 88516209</td><td>11</td><td> 88249377</td><td>11</td><td>rs11020170 </td><td> 88516209</td><td> 42.292</td></tr>\n",
       "\t<tr><td>8:135908647</td><td>a</td><td>g</td><td>0.1965</td><td>0.0183</td><td>0.1667</td><td>0.2615</td><td> 0.0057</td><td>0.0150</td><td>0.7029</td><td>⋯</td><td>0.4482</td><td>0.14547260</td><td>8 </td><td>134896404</td><td>8 </td><td>135908647</td><td> 8</td><td>rs11992603 </td><td>134896404</td><td> 71.539</td></tr>\n",
       "\t<tr><td>12:3871714 </td><td>a</td><td>c</td><td>0.9635</td><td>0.0119</td><td>0.9313</td><td>0.9771</td><td>-0.0170</td><td>0.0338</td><td>0.6141</td><td>⋯</td><td>0.1648</td><td>0.25424755</td><td>12</td><td>  3762548</td><td>12</td><td>  3871714</td><td>12</td><td>rs192908256</td><td>  3762548</td><td> 44.333</td></tr>\n",
       "\t<tr><td>11:97895884</td><td>c</td><td>g</td><td>0.0331</td><td>0.0064</td><td>0.0192</td><td>0.0641</td><td> 0.0270</td><td>0.0336</td><td>0.4225</td><td>⋯</td><td>0.3687</td><td>0.64335086</td><td>11</td><td> 98025156</td><td>11</td><td> 97895884</td><td>11</td><td>rs11213687 </td><td> 98025156</td><td>133.672</td></tr>\n",
       "\t<tr><td>7:8327736  </td><td>a</td><td>t</td><td>0.9726</td><td>0.0100</td><td>0.9514</td><td>0.9913</td><td>-0.0824</td><td>0.0452</td><td>0.0685</td><td>⋯</td><td>0.8054</td><td>3.31860332</td><td>7 </td><td>  8288106</td><td>7 </td><td>  8327736</td><td> 7</td><td>rs117087366</td><td>  8288106</td><td> 47.331</td></tr>\n",
       "\t<tr><td>18:814730  </td><td>c</td><td>g</td><td>0.7571</td><td>0.0448</td><td>0.6603</td><td>0.8158</td><td>-0.0042</td><td>0.0141</td><td>0.7639</td><td>⋯</td><td>0.2726</td><td>0.09021815</td><td>18</td><td>   814729</td><td>18</td><td>   814730</td><td>18</td><td>rs9967286  </td><td>   814729</td><td>195.792</td></tr>\n",
       "</tbody>\n",
       "</table>\n"
      ],
      "text/latex": [
       "A data.table: 6 × 24\n",
       "\\begin{tabular}{lllllllllllllllllllll}\n",
       " id & Allele1 & Allele2 & Freq1 & FreqSE & MinFreq & MaxFreq & Effect & StdErr & P-value & ⋯ & HetPVal & chi\\_square & chr\\_old & pos\\_old & chr\\_new & pos\\_new & CHR & SNP & BP & L2\\\\\n",
       " <chr> & <chr> & <chr> & <dbl> & <dbl> & <dbl> & <dbl> & <dbl> & <dbl> & <dbl> & ⋯ & <dbl> & <dbl> & <chr> & <int> & <chr> & <int> & <int> & <chr> & <int> & <dbl>\\\\\n",
       "\\hline\n",
       "\t 11:88249377 & t & c & 0.9870 & 0.0048 & 0.9780 & 0.9960 &  0.0113 & 0.0564 & 0.8411 & ⋯ & 0.3237 & 0.04019490 & 11 &  88516209 & 11 &  88249377 & 11 & rs11020170  &  88516209 &  42.292\\\\\n",
       "\t 8:135908647 & a & g & 0.1965 & 0.0183 & 0.1667 & 0.2615 &  0.0057 & 0.0150 & 0.7029 & ⋯ & 0.4482 & 0.14547260 & 8  & 134896404 & 8  & 135908647 &  8 & rs11992603  & 134896404 &  71.539\\\\\n",
       "\t 12:3871714  & a & c & 0.9635 & 0.0119 & 0.9313 & 0.9771 & -0.0170 & 0.0338 & 0.6141 & ⋯ & 0.1648 & 0.25424755 & 12 &   3762548 & 12 &   3871714 & 12 & rs192908256 &   3762548 &  44.333\\\\\n",
       "\t 11:97895884 & c & g & 0.0331 & 0.0064 & 0.0192 & 0.0641 &  0.0270 & 0.0336 & 0.4225 & ⋯ & 0.3687 & 0.64335086 & 11 &  98025156 & 11 &  97895884 & 11 & rs11213687  &  98025156 & 133.672\\\\\n",
       "\t 7:8327736   & a & t & 0.9726 & 0.0100 & 0.9514 & 0.9913 & -0.0824 & 0.0452 & 0.0685 & ⋯ & 0.8054 & 3.31860332 & 7  &   8288106 & 7  &   8327736 &  7 & rs117087366 &   8288106 &  47.331\\\\\n",
       "\t 18:814730   & c & g & 0.7571 & 0.0448 & 0.6603 & 0.8158 & -0.0042 & 0.0141 & 0.7639 & ⋯ & 0.2726 & 0.09021815 & 18 &    814729 & 18 &    814730 & 18 & rs9967286   &    814729 & 195.792\\\\\n",
       "\\end{tabular}\n"
      ],
      "text/markdown": [
       "\n",
       "A data.table: 6 × 24\n",
       "\n",
       "| id &lt;chr&gt; | Allele1 &lt;chr&gt; | Allele2 &lt;chr&gt; | Freq1 &lt;dbl&gt; | FreqSE &lt;dbl&gt; | MinFreq &lt;dbl&gt; | MaxFreq &lt;dbl&gt; | Effect &lt;dbl&gt; | StdErr &lt;dbl&gt; | P-value &lt;dbl&gt; | ⋯ ⋯ | HetPVal &lt;dbl&gt; | chi_square &lt;dbl&gt; | chr_old &lt;chr&gt; | pos_old &lt;int&gt; | chr_new &lt;chr&gt; | pos_new &lt;int&gt; | CHR &lt;int&gt; | SNP &lt;chr&gt; | BP &lt;int&gt; | L2 &lt;dbl&gt; |\n",
       "|---|---|---|---|---|---|---|---|---|---|---|---|---|---|---|---|---|---|---|---|---|\n",
       "| 11:88249377 | t | c | 0.9870 | 0.0048 | 0.9780 | 0.9960 |  0.0113 | 0.0564 | 0.8411 | ⋯ | 0.3237 | 0.04019490 | 11 |  88516209 | 11 |  88249377 | 11 | rs11020170  |  88516209 |  42.292 |\n",
       "| 8:135908647 | a | g | 0.1965 | 0.0183 | 0.1667 | 0.2615 |  0.0057 | 0.0150 | 0.7029 | ⋯ | 0.4482 | 0.14547260 | 8  | 134896404 | 8  | 135908647 |  8 | rs11992603  | 134896404 |  71.539 |\n",
       "| 12:3871714  | a | c | 0.9635 | 0.0119 | 0.9313 | 0.9771 | -0.0170 | 0.0338 | 0.6141 | ⋯ | 0.1648 | 0.25424755 | 12 |   3762548 | 12 |   3871714 | 12 | rs192908256 |   3762548 |  44.333 |\n",
       "| 11:97895884 | c | g | 0.0331 | 0.0064 | 0.0192 | 0.0641 |  0.0270 | 0.0336 | 0.4225 | ⋯ | 0.3687 | 0.64335086 | 11 |  98025156 | 11 |  97895884 | 11 | rs11213687  |  98025156 | 133.672 |\n",
       "| 7:8327736   | a | t | 0.9726 | 0.0100 | 0.9514 | 0.9913 | -0.0824 | 0.0452 | 0.0685 | ⋯ | 0.8054 | 3.31860332 | 7  |   8288106 | 7  |   8327736 |  7 | rs117087366 |   8288106 |  47.331 |\n",
       "| 18:814730   | c | g | 0.7571 | 0.0448 | 0.6603 | 0.8158 | -0.0042 | 0.0141 | 0.7639 | ⋯ | 0.2726 | 0.09021815 | 18 |    814729 | 18 |    814730 | 18 | rs9967286   |    814729 | 195.792 |\n",
       "\n"
      ],
      "text/plain": [
       "  id          Allele1 Allele2 Freq1  FreqSE MinFreq MaxFreq Effect  StdErr\n",
       "1 11:88249377 t       c       0.9870 0.0048 0.9780  0.9960   0.0113 0.0564\n",
       "2 8:135908647 a       g       0.1965 0.0183 0.1667  0.2615   0.0057 0.0150\n",
       "3 12:3871714  a       c       0.9635 0.0119 0.9313  0.9771  -0.0170 0.0338\n",
       "4 11:97895884 c       g       0.0331 0.0064 0.0192  0.0641   0.0270 0.0336\n",
       "5 7:8327736   a       t       0.9726 0.0100 0.9514  0.9913  -0.0824 0.0452\n",
       "6 18:814730   c       g       0.7571 0.0448 0.6603  0.8158  -0.0042 0.0141\n",
       "  P-value ⋯ HetPVal chi_square chr_old pos_old   chr_new pos_new   CHR\n",
       "1 0.8411  ⋯ 0.3237  0.04019490 11       88516209 11       88249377 11 \n",
       "2 0.7029  ⋯ 0.4482  0.14547260 8       134896404 8       135908647  8 \n",
       "3 0.6141  ⋯ 0.1648  0.25424755 12        3762548 12        3871714 12 \n",
       "4 0.4225  ⋯ 0.3687  0.64335086 11       98025156 11       97895884 11 \n",
       "5 0.0685  ⋯ 0.8054  3.31860332 7         8288106 7         8327736  7 \n",
       "6 0.7639  ⋯ 0.2726  0.09021815 18         814729 18         814730 18 \n",
       "  SNP         BP        L2     \n",
       "1 rs11020170   88516209  42.292\n",
       "2 rs11992603  134896404  71.539\n",
       "3 rs192908256   3762548  44.333\n",
       "4 rs11213687   98025156 133.672\n",
       "5 rs117087366   8288106  47.331\n",
       "6 rs9967286      814729 195.792"
      ]
     },
     "metadata": {},
     "output_type": "display_data"
    }
   ],
   "source": [
    "t2dggi_AMR <- fread(\"/lustre/groups/itg/teams/zeggini/users/archit.singh/lambda/summary_statistics/T2D/T2DGGI/AMR_MetalFixed_LDSC-CORR_Results1TBL.txt\", header = TRUE)\n",
    "t2dggi_AMR$MarkerName <- gsub(\"^chr\", \"\", t2dggi_AMR$MarkerName)\n",
    "colnames(t2dggi_AMR)[colnames(t2dggi_AMR) == \"MarkerName\"] <- \"id\"\n",
    "t2dggi_AMR$chi_square <- qchisq(as.numeric(t2dggi_AMR$`P-value`),1,lower.tail=FALSE)\n",
    "t2dggi_AMR_with_ld_scores <- inner_join(t2dggi_AMR, AMR_LD_scores, by = \"id\")\n",
    "# Remove duplicates based on 'id'\n",
    "t2dggi_AMR_with_ld_scores <- t2dggi_AMR_with_ld_scores[!duplicated(t2dggi_AMR_with_ld_scores$id), ]\n",
    "t2dggi_AMR_with_ld_scores <- t2dggi_AMR_with_ld_scores[is.finite(t2dggi_AMR_with_ld_scores$chi_square), ]\n",
    "head(t2dggi_AMR_with_ld_scores)"
   ]
  },
  {
   "cell_type": "code",
   "execution_count": 29,
   "id": "6af07b66",
   "metadata": {},
   "outputs": [],
   "source": [
    "#Calculating the correlation between chi-square and LD-scores\n",
    "diamante18_EUR_cor <- cor(diamante18_EUR_with_ld_scores$chi_square, diamante18_EUR_with_ld_scores$L2, use = \"complete.obs\")\n",
    "diamante22_EUR_cor <- cor(diamante22_EUR_with_ld_scores$chi_square, diamante22_EUR_with_ld_scores$L2, use = \"complete.obs\")\n",
    "t2dggi_EUR_cor <- cor(t2dggi_EUR_with_ld_scores$chi_square, t2dggi_EUR_with_ld_scores$L2, use = \"complete.obs\")\n",
    "diamante22_EAS_cor <- cor(diamante22_EAS_with_ld_scores$chi_square, diamante22_EAS_with_ld_scores$L2, use = \"complete.obs\")\n",
    "t2dggi_EAS_cor <- cor(t2dggi_EAS_with_ld_scores$chi_square, t2dggi_EAS_with_ld_scores$L2, use = \"complete.obs\")\n",
    "diamante22_SAS_cor <- cor(diamante22_SAS_with_ld_scores$chi_square, diamante22_SAS_with_ld_scores$L2, use = \"complete.obs\")\n",
    "t2dggi_SAS_cor <- cor(t2dggi_SAS_with_ld_scores$chi_square, t2dggi_SAS_with_ld_scores$L2, use = \"complete.obs\")\n",
    "t2dggi_AFR_cor <- cor(t2dggi_AFR_with_ld_scores$chi_square, t2dggi_AFR_with_ld_scores$L2, use = \"complete.obs\")\n",
    "t2dggi_AMR_cor <- cor(t2dggi_AMR_with_ld_scores$chi_square, t2dggi_AMR_with_ld_scores$L2, use = \"complete.obs\")"
   ]
  },
  {
   "cell_type": "code",
   "execution_count": 30,
   "id": "774b66eb",
   "metadata": {},
   "outputs": [],
   "source": [
    "#effective sample size taken from supplemetary data of respective studies\n",
    "neffective_diamante18_EUR <- c(272025.74)\n",
    "neffective_diamante22_EUR <- c(251739.5)\n",
    "neffective_t2dggi_EUR <- c(751754.69)\n",
    "neffective_diamante22_EAS <- c(139704.61)\n",
    "neffective_t2dggi_EAS <- c(247158.46)\n",
    "neffective_diamante22_SAS <- c(40737.11)\n",
    "neffective_t2dggi_SAS <- c(41577.10)\n",
    "neffective_t2dggi_AFR <- c(130708.49)\n",
    "neffective_t2dggi_AMR <- c(73033.44)"
   ]
  },
  {
   "cell_type": "code",
   "execution_count": 31,
   "id": "8e1c6a95",
   "metadata": {},
   "outputs": [
    {
     "data": {
      "image/png": "[encoded data removed]",
      "text/plain": [
       "plot without title"
      ]
     },
     "metadata": {
      "image/png": {
       "height": 420,
       "width": 420
      }
     },
     "output_type": "display_data"
    }
   ],
   "source": [
    "#Plotting\n",
    "effective_sample_sizes <- c(neffective_diamante18_EUR, neffective_diamante22_EUR, neffective_diamante22_EAS, neffective_diamante22_SAS, neffective_t2dggi_AFR, neffective_t2dggi_AMR, neffective_t2dggi_EAS, neffective_t2dggi_EUR, neffective_t2dggi_SAS)\n",
    "effective_sample_sizes <- round(log(effective_sample_sizes), digits = 2)\n",
    "correlation_values <- c(diamante18_EUR_cor, diamante22_EUR_cor, diamante22_EAS_cor, diamante22_SAS_cor, t2dggi_AFR_cor, t2dggi_AMR_cor, t2dggi_EAS_cor, t2dggi_EUR_cor, t2dggi_SAS_cor) \n",
    "ancestry <- c(\"European\", \"European\", \"East-Asian\", \"South-Asian\", \"African\", \"Hispanic\", \"East-Asian\", \"European\", \"South-Asian\")\n",
    "study <- c(\"DIAMANTE-18\", \"DIAMANTE-22\", \"DIAMANTE-22\", \"DIAMANTE-22\", \"T2DGGI\", \"T2DGGI\", \"T2DGGI\", \"T2DGGI\", \"T2DGGI\")\n",
    "df.plot <- data.frame(effective_sample_sizes, correlation_values, ancestry, study)\n",
    "ggplot(data=df.plot, aes(x=effective_sample_sizes, y=correlation_values, group=1)) + \n",
    "  xlab(\"Log(Effective sample-size)\") + ylab(\"Correlation(Chi-square, LD-Score)\") +\n",
    "  geom_line(color=\"black\") +\n",
    "  geom_point() + theme_bw() +\n",
    "  theme(plot.title = element_text(size=20), axis.text = element_text(size = 15), legend.position = c(0.70, 0.90), legend.text = element_text(size = 15), legend.title = element_blank(), axis.title = element_text(size = 15), legend.key = element_blank(), legend.background = element_blank())"
   ]
  },
  {
   "cell_type": "code",
   "execution_count": 38,
   "id": "c286b771",
   "metadata": {},
   "outputs": [
    {
     "data": {
      "text/html": [
       "<strong>png:</strong> 2"
      ],
      "text/latex": [
       "\\textbf{png:} 2"
      ],
      "text/markdown": [
       "**png:** 2"
      ],
      "text/plain": [
       "png \n",
       "  2 "
      ]
     },
     "metadata": {},
     "output_type": "display_data"
    },
    {
     "data": {
      "image/png": "[encoded data removed]",
      "text/plain": [
       "plot without title"
      ]
     },
     "metadata": {
      "image/png": {
       "height": 420,
       "width": 420
      }
     },
     "output_type": "display_data"
    }
   ],
   "source": [
    "# Generate the plot\n",
    "ggplot(data = df.plot, aes(x = effective_sample_sizes, y = correlation_values, color = ancestry, group = 1)) + \n",
    "  xlab(\"Log(Effective sample-size)\") + \n",
    "  ylab(\"Correlation(Chi-square, LD-Score)\") +\n",
    "  geom_line(color = \"black\") +\n",
    "  geom_point(size = 2) + \n",
    "  theme_bw() +\n",
    "  scale_color_manual(values = c(\"European\" = \"blue\", \n",
    "                                \"East-Asian\" = \"red\", \n",
    "                                \"South-Asian\" = \"green\", \n",
    "                                \"African\" = \"purple\", \n",
    "                                \"Hispanic\" = \"orange\")) +\n",
    "  theme(\n",
    "    plot.title = element_text(size = 20), \n",
    "    axis.text = element_text(size = 15), \n",
    "    legend.position = c(0.25, 0.87), \n",
    "    legend.text = element_text(size = 10), \n",
    "    legend.title = element_blank(), \n",
    "    axis.title = element_text(size = 15), \n",
    "    legend.key = element_blank(), \n",
    "    legend.background = element_blank()\n",
    "  )\n",
    "plot3 <- ggplot(data = df.plot, aes(x = effective_sample_sizes, y = correlation_values, color = ancestry, group = 1)) + \n",
    "  xlab(\"Log(Effective sample-size)\") + \n",
    "  ylab(\"Correlation(Chi-square, LD-Score)\") +\n",
    "  geom_line(color = \"black\") +\n",
    "  geom_point(size = 2) + \n",
    "  theme_bw() +\n",
    "  scale_color_manual(values = c(\"European\" = \"blue\", \n",
    "                                \"East-Asian\" = \"red\", \n",
    "                                \"South-Asian\" = \"green\", \n",
    "                                \"African\" = \"purple\", \n",
    "                                \"Hispanic\" = \"orange\")) +\n",
    "  theme(\n",
    "    plot.title = element_text(size = 20), \n",
    "    axis.text = element_text(size = 15), \n",
    "    legend.position = c(0.25, 0.87), \n",
    "    legend.text = element_text(size = 10), \n",
    "    legend.title = element_blank(), \n",
    "    axis.title = element_text(size = 15), \n",
    "    legend.key = element_blank(), \n",
    "    legend.background = element_blank()\n",
    "  )\n",
    "#saving plot as .pdf\n",
    "pdf(\"/lustre/groups/itg/teams/zeggini/users/archit.singh/lambda/plots_for_manuscript/figure_1_new.pdf\", \n",
    "    width = 3.9, height = 5.9)\n",
    "print(plot3)\n",
    "dev.off() "
   ]
  },
  {
   "cell_type": "code",
   "execution_count": 67,
   "id": "debe0586",
   "metadata": {},
   "outputs": [
    {
     "data": {
      "text/html": [
       "<strong>png:</strong> 2"
      ],
      "text/latex": [
       "\\textbf{png:} 2"
      ],
      "text/markdown": [
       "**png:** 2"
      ],
      "text/plain": [
       "png \n",
       "  2 "
      ]
     },
     "metadata": {},
     "output_type": "display_data"
    },
    {
     "data": {
      "text/html": [
       "<strong>png:</strong> 2"
      ],
      "text/latex": [
       "\\textbf{png:} 2"
      ],
      "text/markdown": [
       "**png:** 2"
      ],
      "text/plain": [
       "png \n",
       "  2 "
      ]
     },
     "metadata": {},
     "output_type": "display_data"
    },
    {
     "data": {
      "text/html": [
       "<strong>png:</strong> 2"
      ],
      "text/latex": [
       "\\textbf{png:} 2"
      ],
      "text/markdown": [
       "**png:** 2"
      ],
      "text/plain": [
       "png \n",
       "  2 "
      ]
     },
     "metadata": {},
     "output_type": "display_data"
    }
   ],
   "source": [
    "plot3 <- ggplot(data = df.plot, aes(x = effective_sample_sizes, y = correlation_values, color = ancestry, group = 1)) + \n",
    "  xlab(\"Log(Effective sample-size)\") + \n",
    "  ylab(\"Correlation(Chi-square, LD-Score)\") +\n",
    "  geom_line(color = \"black\") +\n",
    "  geom_point(size = 3) + \n",
    "  theme_bw() +\n",
    "  scale_color_manual(values = c(\"European\" = \"blue\", \n",
    "                                \"East-Asian\" = \"red\", \n",
    "                                \"South-Asian\" = \"green\", \n",
    "                                \"African\" = \"purple\", \n",
    "                                \"Hispanic\" = \"orange\")) +\n",
    "  theme(\n",
    "    plot.title = element_text(size = 20), \n",
    "    axis.text = element_text(size = 20), \n",
    "    legend.position = c(0.20, 0.85), \n",
    "    legend.text = element_text(size = 15), \n",
    "    legend.title = element_blank(), \n",
    "    axis.title = element_text(size = 20), \n",
    "    legend.key = element_blank(), \n",
    "    legend.background = element_blank(),\n",
    "      # Reduce vertical spacing between legend items\n",
    "    legend.spacing.y = unit(0.07, \"cm\"),\n",
    "    legend.key.height = unit(0.07, \"cm\"),\n",
    "    \n",
    "#     # Add top and bottom margins to center square plot in taller canvas\n",
    "     plot.margin = unit(c(1.0, 1.0, 1.0, 1.0), \"cm\")  # top, right, bottom, left\n",
    "  )\n",
    "\n",
    "# Save as PDF with fixed size\n",
    "pdf(\"/lustre/groups/itg/teams/zeggini/users/archit.singh/lambda/plots_for_manuscript/figure_1_new.pdf\", \n",
    "    width = 4, height = 4)\n",
    "\n",
    "print(plot3)\n",
    "dev.off()\n",
    "\n",
    "# ggsave(\n",
    "#   filename = \"/lustre/groups/itg/teams/zeggini/users/archit.singh/lambda/plots_for_manuscript/figure_1_new.png\",\n",
    "#   plot = plot3,\n",
    "#   width = 4, height = 4,  # inches; keep square shape\n",
    "#   units = \"in\",\n",
    "#   dpi = 600,\n",
    "#   device = \"png\"\n",
    "# )\n",
    "\n",
    "# Save the plot\n",
    "png(\"/lustre/groups/itg/teams/zeggini/users/archit.singh/lambda/plots_for_manuscript/figure_1_new.png\", width = 4000, height = 4000, res = 600)\n",
    "print(plot3)\n",
    "dev.off()\n",
    "\n",
    "# Save the plot\n",
    "png(\"/lustre/groups/itg/teams/zeggini/users/archit.singh/lambda/plots_for_manuscript/figure_1_new_2.png\", width = 5000, height = 5000, res = 600)\n",
    "print(plot3)\n",
    "dev.off()"
   ]
  },
  {
   "cell_type": "code",
   "execution_count": 33,
   "id": "4b7877cf",
   "metadata": {},
   "outputs": [
    {
     "data": {
      "text/html": [
       "<table class=\"dataframe\">\n",
       "<caption>A data.frame: 9 × 4</caption>\n",
       "<thead>\n",
       "\t<tr><th scope=col>effective_sample_sizes</th><th scope=col>correlation_values</th><th scope=col>ancestry</th><th scope=col>study</th></tr>\n",
       "\t<tr><th scope=col>&lt;dbl&gt;</th><th scope=col>&lt;dbl&gt;</th><th scope=col>&lt;chr&gt;</th><th scope=col>&lt;chr&gt;</th></tr>\n",
       "</thead>\n",
       "<tbody>\n",
       "\t<tr><td>12.51</td><td>0.11200327</td><td>European   </td><td>DIAMANTE-18</td></tr>\n",
       "\t<tr><td>12.44</td><td>0.11197806</td><td>European   </td><td>DIAMANTE-22</td></tr>\n",
       "\t<tr><td>11.85</td><td>0.06978136</td><td>East-Asian </td><td>DIAMANTE-22</td></tr>\n",
       "\t<tr><td>10.61</td><td>0.03818837</td><td>South-Asian</td><td>DIAMANTE-22</td></tr>\n",
       "\t<tr><td>11.78</td><td>0.05044570</td><td>African    </td><td>T2DGGI     </td></tr>\n",
       "\t<tr><td>11.20</td><td>0.08271508</td><td>Hispanic   </td><td>T2DGGI     </td></tr>\n",
       "\t<tr><td>12.42</td><td>0.07580101</td><td>East-Asian </td><td>T2DGGI     </td></tr>\n",
       "\t<tr><td>13.53</td><td>0.11221876</td><td>European   </td><td>T2DGGI     </td></tr>\n",
       "\t<tr><td>10.64</td><td>0.03843171</td><td>South-Asian</td><td>T2DGGI     </td></tr>\n",
       "</tbody>\n",
       "</table>\n"
      ],
      "text/latex": [
       "A data.frame: 9 × 4\n",
       "\\begin{tabular}{llll}\n",
       " effective\\_sample\\_sizes & correlation\\_values & ancestry & study\\\\\n",
       " <dbl> & <dbl> & <chr> & <chr>\\\\\n",
       "\\hline\n",
       "\t 12.51 & 0.11200327 & European    & DIAMANTE-18\\\\\n",
       "\t 12.44 & 0.11197806 & European    & DIAMANTE-22\\\\\n",
       "\t 11.85 & 0.06978136 & East-Asian  & DIAMANTE-22\\\\\n",
       "\t 10.61 & 0.03818837 & South-Asian & DIAMANTE-22\\\\\n",
       "\t 11.78 & 0.05044570 & African     & T2DGGI     \\\\\n",
       "\t 11.20 & 0.08271508 & Hispanic    & T2DGGI     \\\\\n",
       "\t 12.42 & 0.07580101 & East-Asian  & T2DGGI     \\\\\n",
       "\t 13.53 & 0.11221876 & European    & T2DGGI     \\\\\n",
       "\t 10.64 & 0.03843171 & South-Asian & T2DGGI     \\\\\n",
       "\\end{tabular}\n"
      ],
      "text/markdown": [
       "\n",
       "A data.frame: 9 × 4\n",
       "\n",
       "| effective_sample_sizes &lt;dbl&gt; | correlation_values &lt;dbl&gt; | ancestry &lt;chr&gt; | study &lt;chr&gt; |\n",
       "|---|---|---|---|\n",
       "| 12.51 | 0.11200327 | European    | DIAMANTE-18 |\n",
       "| 12.44 | 0.11197806 | European    | DIAMANTE-22 |\n",
       "| 11.85 | 0.06978136 | East-Asian  | DIAMANTE-22 |\n",
       "| 10.61 | 0.03818837 | South-Asian | DIAMANTE-22 |\n",
       "| 11.78 | 0.05044570 | African     | T2DGGI      |\n",
       "| 11.20 | 0.08271508 | Hispanic    | T2DGGI      |\n",
       "| 12.42 | 0.07580101 | East-Asian  | T2DGGI      |\n",
       "| 13.53 | 0.11221876 | European    | T2DGGI      |\n",
       "| 10.64 | 0.03843171 | South-Asian | T2DGGI      |\n",
       "\n"
      ],
      "text/plain": [
       "  effective_sample_sizes correlation_values ancestry    study      \n",
       "1 12.51                  0.11200327         European    DIAMANTE-18\n",
       "2 12.44                  0.11197806         European    DIAMANTE-22\n",
       "3 11.85                  0.06978136         East-Asian  DIAMANTE-22\n",
       "4 10.61                  0.03818837         South-Asian DIAMANTE-22\n",
       "5 11.78                  0.05044570         African     T2DGGI     \n",
       "6 11.20                  0.08271508         Hispanic    T2DGGI     \n",
       "7 12.42                  0.07580101         East-Asian  T2DGGI     \n",
       "8 13.53                  0.11221876         European    T2DGGI     \n",
       "9 10.64                  0.03843171         South-Asian T2DGGI     "
      ]
     },
     "metadata": {},
     "output_type": "display_data"
    }
   ],
   "source": [
    "df.plot"
   ]
  }
 ],
 "metadata": {
  "kernelspec": {
   "display_name": "R",
   "language": "R",
   "name": "ir"
  },
  "language_info": {
   "codemirror_mode": "r",
   "file_extension": ".r",
   "mimetype": "text/x-r-source",
   "name": "R",
   "pygments_lexer": "r",
   "version": "4.2.0"
  }
 },
 "nbformat": 4,
 "nbformat_minor": 5
}
