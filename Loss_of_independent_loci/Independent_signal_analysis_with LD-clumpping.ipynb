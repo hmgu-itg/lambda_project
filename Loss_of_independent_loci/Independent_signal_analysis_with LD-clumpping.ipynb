{
 "cells": [
  {
   "cell_type": "markdown",
   "id": "6b1f165a",
   "metadata": {},
   "source": [
    "### Identifying independent signals not replicated due to GC-correction in meta-analysis"
   ]
  },
  {
   "cell_type": "markdown",
   "id": "2d38a791",
   "metadata": {},
   "source": [
    "#### MHC region on Human chromosome 6 (GRCh37): chr6:28,477,797-33,448,354"
   ]
  },
  {
   "cell_type": "code",
   "execution_count": 1,
   "id": "1a7046a5",
   "metadata": {},
   "outputs": [
    {
     "name": "stderr",
     "output_type": "stream",
     "text": [
      "Warning message:\n",
      "“package ‘data.table’ was built under R version 4.2.2”\n",
      "Warning message:\n",
      "“package ‘dplyr’ was built under R version 4.2.3”\n",
      "Warning message:\n",
      "“package ‘ggplot2’ was built under R version 4.2.3”\n",
      "Warning message:\n",
      "“package ‘purrr’ was built under R version 4.2.2”\n",
      "Warning message:\n",
      "“package ‘tidyr’ was built under R version 4.2.2”\n"
     ]
    }
   ],
   "source": [
    "options(scipen=999)\n",
    "suppressPackageStartupMessages(library(data.table))\n",
    "suppressPackageStartupMessages(library(dplyr))\n",
    "suppressPackageStartupMessages(library(ggplot2))\n",
    "suppressPackageStartupMessages(library(purrr))\n",
    "suppressPackageStartupMessages(library(tidyr))"
   ]
  },
  {
   "cell_type": "code",
   "execution_count": 28,
   "id": "9b1b57a3",
   "metadata": {},
   "outputs": [],
   "source": [
    "#LD-clump files using 1000 genomes reference data\n",
    "diamante18_clump_1kg <- fread(\"/lustre/groups/itg/teams/zeggini/users/archit.singh/lambda/LD-clumpping/DIAMANTE-18/1kG_LD_clumpping/LD_threshold/plink.clumped\", header = T)\n",
    "diamante22_clump <- fread(\"/lustre/groups/itg/teams/zeggini/users/archit.singh/lambda/LD-clumpping/DIAMANTE-22/1kG_LD_clumpping/LD_threshold/plink.clumped\", header = T)\n",
    "#reading independent signals files\n",
    "ind_sig_diam18 <- fread(\"/lustre/groups/itg/teams/zeggini/users/archit.singh/lambda/independent_signals_analysis/DIAMANTE-18/diamante18_independent_signals_with_nearest_gene_ST2.txt\")\n",
    "model_diam18 <- fread(\"/lustre/groups/itg/teams/zeggini/users/archit.singh/lambda/independent_signals_analysis/DIAMANTE-18/bmi_model_info.txt\", header = TRUE)\n",
    "signal_type_diam18 <- fread(\"/lustre/groups/itg/teams/zeggini/users/archit.singh/lambda/independent_signals_analysis/DIAMANTE-18/primary_secondary_signal.txt\", header = TRUE)\n",
    "ind_sig_diam22 <- fread(\"/lustre/groups/itg/teams/zeggini/users/archit.singh/lambda/independent_signals_analysis/DIAMANTE-22/independent_loci_genomic_positions_ST5_10-8GWS_cutoff.txt\", header = TRUE)\n",
    "ind_sig_diam22_index_snp_pos <- fread(\"/lustre/groups/itg/teams/zeggini/users/archit.singh/lambda/independent_signals_analysis/DIAMANTE-22/independent_loci_genomic_positions_ST5_index_SNPs.txt\", sep = \"\\t\")\n",
    "#reading unreplicated signals file\n",
    "unrep_diam18_diam22 <- fread(\"/lustre/groups/itg/teams/zeggini/users/archit.singh/lambda/independent_signals_analysis/DIAMANTE-18/new_analysis_unreplicated_diam18_diam22.txt\", header = TRUE)\n",
    "unrep_diam18_t2dggi <- fread(\"/lustre/groups/itg/teams/zeggini/users/archit.singh/lambda/independent_signals_analysis/DIAMANTE-18/new_analysis_unreplicated_diam18_t2dggi.txt\", header = TRUE)\n",
    "unrep_diam22_t2dggi <- fread(\"/lustre/groups/itg/teams/zeggini/users/archit.singh/lambda/independent_signals_analysis/DIAMANTE-22/new_analysis_unreplicated_diam22_t2dggi.txt\", header = TRUE)\n",
    "#combining the files into one DF\n",
    "ind_signals_diam18 <- cbind(ind_sig_diam18, model_diam18, signal_type_diam18)\n",
    "#processing the data\n",
    "#Diamante-18 independent signals\n",
    "ind_signals_diam18$position <- gsub(\".\",\"\", ind_signals_diam18$position, fixed = TRUE)\n",
    "ind_signals_diam18 <- subset(ind_signals_diam18, ind_signals_diam18$BMI.model == \"unadjusted\")\n",
    "ind_signals_diam18 <- subset(ind_signals_diam18, ind_signals_diam18$signal_type == \"Primary\")\n",
    "ind_signals_diam18$id <- paste0(ind_signals_diam18$chr, \":\", ind_signals_diam18$position)\n",
    "#Diamante-22 independent signals\n",
    "ind_sig_diam22$start <- substr(ind_sig_diam22$genomic_boundaries, 1, regexpr(\"-\", ind_sig_diam22$genomic_boundaries) - 1)\n",
    "ind_sig_diam22$end <- substring(ind_sig_diam22$genomic_boundaries, regexpr(\"-\", ind_sig_diam22$genomic_boundaries) + 1)\n",
    "ind_sig_diam22$start <- gsub(\",\",\"\", ind_sig_diam22$start, fixed = TRUE)\n",
    "ind_sig_diam22$end <- gsub(\",\",\"\", ind_sig_diam22$end, fixed = TRUE)\n",
    "ind_sig_diam22 <- cbind(ind_sig_diam22, ind_sig_diam22_index_snp_pos)\n",
    "ind_sig_diam22$position <- gsub(\",\",\"\", ind_sig_diam22$index_snp_position, fixed = TRUE)"
   ]
  },
  {
   "cell_type": "markdown",
   "id": "d2c334ae",
   "metadata": {},
   "source": [
    "#### Function to create boundaries for the LD-Clumps"
   ]
  },
  {
   "cell_type": "code",
   "execution_count": 3,
   "id": "acb5a5c3",
   "metadata": {},
   "outputs": [],
   "source": [
    "#creating boundaries from the LD-clump dataframe\n",
    "# Function to process the data\n",
    "process_clumps <- function(df) {\n",
    "  # Initialize new columns\n",
    "  df$start_position <- NA\n",
    "  df$end_position <- NA\n",
    "  \n",
    "  # Process each row\n",
    "  for (i in 1:nrow(df)) {\n",
    "    # Get the BP value\n",
    "    bp <- df$BP[i]\n",
    "    \n",
    "    # Check if SP2 is \"NONE\"\n",
    "    if (df$SP2[i] == \"NONE\") {\n",
    "      # Set start and end position to BP\n",
    "      df$start_position[i] <- bp\n",
    "      df$end_position[i] <- bp\n",
    "    } else {\n",
    "      # Extract positions from SP2 column\n",
    "      sp2_positions <- unlist(lapply(strsplit(df$SP2[i], \",\")[[1]], function(x) {\n",
    "        as.numeric(gsub(\"\\\\(.*\\\\)\", \"\", unlist(strsplit(x, \":\"))[2]))\n",
    "      }))\n",
    "      # Calculate start and end positions\n",
    "      df$start_position[i] <- min(c(bp, sp2_positions))\n",
    "      df$end_position[i] <- max(c(bp, sp2_positions))\n",
    "    }\n",
    "  }\n",
    "  \n",
    "  # Add clump column\n",
    "  df$clump <- paste(\"clump\", seq_len(nrow(df)), sep = \"_\")\n",
    "  \n",
    "  return(df)\n",
    "}\n"
   ]
  },
  {
   "cell_type": "code",
   "execution_count": 4,
   "id": "3ffc9efb",
   "metadata": {},
   "outputs": [],
   "source": [
    "# Process the data\n",
    "df <- diamante18_clump_1kg\n",
    "diamante18_clump_processed <- process_clumps(df)\n",
    "diamante18_clump_processed <- diamante18_clump_processed %>% select(CHR, SNP, BP, start_position, end_position, clump)\n",
    "df <- diamante22_clump\n",
    "diamante22_clump_processed <- process_clumps(df)\n",
    "diamante22_clump_processed <- diamante22_clump_processed %>% select(CHR, SNP, BP, start_position, end_position, clump)"
   ]
  },
  {
   "cell_type": "markdown",
   "id": "cc296e60",
   "metadata": {},
   "source": [
    "# SNPs lost due to GC correction"
   ]
  },
  {
   "cell_type": "markdown",
   "id": "691cbe4a",
   "metadata": {},
   "source": [
    "### Find which LD clumps the T2D index SNPs belong to: DIAMANTE-18"
   ]
  },
  {
   "cell_type": "markdown",
   "id": "b633c826",
   "metadata": {},
   "source": [
    "#### SNPs which do not find a match are assigned as single variant clumps, i.e. new_clump_{1...i}"
   ]
  },
  {
   "cell_type": "code",
   "execution_count": 5,
   "id": "8b5dddc5",
   "metadata": {},
   "outputs": [],
   "source": [
    "assign_clumps <- function(df1, df2) {\n",
    "  # Ensure column names are consistent\n",
    "  colnames(df1) <- tolower(colnames(df1))\n",
    "  colnames(df2) <- tolower(colnames(df2))\n",
    "  \n",
    "  # Add columns for clump details\n",
    "  df1$clump <- NA\n",
    "  df1$start_position <- NA\n",
    "  df1$end_position <- NA\n",
    "  \n",
    "  # Assign clumps based on df2\n",
    "  for (i in seq_len(nrow(df2))) {\n",
    "    idx <- df1$chr == df2$chr[i] & df1$position >= df2$start_position[i] & df1$position <= df2$end_position[i]\n",
    "    df1$clump[idx] <- df2$clump[i]\n",
    "    df1$start_position[idx] <- df2$start_position[i]\n",
    "    df1$end_position[idx] <- df2$end_position[i]\n",
    "  }\n",
    "  \n",
    "  # Assign new clumps to unmatched SNPs\n",
    "  unmatched <- is.na(df1$clump)\n",
    "  if (any(unmatched)) {\n",
    "    num_unmatched <- sum(unmatched)\n",
    "    df1$clump[unmatched] <- paste0(\"new_clump_\", seq_len(num_unmatched))\n",
    "    df1$start_position[unmatched] <- df1$position[unmatched]\n",
    "    df1$end_position[unmatched] <- df1$position[unmatched]\n",
    "  }\n",
    "  \n",
    "  return(df1)\n",
    "}\n"
   ]
  },
  {
   "cell_type": "code",
   "execution_count": 6,
   "id": "c0568494",
   "metadata": {},
   "outputs": [
    {
     "data": {
      "text/html": [
       "<table class=\"dataframe\">\n",
       "<caption>A data.table: 6 × 10</caption>\n",
       "<thead>\n",
       "\t<tr><th scope=col>nearest_gene</th><th scope=col>index_variant</th><th scope=col>chr</th><th scope=col>position</th><th scope=col>bmi.model</th><th scope=col>signal_type</th><th scope=col>id</th><th scope=col>clump</th><th scope=col>start_position</th><th scope=col>end_position</th></tr>\n",
       "\t<tr><th scope=col>&lt;chr&gt;</th><th scope=col>&lt;chr&gt;</th><th scope=col>&lt;int&gt;</th><th scope=col>&lt;chr&gt;</th><th scope=col>&lt;chr&gt;</th><th scope=col>&lt;chr&gt;</th><th scope=col>&lt;chr&gt;</th><th scope=col>&lt;chr&gt;</th><th scope=col>&lt;chr&gt;</th><th scope=col>&lt;chr&gt;</th></tr>\n",
       "</thead>\n",
       "<tbody>\n",
       "\t<tr><td>MACF1  </td><td>rs3768321  </td><td>1</td><td>40035928 </td><td>unadjusted</td><td>Primary</td><td>1:40035928 </td><td>clump_341  </td><td>39573219 </td><td>40037726 </td></tr>\n",
       "\t<tr><td>FAF1   </td><td>rs58432198 </td><td>1</td><td>51256091 </td><td>unadjusted</td><td>Primary</td><td>1:51256091 </td><td>clump_304  </td><td>50891117 </td><td>51532590 </td></tr>\n",
       "\t<tr><td>PATJ   </td><td>rs12140153 </td><td>1</td><td>62579891 </td><td>unadjusted</td><td>Primary</td><td>1:62579891 </td><td>clump_464  </td><td>62579891 </td><td>62579891 </td></tr>\n",
       "\t<tr><td>DENND2C</td><td>rs184660829</td><td>1</td><td>115144899</td><td>unadjusted</td><td>Primary</td><td>1:115144899</td><td>new_clump_1</td><td>115144899</td><td>115144899</td></tr>\n",
       "\t<tr><td>PTGFRN </td><td>rs1127215  </td><td>1</td><td>117532790</td><td>unadjusted</td><td>Primary</td><td>1:117532790</td><td>clump_179  </td><td>117491123</td><td>117568947</td></tr>\n",
       "\t<tr><td>NOTCH2 </td><td>rs1493694  </td><td>1</td><td>120526982</td><td>unadjusted</td><td>Primary</td><td>1:120526982</td><td>clump_112  </td><td>120436751</td><td>120581285</td></tr>\n",
       "</tbody>\n",
       "</table>\n"
      ],
      "text/latex": [
       "A data.table: 6 × 10\n",
       "\\begin{tabular}{llllllllll}\n",
       " nearest\\_gene & index\\_variant & chr & position & bmi.model & signal\\_type & id & clump & start\\_position & end\\_position\\\\\n",
       " <chr> & <chr> & <int> & <chr> & <chr> & <chr> & <chr> & <chr> & <chr> & <chr>\\\\\n",
       "\\hline\n",
       "\t MACF1   & rs3768321   & 1 & 40035928  & unadjusted & Primary & 1:40035928  & clump\\_341   & 39573219  & 40037726 \\\\\n",
       "\t FAF1    & rs58432198  & 1 & 51256091  & unadjusted & Primary & 1:51256091  & clump\\_304   & 50891117  & 51532590 \\\\\n",
       "\t PATJ    & rs12140153  & 1 & 62579891  & unadjusted & Primary & 1:62579891  & clump\\_464   & 62579891  & 62579891 \\\\\n",
       "\t DENND2C & rs184660829 & 1 & 115144899 & unadjusted & Primary & 1:115144899 & new\\_clump\\_1 & 115144899 & 115144899\\\\\n",
       "\t PTGFRN  & rs1127215   & 1 & 117532790 & unadjusted & Primary & 1:117532790 & clump\\_179   & 117491123 & 117568947\\\\\n",
       "\t NOTCH2  & rs1493694   & 1 & 120526982 & unadjusted & Primary & 1:120526982 & clump\\_112   & 120436751 & 120581285\\\\\n",
       "\\end{tabular}\n"
      ],
      "text/markdown": [
       "\n",
       "A data.table: 6 × 10\n",
       "\n",
       "| nearest_gene &lt;chr&gt; | index_variant &lt;chr&gt; | chr &lt;int&gt; | position &lt;chr&gt; | bmi.model &lt;chr&gt; | signal_type &lt;chr&gt; | id &lt;chr&gt; | clump &lt;chr&gt; | start_position &lt;chr&gt; | end_position &lt;chr&gt; |\n",
       "|---|---|---|---|---|---|---|---|---|---|\n",
       "| MACF1   | rs3768321   | 1 | 40035928  | unadjusted | Primary | 1:40035928  | clump_341   | 39573219  | 40037726  |\n",
       "| FAF1    | rs58432198  | 1 | 51256091  | unadjusted | Primary | 1:51256091  | clump_304   | 50891117  | 51532590  |\n",
       "| PATJ    | rs12140153  | 1 | 62579891  | unadjusted | Primary | 1:62579891  | clump_464   | 62579891  | 62579891  |\n",
       "| DENND2C | rs184660829 | 1 | 115144899 | unadjusted | Primary | 1:115144899 | new_clump_1 | 115144899 | 115144899 |\n",
       "| PTGFRN  | rs1127215   | 1 | 117532790 | unadjusted | Primary | 1:117532790 | clump_179   | 117491123 | 117568947 |\n",
       "| NOTCH2  | rs1493694   | 1 | 120526982 | unadjusted | Primary | 1:120526982 | clump_112   | 120436751 | 120581285 |\n",
       "\n"
      ],
      "text/plain": [
       "  nearest_gene index_variant chr position  bmi.model  signal_type id         \n",
       "1 MACF1        rs3768321     1   40035928  unadjusted Primary     1:40035928 \n",
       "2 FAF1         rs58432198    1   51256091  unadjusted Primary     1:51256091 \n",
       "3 PATJ         rs12140153    1   62579891  unadjusted Primary     1:62579891 \n",
       "4 DENND2C      rs184660829   1   115144899 unadjusted Primary     1:115144899\n",
       "5 PTGFRN       rs1127215     1   117532790 unadjusted Primary     1:117532790\n",
       "6 NOTCH2       rs1493694     1   120526982 unadjusted Primary     1:120526982\n",
       "  clump       start_position end_position\n",
       "1 clump_341   39573219       40037726    \n",
       "2 clump_304   50891117       51532590    \n",
       "3 clump_464   62579891       62579891    \n",
       "4 new_clump_1 115144899      115144899   \n",
       "5 clump_179   117491123      117568947   \n",
       "6 clump_112   120436751      120581285   "
      ]
     },
     "metadata": {},
     "output_type": "display_data"
    }
   ],
   "source": [
    "diam18_signals_loci <- assign_clumps(ind_signals_diam18, diamante18_clump_processed)\n",
    "head(diam18_signals_loci)"
   ]
  },
  {
   "cell_type": "markdown",
   "id": "4900879f",
   "metadata": {},
   "source": [
    "#### Find if DIAMANTE-18 unreplicated SNPs are \"tagged\" by T2D index SNPs, i.e. both belong to the same LD-clump"
   ]
  },
  {
   "cell_type": "code",
   "execution_count": 7,
   "id": "2c736b6e",
   "metadata": {},
   "outputs": [],
   "source": [
    "find_snps_in_loci <- function(unrep_diam18_diam22, diamante_18_loci) {\n",
    "  # Ensure data frames have required columns\n",
    "  if (!all(c(\"Chr\", \"Pos\") %in% colnames(unrep_diam18_diam22))) {\n",
    "    stop(\"df1 must have 'Chr' and 'Pos' columns\")\n",
    "  }\n",
    "  if (!all(c(\"chr\", \"start_position\", \"end_position\", \"clump\") %in% colnames(diamante_18_loci))) {\n",
    "    stop(\"df2 must have 'chr', 'start_position', 'end_position', and 'clump' columns\")\n",
    "  }\n",
    "  \n",
    "  # Initialize a list to store matching results\n",
    "  results <- list()\n",
    "  \n",
    "  # Loop through each row of df2\n",
    "  for (i in 1:nrow(diamante_18_loci)) {\n",
    "    loci_chr <- diamante_18_loci$chr[i]\n",
    "    loci_start <- diamante_18_loci$start_position[i]\n",
    "    loci_end <- diamante_18_loci$end_position[i]\n",
    "    clump <- diamante_18_loci$clump[i]\n",
    "    \n",
    "    # Filter df1 for SNPs in the same chromosome and position within range\n",
    "    matching_snps <- unrep_diam18_diam22[unrep_diam18_diam22$Chr == loci_chr & \n",
    "                                           unrep_diam18_diam22$Pos >= loci_start & \n",
    "                                           unrep_diam18_diam22$Pos <= loci_end, ]\n",
    "    \n",
    "    # Add indexSNP and clump_number to the matching results\n",
    "    matching_snps$id <- diamante_18_loci$id[i]\n",
    "    matching_snps$clump <- clump\n",
    "    \n",
    "    # Append to results\n",
    "    results[[i]] <- matching_snps\n",
    "  }\n",
    "  \n",
    "  # Combine all matching SNPs into a single data frame\n",
    "  final_results <- do.call(rbind, results)\n",
    "  return(final_results)\n",
    "}\n"
   ]
  },
  {
   "cell_type": "code",
   "execution_count": 8,
   "id": "a977eec1",
   "metadata": {},
   "outputs": [
    {
     "name": "stdout",
     "output_type": "stream",
     "text": [
      "No. of SNPs lost due to correction in the DIAMANTE-18 and DIAMANTE-22 comparison: 8359\n",
      "No. of SNPs not tagged by T2D loci in the DIAMANTE-18 and DIAMANTE-22 comparison: 2285\n",
      "No. of SNPs lost due to correction in the DIAMANTE-18 and T2DGGI comparison: 8937\n",
      "No. of SNPs not tagged by T2D loci in the DIAMANTE-18 and T2DGGI comparison: 2444"
     ]
    }
   ],
   "source": [
    "matching_snps_1 <- find_snps_in_loci(unrep_diam18_diam22, diam18_signals_loci)\n",
    "untag_diam18_diam22 <- anti_join(unrep_diam18_diam22, matching_snps_1, by = \"SNP\")\n",
    "cat(\"No. of SNPs lost due to correction in the DIAMANTE-18 and DIAMANTE-22 comparison:\", length(unique(unrep_diam18_diam22$SNP)))\n",
    "cat(\"\\n\")\n",
    "cat(\"No. of SNPs not tagged by T2D loci in the DIAMANTE-18 and DIAMANTE-22 comparison:\", length(unique(untag_diam18_diam22$SNP)))\n",
    "matching_snps_2 <- find_snps_in_loci(unrep_diam18_t2dggi, diam18_signals_loci)\n",
    "untag_diam18_t2dggi <- anti_join(unrep_diam18_t2dggi, matching_snps_2, by = \"SNP\")\n",
    "cat(\"\\n\")\n",
    "cat(\"No. of SNPs lost due to correction in the DIAMANTE-18 and T2DGGI comparison:\", length(unique(unrep_diam18_t2dggi$SNP)))\n",
    "cat(\"\\n\")\n",
    "cat(\"No. of SNPs not tagged by T2D loci in the DIAMANTE-18 and T2DGGI comparison:\", length(unique(untag_diam18_t2dggi$SNP)))"
   ]
  },
  {
   "cell_type": "markdown",
   "id": "70dd02f7",
   "metadata": {},
   "source": [
    "#### Removing LD-clumps where T2D loci are located"
   ]
  },
  {
   "cell_type": "code",
   "execution_count": 9,
   "id": "ce5f0adb",
   "metadata": {},
   "outputs": [
    {
     "name": "stdout",
     "output_type": "stream",
     "text": [
      "LD-clumps remaining: 370"
     ]
    }
   ],
   "source": [
    "diamante18_clump_processed_2 <- anti_join(diamante18_clump_processed, diam18_signals_loci, by = \"clump\")\n",
    "cat(\"LD-clumps remaining:\", length(unique(diamante18_clump_processed_2$SNP)))"
   ]
  },
  {
   "cell_type": "markdown",
   "id": "b52f533b",
   "metadata": {},
   "source": [
    "#### Identifying number of independent loci within the SNPs that are lost due to correction and not tagged by T2D loci"
   ]
  },
  {
   "cell_type": "code",
   "execution_count": 10,
   "id": "6039fb1d",
   "metadata": {},
   "outputs": [],
   "source": [
    "#renaming certain columns for the function\n",
    "untag_diam18_diam22 <- untag_diam18_diam22 %>% rename(chr = Chr)\n",
    "untag_diam18_diam22 <- untag_diam18_diam22 %>% rename(position = Pos)\n",
    "untag_diam18_t2dggi <- untag_diam18_t2dggi %>% rename(chr = Chr)\n",
    "untag_diam18_t2dggi <- untag_diam18_t2dggi %>% rename(position = Pos)"
   ]
  },
  {
   "cell_type": "code",
   "execution_count": 15,
   "id": "d21c6ae5",
   "metadata": {},
   "outputs": [
    {
     "name": "stdout",
     "output_type": "stream",
     "text": [
      "No. of SNPs not tagged by T2D loci in the DIAMANTE-18 and DIAMANTE-22 comparison: 1609\n",
      "No. of SNPs not tagged by T2D loci in the DIAMANTE-18 and T2DGGI comparison: 1799"
     ]
    }
   ],
   "source": [
    "# Remove SNPs on chromosome 6 within the range of the MHC complex\n",
    "untag_diam18_diam22 <- untag_diam18_diam22 %>%\n",
    "  filter(!(chr == 6 & position >= 28477797 & position <= 33448354))\n",
    "cat(\"No. of SNPs not tagged by T2D loci in the DIAMANTE-18 and DIAMANTE-22 comparison:\", length(unique(untag_diam18_diam22$SNP)))\n",
    "untag_diam18_t2dggi <- untag_diam18_t2dggi %>%\n",
    "  filter(!(chr == 6 & position >= 28477797 & position <= 33448354))\n",
    "cat(\"\\n\")\n",
    "cat(\"No. of SNPs not tagged by T2D loci in the DIAMANTE-18 and T2DGGI comparison:\", length(unique(untag_diam18_t2dggi$SNP)))"
   ]
  },
  {
   "cell_type": "code",
   "execution_count": 14,
   "id": "5c42ebd7",
   "metadata": {},
   "outputs": [
    {
     "name": "stdout",
     "output_type": "stream",
     "text": [
      "Total independent clumps found: 174\n",
      "Total independent clumps found: 181"
     ]
    }
   ],
   "source": [
    "#calling the function\n",
    "untag_diam18_diam22_processed <- assign_clumps(untag_diam18_diam22, diamante18_clump_processed_2)\n",
    "untag_diam18_t2dggi_processed <- assign_clumps(untag_diam18_t2dggi, diamante18_clump_processed_2)\n",
    "cat(\"Total independent clumps found:\", length(unique(untag_diam18_diam22_processed$clump)))\n",
    "cat(\"\\n\")\n",
    "cat(\"Total independent clumps found:\", length(unique(untag_diam18_t2dggi_processed$clump)))"
   ]
  },
  {
   "cell_type": "code",
   "execution_count": 20,
   "id": "02124115",
   "metadata": {},
   "outputs": [
    {
     "name": "stdout",
     "output_type": "stream",
     "text": [
      "In DIAMANTE-18 and DIAMANTE-22 comparison: 25\n",
      "In DIAMANTE-18 and T2DGGI comparison: 30"
     ]
    }
   ],
   "source": [
    "#how many untagged SNPs are single variant clumps?\n",
    "cat(\"In DIAMANTE-18 and DIAMANTE-22 comparison:\", sum(grepl(\"new_clump\", untag_diam18_diam22_processed$clump)))\n",
    "cat(\"\\n\")\n",
    "cat(\"In DIAMANTE-18 and T2DGGI comparison:\",sum(grepl(\"new_clump\", untag_diam18_t2dggi_processed$clump)))"
   ]
  },
  {
   "cell_type": "markdown",
   "id": "e546d260",
   "metadata": {},
   "source": [
    "### Find which LD clumps the T2D index SNPs belong to: DIAMANTE-22"
   ]
  },
  {
   "cell_type": "code",
   "execution_count": 29,
   "id": "4720420e",
   "metadata": {},
   "outputs": [
    {
     "data": {
      "text/html": [
       "<table class=\"dataframe\">\n",
       "<caption>A data.table: 6 × 9</caption>\n",
       "<thead>\n",
       "\t<tr><th scope=col>chr</th><th scope=col>genomic_boundaries</th><th scope=col>start</th><th scope=col>end</th><th scope=col>index_snp_position</th><th scope=col>position</th><th scope=col>clump</th><th scope=col>start_position</th><th scope=col>end_position</th></tr>\n",
       "\t<tr><th scope=col>&lt;int&gt;</th><th scope=col>&lt;chr&gt;</th><th scope=col>&lt;chr&gt;</th><th scope=col>&lt;chr&gt;</th><th scope=col>&lt;chr&gt;</th><th scope=col>&lt;chr&gt;</th><th scope=col>&lt;chr&gt;</th><th scope=col>&lt;chr&gt;</th><th scope=col>&lt;chr&gt;</th></tr>\n",
       "</thead>\n",
       "<tbody>\n",
       "\t<tr><td>1</td><td>20,229,451-21,229,451</td><td>20229451</td><td>21229451</td><td>20,729,451</td><td>20729451</td><td>new_clump_1</td><td>20729451</td><td>20729451</td></tr>\n",
       "\t<tr><td>1</td><td>39,370,793-40,370,793</td><td>39370793</td><td>40370793</td><td>39,870,793</td><td>39870793</td><td>clump_367  </td><td>39573219</td><td>40037726</td></tr>\n",
       "\t<tr><td>1</td><td>45,858,862-46,858,862</td><td>45858862</td><td>46858862</td><td>46,358,862</td><td>46358862</td><td>new_clump_2</td><td>46358862</td><td>46358862</td></tr>\n",
       "\t<tr><td>1</td><td>50,719,188-51,719,188</td><td>50719188</td><td>51719188</td><td>51,219,188</td><td>51219188</td><td>clump_306  </td><td>50891117</td><td>51532590</td></tr>\n",
       "\t<tr><td>1</td><td>62,079,891-63,079,891</td><td>62079891</td><td>63079891</td><td>62,579,891</td><td>62579891</td><td>clump_429  </td><td>62579891</td><td>62579891</td></tr>\n",
       "\t<tr><td>1</td><td>63,614,429-64,614,429</td><td>63614429</td><td>64614429</td><td>64,114,429</td><td>64114429</td><td>new_clump_3</td><td>64114429</td><td>64114429</td></tr>\n",
       "</tbody>\n",
       "</table>\n"
      ],
      "text/latex": [
       "A data.table: 6 × 9\n",
       "\\begin{tabular}{lllllllll}\n",
       " chr & genomic\\_boundaries & start & end & index\\_snp\\_position & position & clump & start\\_position & end\\_position\\\\\n",
       " <int> & <chr> & <chr> & <chr> & <chr> & <chr> & <chr> & <chr> & <chr>\\\\\n",
       "\\hline\n",
       "\t 1 & 20,229,451-21,229,451 & 20229451 & 21229451 & 20,729,451 & 20729451 & new\\_clump\\_1 & 20729451 & 20729451\\\\\n",
       "\t 1 & 39,370,793-40,370,793 & 39370793 & 40370793 & 39,870,793 & 39870793 & clump\\_367   & 39573219 & 40037726\\\\\n",
       "\t 1 & 45,858,862-46,858,862 & 45858862 & 46858862 & 46,358,862 & 46358862 & new\\_clump\\_2 & 46358862 & 46358862\\\\\n",
       "\t 1 & 50,719,188-51,719,188 & 50719188 & 51719188 & 51,219,188 & 51219188 & clump\\_306   & 50891117 & 51532590\\\\\n",
       "\t 1 & 62,079,891-63,079,891 & 62079891 & 63079891 & 62,579,891 & 62579891 & clump\\_429   & 62579891 & 62579891\\\\\n",
       "\t 1 & 63,614,429-64,614,429 & 63614429 & 64614429 & 64,114,429 & 64114429 & new\\_clump\\_3 & 64114429 & 64114429\\\\\n",
       "\\end{tabular}\n"
      ],
      "text/markdown": [
       "\n",
       "A data.table: 6 × 9\n",
       "\n",
       "| chr &lt;int&gt; | genomic_boundaries &lt;chr&gt; | start &lt;chr&gt; | end &lt;chr&gt; | index_snp_position &lt;chr&gt; | position &lt;chr&gt; | clump &lt;chr&gt; | start_position &lt;chr&gt; | end_position &lt;chr&gt; |\n",
       "|---|---|---|---|---|---|---|---|---|\n",
       "| 1 | 20,229,451-21,229,451 | 20229451 | 21229451 | 20,729,451 | 20729451 | new_clump_1 | 20729451 | 20729451 |\n",
       "| 1 | 39,370,793-40,370,793 | 39370793 | 40370793 | 39,870,793 | 39870793 | clump_367   | 39573219 | 40037726 |\n",
       "| 1 | 45,858,862-46,858,862 | 45858862 | 46858862 | 46,358,862 | 46358862 | new_clump_2 | 46358862 | 46358862 |\n",
       "| 1 | 50,719,188-51,719,188 | 50719188 | 51719188 | 51,219,188 | 51219188 | clump_306   | 50891117 | 51532590 |\n",
       "| 1 | 62,079,891-63,079,891 | 62079891 | 63079891 | 62,579,891 | 62579891 | clump_429   | 62579891 | 62579891 |\n",
       "| 1 | 63,614,429-64,614,429 | 63614429 | 64614429 | 64,114,429 | 64114429 | new_clump_3 | 64114429 | 64114429 |\n",
       "\n"
      ],
      "text/plain": [
       "  chr genomic_boundaries    start    end      index_snp_position position\n",
       "1 1   20,229,451-21,229,451 20229451 21229451 20,729,451         20729451\n",
       "2 1   39,370,793-40,370,793 39370793 40370793 39,870,793         39870793\n",
       "3 1   45,858,862-46,858,862 45858862 46858862 46,358,862         46358862\n",
       "4 1   50,719,188-51,719,188 50719188 51719188 51,219,188         51219188\n",
       "5 1   62,079,891-63,079,891 62079891 63079891 62,579,891         62579891\n",
       "6 1   63,614,429-64,614,429 63614429 64614429 64,114,429         64114429\n",
       "  clump       start_position end_position\n",
       "1 new_clump_1 20729451       20729451    \n",
       "2 clump_367   39573219       40037726    \n",
       "3 new_clump_2 46358862       46358862    \n",
       "4 clump_306   50891117       51532590    \n",
       "5 clump_429   62579891       62579891    \n",
       "6 new_clump_3 64114429       64114429    "
      ]
     },
     "metadata": {},
     "output_type": "display_data"
    }
   ],
   "source": [
    "diam22_signals_loci <- assign_clumps(ind_sig_diam22, diamante22_clump_processed)\n",
    "head(diam22_signals_loci)"
   ]
  },
  {
   "cell_type": "markdown",
   "id": "be6bb70f",
   "metadata": {},
   "source": [
    "#### Find if DIAMANTE-22 unreplicated SNPs are \"tagged\" by T2D index SNPs, i.e. both belong to the same LD-clump"
   ]
  },
  {
   "cell_type": "code",
   "execution_count": 30,
   "id": "693130e7",
   "metadata": {},
   "outputs": [
    {
     "name": "stdout",
     "output_type": "stream",
     "text": [
      "No. of SNPs lost due to correction in the DIAMANTE-22 and T2DGGI comparison: 10014\n",
      "No. of SNPs not tagged by T2D loci in the DIAMANTE-22 and T2DGGI comparison: 3334"
     ]
    }
   ],
   "source": [
    "#renaming certain columns for the function\n",
    "unrep_diam22_t2dggi <- unrep_diam22_t2dggi %>% rename(Chr = `chromosome(b37)`)\n",
    "unrep_diam22_t2dggi <- unrep_diam22_t2dggi %>% rename(Pos = `position(b37)`)\n",
    "matching_snps <- find_snps_in_loci(unrep_diam22_t2dggi, diam22_signals_loci)\n",
    "untag_diam22_t2dggi <- anti_join(unrep_diam22_t2dggi, matching_snps, by = \"rsID\")\n",
    "cat(\"No. of SNPs lost due to correction in the DIAMANTE-22 and T2DGGI comparison:\", length(unique(unrep_diam22_t2dggi$rsID)))\n",
    "cat(\"\\n\")\n",
    "cat(\"No. of SNPs not tagged by T2D loci in the DIAMANTE-22 and T2DGGI comparison:\", length(unique(untag_diam22_t2dggi$rsID)))"
   ]
  },
  {
   "cell_type": "markdown",
   "id": "7c25445c",
   "metadata": {},
   "source": [
    "#### Removing LD-clumps where T2D loci are located"
   ]
  },
  {
   "cell_type": "code",
   "execution_count": 31,
   "id": "ac8dd21e",
   "metadata": {},
   "outputs": [
    {
     "name": "stdout",
     "output_type": "stream",
     "text": [
      "LD-clumps remaining: 366"
     ]
    }
   ],
   "source": [
    "diamante22_clump_processed_2 <- anti_join(diamante22_clump_processed, diam22_signals_loci, by = \"clump\")\n",
    "cat(\"LD-clumps remaining:\", length(unique(diamante22_clump_processed_2$SNP)))"
   ]
  },
  {
   "cell_type": "markdown",
   "id": "6dfaaafc",
   "metadata": {},
   "source": [
    "#### Identifying number of independent loci within the SNPs that are lost due to correction and not tagged by T2D loci"
   ]
  },
  {
   "cell_type": "code",
   "execution_count": 32,
   "id": "406c3030",
   "metadata": {},
   "outputs": [],
   "source": [
    "#renaming certain columns for the function\n",
    "untag_diam22_t2dggi <- untag_diam22_t2dggi %>% rename(chr = Chr)\n",
    "untag_diam22_t2dggi <- untag_diam22_t2dggi %>% rename(position = Pos)"
   ]
  },
  {
   "cell_type": "code",
   "execution_count": 34,
   "id": "6f3015e0",
   "metadata": {},
   "outputs": [
    {
     "name": "stdout",
     "output_type": "stream",
     "text": [
      "No. of SNPs not tagged by T2D loci in the DIAMANTE-22 and T2DGGI comparison: 2593"
     ]
    }
   ],
   "source": [
    "# Remove SNPs on chromosome 6 within the range of the MHC complex\n",
    "untag_diam22_t2dggi <- untag_diam22_t2dggi %>%\n",
    "  filter(!(chr == 6 & position >= 28477797 & position <= 33448354))\n",
    "cat(\"No. of SNPs not tagged by T2D loci in the DIAMANTE-22 and T2DGGI comparison:\", length(unique(untag_diam22_t2dggi$rsID)))"
   ]
  },
  {
   "cell_type": "code",
   "execution_count": 35,
   "id": "9c54944d",
   "metadata": {},
   "outputs": [
    {
     "name": "stdout",
     "output_type": "stream",
     "text": [
      "Total independent clumps found: 447"
     ]
    }
   ],
   "source": [
    "untag_diam22_t2dggi_processed <- assign_clumps(untag_diam22_t2dggi, diamante22_clump_processed_2)\n",
    "cat(\"Total independent clumps found:\", length(unique(untag_diam22_t2dggi_processed$clump)))"
   ]
  },
  {
   "cell_type": "code",
   "execution_count": 36,
   "id": "dcbc5f2c",
   "metadata": {},
   "outputs": [
    {
     "name": "stdout",
     "output_type": "stream",
     "text": [
      "In DIAMANTE-22 and T2DGGI comparison: 277"
     ]
    }
   ],
   "source": [
    "#how many untagged SNPs are single variant clumps?\n",
    "cat(\"In DIAMANTE-22 and T2DGGI comparison:\",sum(grepl(\"new_clump\", untag_diam22_t2dggi_processed$clump)))"
   ]
  },
  {
   "cell_type": "markdown",
   "id": "eb48cd32",
   "metadata": {},
   "source": [
    "# SNPs lost due to LDSR intercept correction"
   ]
  },
  {
   "cell_type": "code",
   "execution_count": 37,
   "id": "e0c0c971",
   "metadata": {},
   "outputs": [],
   "source": [
    "#reading unreplicated files\n",
    "unrep_diam18_diam22 <- fread(\"/lustre/groups/itg/teams/zeggini/users/archit.singh/lambda/independent_signals_analysis/DIAMANTE-18/new_analysis_unreplicated_ldsr_intercept_diam18_diam22.txt\", header = TRUE)\n",
    "unrep_diam18_t2dggi <- fread(\"/lustre/groups/itg/teams/zeggini/users/archit.singh/lambda/independent_signals_analysis/DIAMANTE-18/new_analysis_unreplicated_ldsr_intercept_diam18_t2dggi.txt\", header = TRUE)\n",
    "unrep_diam22_t2dggi <- fread(\"/lustre/groups/itg/teams/zeggini/users/archit.singh/lambda/independent_signals_analysis/DIAMANTE-22/new_analysis_unreplicated_ldsr_intercept_diam22_t2dggi.txt\", header = TRUE)"
   ]
  },
  {
   "cell_type": "markdown",
   "id": "824be243",
   "metadata": {},
   "source": [
    "#### Find if DIAMANTE-18 unreplicated SNPs are \"tagged\" by T2D index SNPs, i.e. both belong to the same LD-clump"
   ]
  },
  {
   "cell_type": "code",
   "execution_count": 38,
   "id": "3d18595e",
   "metadata": {},
   "outputs": [
    {
     "name": "stdout",
     "output_type": "stream",
     "text": [
      "No. of SNPs lost due to correction in the DIAMANTE-18 and DIAMANTE-22 comparison: 2509\n",
      "No. of SNPs not tagged by T2D loci in the DIAMANTE-18 and DIAMANTE-22 comparison: 697\n",
      "No. of SNPs lost due to correction in the DIAMANTE-18 and T2DGGI comparison: 3117\n",
      "No. of SNPs not tagged by T2D loci in the DIAMANTE-18 and T2DGGI comparison: 838"
     ]
    }
   ],
   "source": [
    "matching_snps_1 <- find_snps_in_loci(unrep_diam18_diam22, diam18_signals_loci)\n",
    "untag_diam18_diam22 <- anti_join(unrep_diam18_diam22, matching_snps_1, by = \"SNP\")\n",
    "cat(\"No. of SNPs lost due to correction in the DIAMANTE-18 and DIAMANTE-22 comparison:\", length(unique(unrep_diam18_diam22$SNP)))\n",
    "cat(\"\\n\")\n",
    "cat(\"No. of SNPs not tagged by T2D loci in the DIAMANTE-18 and DIAMANTE-22 comparison:\", length(unique(untag_diam18_diam22$SNP)))\n",
    "matching_snps_2 <- find_snps_in_loci(unrep_diam18_t2dggi, diam18_signals_loci)\n",
    "untag_diam18_t2dggi <- anti_join(unrep_diam18_t2dggi, matching_snps_2, by = \"SNP\")\n",
    "cat(\"\\n\")\n",
    "cat(\"No. of SNPs lost due to correction in the DIAMANTE-18 and T2DGGI comparison:\", length(unique(unrep_diam18_t2dggi$SNP)))\n",
    "cat(\"\\n\")\n",
    "cat(\"No. of SNPs not tagged by T2D loci in the DIAMANTE-18 and T2DGGI comparison:\", length(unique(untag_diam18_t2dggi$SNP)))"
   ]
  },
  {
   "cell_type": "markdown",
   "id": "474fe29a",
   "metadata": {},
   "source": [
    "#### Identifying number of independent loci within the SNPs that are lost due to correction and not tagged by T2D loci"
   ]
  },
  {
   "cell_type": "code",
   "execution_count": 39,
   "id": "c2892179",
   "metadata": {},
   "outputs": [],
   "source": [
    "#renaming certain columns for the function\n",
    "untag_diam18_diam22 <- untag_diam18_diam22 %>% rename(chr = Chr)\n",
    "untag_diam18_diam22 <- untag_diam18_diam22 %>% rename(position = Pos)\n",
    "untag_diam18_t2dggi <- untag_diam18_t2dggi %>% rename(chr = Chr)\n",
    "untag_diam18_t2dggi <- untag_diam18_t2dggi %>% rename(position = Pos)"
   ]
  },
  {
   "cell_type": "code",
   "execution_count": 40,
   "id": "c2455216",
   "metadata": {},
   "outputs": [
    {
     "name": "stdout",
     "output_type": "stream",
     "text": [
      "No. of SNPs not tagged by T2D loci in the DIAMANTE-18 and DIAMANTE-22 comparison: 490\n",
      "No. of SNPs not tagged by T2D loci in the DIAMANTE-18 and T2DGGI comparison: 656"
     ]
    }
   ],
   "source": [
    "# Remove SNPs on chromosome 6 within the range of the MHC complex\n",
    "untag_diam18_diam22 <- untag_diam18_diam22 %>%\n",
    "  filter(!(chr == 6 & position >= 28477797 & position <= 33448354))\n",
    "cat(\"No. of SNPs not tagged by T2D loci in the DIAMANTE-18 and DIAMANTE-22 comparison:\", length(unique(untag_diam18_diam22$SNP)))\n",
    "untag_diam18_t2dggi <- untag_diam18_t2dggi %>%\n",
    "  filter(!(chr == 6 & position >= 28477797 & position <= 33448354))\n",
    "cat(\"\\n\")\n",
    "cat(\"No. of SNPs not tagged by T2D loci in the DIAMANTE-18 and T2DGGI comparison:\", length(unique(untag_diam18_t2dggi$SNP)))"
   ]
  },
  {
   "cell_type": "code",
   "execution_count": 41,
   "id": "01e3ed70",
   "metadata": {},
   "outputs": [
    {
     "name": "stdout",
     "output_type": "stream",
     "text": [
      "Total independent clumps found: 102\n",
      "Total independent clumps found: 113"
     ]
    }
   ],
   "source": [
    "#calling the function\n",
    "untag_diam18_diam22_processed <- assign_clumps(untag_diam18_diam22, diamante18_clump_processed_2)\n",
    "untag_diam18_t2dggi_processed <- assign_clumps(untag_diam18_t2dggi, diamante18_clump_processed_2)\n",
    "cat(\"Total independent clumps found:\", length(unique(untag_diam18_diam22_processed$clump)))\n",
    "cat(\"\\n\")\n",
    "cat(\"Total independent clumps found:\", length(unique(untag_diam18_t2dggi_processed$clump)))"
   ]
  },
  {
   "cell_type": "code",
   "execution_count": 42,
   "id": "2db25c61",
   "metadata": {},
   "outputs": [
    {
     "name": "stdout",
     "output_type": "stream",
     "text": [
      "In DIAMANTE-18 and DIAMANTE-22 comparison: 12\n",
      "In DIAMANTE-18 and T2DGGI comparison: 17"
     ]
    }
   ],
   "source": [
    "#how many untagged SNPs are single variant clumps?\n",
    "cat(\"In DIAMANTE-18 and DIAMANTE-22 comparison:\", sum(grepl(\"new_clump\", untag_diam18_diam22_processed$clump)))\n",
    "cat(\"\\n\")\n",
    "cat(\"In DIAMANTE-18 and T2DGGI comparison:\",sum(grepl(\"new_clump\", untag_diam18_t2dggi_processed$clump)))"
   ]
  },
  {
   "cell_type": "markdown",
   "id": "f2577b3d",
   "metadata": {},
   "source": [
    "#### Find if DIAMANTE-22 unreplicated SNPs are \"tagged\" by T2D index SNPs, i.e. both belong to the same LD-clump"
   ]
  },
  {
   "cell_type": "code",
   "execution_count": 43,
   "id": "29d874fd",
   "metadata": {},
   "outputs": [
    {
     "name": "stdout",
     "output_type": "stream",
     "text": [
      "No. of SNPs lost due to correction in the DIAMANTE-22 and T2DGGI comparison: 3041\n",
      "No. of SNPs not tagged by T2D loci in the DIAMANTE-22 and T2DGGI comparison: 1179"
     ]
    }
   ],
   "source": [
    "#renaming certain columns for the function\n",
    "unrep_diam22_t2dggi <- unrep_diam22_t2dggi %>% rename(Chr = `chromosome(b37)`)\n",
    "unrep_diam22_t2dggi <- unrep_diam22_t2dggi %>% rename(Pos = `position(b37)`)\n",
    "matching_snps <- find_snps_in_loci(unrep_diam22_t2dggi, diam22_signals_loci)\n",
    "untag_diam22_t2dggi <- anti_join(unrep_diam22_t2dggi, matching_snps, by = \"rsID\")\n",
    "cat(\"No. of SNPs lost due to correction in the DIAMANTE-22 and T2DGGI comparison:\", length(unique(unrep_diam22_t2dggi$rsID)))\n",
    "cat(\"\\n\")\n",
    "cat(\"No. of SNPs not tagged by T2D loci in the DIAMANTE-22 and T2DGGI comparison:\", length(unique(untag_diam22_t2dggi$rsID)))"
   ]
  },
  {
   "cell_type": "markdown",
   "id": "7b293377",
   "metadata": {},
   "source": [
    "#### Identifying number of independent loci within the SNPs that are lost due to correction and not tagged by T2D loci"
   ]
  },
  {
   "cell_type": "code",
   "execution_count": 44,
   "id": "1d8f80b2",
   "metadata": {},
   "outputs": [],
   "source": [
    "#renaming certain columns for the function\n",
    "untag_diam22_t2dggi <- untag_diam22_t2dggi %>% rename(chr = Chr)\n",
    "untag_diam22_t2dggi <- untag_diam22_t2dggi %>% rename(position = Pos)"
   ]
  },
  {
   "cell_type": "code",
   "execution_count": 45,
   "id": "55827b0f",
   "metadata": {},
   "outputs": [
    {
     "name": "stdout",
     "output_type": "stream",
     "text": [
      "No. of SNPs not tagged by T2D loci in the DIAMANTE-22 and T2DGGI comparison: 1068"
     ]
    }
   ],
   "source": [
    "# Remove SNPs on chromosome 6 within the range of the MHC complex\n",
    "untag_diam22_t2dggi <- untag_diam22_t2dggi %>%\n",
    "  filter(!(chr == 6 & position >= 28477797 & position <= 33448354))\n",
    "cat(\"No. of SNPs not tagged by T2D loci in the DIAMANTE-22 and T2DGGI comparison:\", length(unique(untag_diam22_t2dggi$rsID)))"
   ]
  },
  {
   "cell_type": "code",
   "execution_count": 46,
   "id": "d16bd56c",
   "metadata": {},
   "outputs": [
    {
     "name": "stdout",
     "output_type": "stream",
     "text": [
      "Total independent clumps found: 329"
     ]
    }
   ],
   "source": [
    "untag_diam22_t2dggi_processed <- assign_clumps(untag_diam22_t2dggi, diamante22_clump_processed_2)\n",
    "cat(\"Total independent clumps found:\", length(unique(untag_diam22_t2dggi_processed$clump)))"
   ]
  },
  {
   "cell_type": "code",
   "execution_count": 47,
   "id": "630fd72a",
   "metadata": {},
   "outputs": [
    {
     "name": "stdout",
     "output_type": "stream",
     "text": [
      "In DIAMANTE-22 and T2DGGI comparison: 227"
     ]
    }
   ],
   "source": [
    "#how many untagged SNPs are single variant clumps?\n",
    "cat(\"In DIAMANTE-22 and T2DGGI comparison:\",sum(grepl(\"new_clump\", untag_diam22_t2dggi_processed$clump)))"
   ]
  }
 ],
 "metadata": {
  "kernelspec": {
   "display_name": "R",
   "language": "R",
   "name": "ir"
  },
  "language_info": {
   "codemirror_mode": "r",
   "file_extension": ".r",
   "mimetype": "text/x-r-source",
   "name": "R",
   "pygments_lexer": "r",
   "version": "4.2.0"
  }
 },
 "nbformat": 4,
 "nbformat_minor": 5
}
